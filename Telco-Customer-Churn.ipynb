{
 "cells": [
  {
   "attachments": {},
   "cell_type": "markdown",
   "metadata": {},
   "source": [
    "# **Telco Customer Churn Prediction**\n"
   ]
  },
  {
   "attachments": {},
   "cell_type": "markdown",
   "metadata": {},
   "source": [
    "## Project Content\n",
    "\n",
    "<a id = 0></a>\n"
   ]
  },
  {
   "attachments": {},
   "cell_type": "markdown",
   "metadata": {},
   "source": [
    "### First Step: First Organization\n",
    "\n",
    "1. [Introduction](#1)\n",
    "2. [Loading libraries and packages to embark our new journey](#2)\n",
    "3. [Loading and Checking The Dataset](#3)\n",
    "\n",
    "### Second Step: Data Preprocessing\n",
    "\n",
    "4. [Exploratory Data Analysis](#4)\n",
    "5. [Numeric Fields Analysis](#5)\n",
    "6. [Categorical Fields Analysis](#6)\n",
    "7. [Feature Scaling](#7)\n",
    "8. [Correlation Analysis](#8)\n",
    "9. [Dealing with Outliers](#9)\n",
    "10. [Determining Distributions of Numeric Fields](#10)\n",
    "11. [Appllying One Hot Encoding to Categorical Fields](#11)\n",
    "12. [Feature Scaling with The RobustScaler Method](#12)\n",
    "13. [Seperating Data into Two Parts of Train and Test](#13)\n",
    "\n",
    "### Third and Final Step: Modeling\n",
    "\n",
    "16. [Modelling (Logistic Regression)](#16)\n",
    "17. [Cross Validation (Logistic Regression)](#17)\n",
    "18. [AUC-ROC Curve (Logistic Regression)](#18)\n",
    "19. [Hyper Parameter Optimization (Logistic Regression)](#19)\n",
    "20. [Modelling (Decision Tree)](#20)\n",
    "21. [Cross Validation (Decision Tree)](#21)\n",
    "22. [AUC-ROC Curve (Decision Tree)](#22)\n",
    "23. [Hyper Parameter Optimization (Decision Tree)](#23)\n",
    "24. [Modelling (Support Vector Classifier)](#24)\n",
    "25. [Cross Validation (Support Vector Classifier)](#25)\n",
    "26. [AUC-ROC Curve (Support Vector Classifier)](#26)\n",
    "27. [Hyper Parameter Optimization (Support Vector Classifier)](#27)\n",
    "28. [Modelling (Random Forest)](#28)\n",
    "29. [Cross Validation (Support Vector Classifier)](#29)\n",
    "30. [AUC-ROC Curve (Support Vector Classifier)](#30)\n",
    "31. [Hyper Parameter Optimization (Support Vector Classifier)](#31)\n"
   ]
  },
  {
   "attachments": {},
   "cell_type": "markdown",
   "metadata": {},
   "source": [
    "## 1. Introduction <a id = 1></a>\n"
   ]
  },
  {
   "attachments": {},
   "cell_type": "markdown",
   "metadata": {},
   "source": [
    "Text\n"
   ]
  },
  {
   "attachments": {},
   "cell_type": "markdown",
   "metadata": {},
   "source": [
    "[Project Content](#0)\n"
   ]
  },
  {
   "attachments": {},
   "cell_type": "markdown",
   "metadata": {},
   "source": [
    "## 2. Loading libraries and packages to embark our new journey <a id = 2></a>\n"
   ]
  },
  {
   "cell_type": "code",
   "execution_count": 43,
   "metadata": {},
   "outputs": [],
   "source": [
    "# Basic Python Packages\n",
    "\n",
    "import warnings\n",
    "warnings.filterwarnings(\"ignore\")\n",
    "\n",
    "# Numpy Library\n",
    "\n",
    "import numpy as np\n",
    "\n",
    "# Pandas Library and Settings\n",
    "\n",
    "import pandas as pd\n",
    "pd.set_option(\"max_columns\", None)\n",
    "pd.options.display.max_colwidth = 100\n",
    "\n",
    "# Visualization Libraries (Matplotlib, Seaborn, Missingno)\n",
    "\n",
    "import matplotlib.pyplot as plt\n",
    "import seaborn as sns\n",
    "import missingno\n",
    "\n",
    "%matplotlib inline"
   ]
  },
  {
   "cell_type": "code",
   "execution_count": 44,
   "metadata": {},
   "outputs": [],
   "source": [
    "def f_num_unique_values(dataframe, fields = None):\n",
    "    \"\"\"\n",
    "    By this function we can check how many unique values each field has\n",
    "\n",
    "    Args:\n",
    "        dataframe (pandas.core.frame.DataFrame): The main dataframe\n",
    "        fields (list): The fields we want to check number of their unique values\n",
    "    \"\"\"\n",
    "    \n",
    "    num_unique_values_df = pd.DataFrame(columns = [\"Field_Name\", \"Unique_Values_Num\"])\n",
    "\n",
    "    if fields == None:\n",
    "        fields = dataframe.columns\n",
    "        \n",
    "    num_unique_values = []\n",
    "\n",
    "    for field in fields:\n",
    "        \n",
    "        num_unique_values += [dataframe[field].nunique()]\n",
    "        \n",
    "    num_unique_values_df[\"Field_Name\"] = fields\n",
    "    num_unique_values_df[\"Unique_Values_Num\"] = num_unique_values\n",
    "        \n",
    "    return num_unique_values_df"
   ]
  },
  {
   "cell_type": "code",
   "execution_count": 45,
   "metadata": {},
   "outputs": [],
   "source": [
    "def f_unique_values(dataframe, fields):\n",
    "    \"\"\"\n",
    "    By this function we can get a dataframe and categorical fields and show a dataframe of unique values of each field.\n",
    "\n",
    "    Args:\n",
    "        dataframe (pandas.core.frame.DataFrame): The main dataframe\n",
    "        fields (list): The fields we want to check their unique values\n",
    "        \n",
    "    Returns:\n",
    "        unique_values_df (pandas.core.frame.DataFrame): A dataframe of fields and their unique values\n",
    "    \"\"\"\n",
    "    \n",
    "    unique_values_df = pd.DataFrame(columns = [\"Field_Name\", \"Unique_Values\"])\n",
    "\n",
    "    fields_list = []\n",
    "    unique_values_list = []\n",
    "\n",
    "    for field in fields:\n",
    "\n",
    "        fields_list += [field]\n",
    "        field_unique_values_list = list(dataframe[field].unique())\n",
    "            \n",
    "        unique_values_str = \"\"\n",
    "            \n",
    "        for values_str in field_unique_values_list:\n",
    "            if field_unique_values_list.index(values_str) != len(field_unique_values_list) - 1:\n",
    "                unique_values_str += str(values_str) + \" | \"\n",
    "            else:\n",
    "                unique_values_str += str(values_str)                 \n",
    "            \n",
    "        unique_values_list += [unique_values_str]\n",
    "        \n",
    "    unique_values_df[\"Field_Name\"] = fields_list\n",
    "    unique_values_df[\"Unique_Values\"] = unique_values_list\n",
    "        \n",
    "    return unique_values_df"
   ]
  },
  {
   "cell_type": "code",
   "execution_count": 46,
   "metadata": {},
   "outputs": [],
   "source": [
    "def f_cat_to_int(dataframe, fields = None):\n",
    "    \"\"\"\n",
    "    This function helps to change categorical fields' values to numerical format.\n",
    "\n",
    "    Args:\n",
    "        dataframe (pandas.core.frame.DataFrame): The main dataframe\n",
    "        fields (list): The fields which we want to duplicate a integer format of them\n",
    "\n",
    "    Returns:\n",
    "        dataframe (pandas.core.frame.DataFrame): A dataframe which categorical fields have integer values\n",
    "    \"\"\"\n",
    "    \n",
    "    if fields == None:\n",
    "        fields = list(dataframe.columns)\n",
    "        \n",
    "    cat_dict = {}\n",
    "\n",
    "    for field in fields:\n",
    "        \n",
    "        cat_dict[field + \"_str\"] = list(dataframe[field].unique())\n",
    "        cat_dict[field + \"_int\"] = [i for i in range(0, len(list(dataframe[field].unique())))]\n",
    "\n",
    "        dataframe[field + \"_int\"] = dataframe[field]\n",
    "        dataframe[field + \"_int\"].replace(cat_dict[field + \"_str\"], cat_dict[field + \"_int\"], inplace = True)\n",
    "        \n",
    "    return dataframe"
   ]
  },
  {
   "cell_type": "code",
   "execution_count": 47,
   "metadata": {},
   "outputs": [],
   "source": [
    "def f_sorted_correlations(dataframe, fields = None, omited_fields = None, target_field = None, cat_num = None):\n",
    "    \"\"\"\n",
    "    This function get a dataframe and fields to create a dataframe of correlation based on our demands.\n",
    "    It can show a dataframe of correlations between each two fields in a sorted manner and also it can show a one row sorted correlation values between non-target fields and the target.\n",
    "\n",
    "    Args:\n",
    "        dataframe (pandas.core.frame.DataFrame): The main dataframe\n",
    "        fields (list, optional): The fields we want to check their correlation\n",
    "        omited_fields (list, optional): The fields we dont want to check their correlation\n",
    "        target_field (list, optional): The target field we want to check its correlation with other fields\n",
    "        cat_num (list, optional): The target field we want to check its correlation with other fields\n",
    "        \n",
    "    Returns:\n",
    "        corr_df (pandas.core.frame.DataFrame): Final correlation matrix\n",
    "    \"\"\"\n",
    "    \n",
    "    if fields == None:\n",
    "        fields = list(dataframe.columns)\n",
    "    \n",
    "    corr_dict = {}\n",
    "    all_correlation_df = dataframe[fields].corr()\n",
    "    \n",
    "    if cat_num == None:\n",
    "        \n",
    "        if omited_fields != None:\n",
    "            all_correlation_df.drop(omited_fields, axis = 0, inplace = True)\n",
    "            all_correlation_df.drop(omited_fields, axis = 1, inplace = True)\n",
    "        \n",
    "        if target_field == None:\n",
    "            for row in range(0, len(list(all_correlation_df.columns))):\n",
    "                for column in range(row, len(list(all_correlation_df.columns))):\n",
    "                    if row < column:\n",
    "                        corr_dict[f\"{list(all_correlation_df.columns)[row]}, {list(all_correlation_df.columns)[column]}\"] = all_correlation_df.iloc[row, column]\n",
    "\n",
    "            corr_df = pd.DataFrame(columns = [\"Fields\", \"Correlation_Value\"])\n",
    "\n",
    "            corr_df[\"Fields\"] = list(corr_dict.keys())\n",
    "            corr_df[\"Correlation_Value\"] = list(corr_dict.values())\n",
    "            corr_df.sort_values(by = \"Correlation_Value\", inplace = True)\n",
    "            \n",
    "        else:\n",
    "            corr_df = all_correlation_df[[target_field]]\n",
    "            corr_df = corr_df.sort_values(by = target_field)\n",
    "            corr_df.drop(target_field, axis = 0, inplace = True)\n",
    "            corr_df = corr_df.T\n",
    "            \n",
    "    else:\n",
    "        \n",
    "        corr_df = ((dataframe[cat_num[0] + cat_num[1]].corr()[cat_num[0]]).T)[cat_num[1]]\n",
    "\n",
    "    return corr_df"
   ]
  },
  {
   "cell_type": "code",
   "execution_count": 48,
   "metadata": {},
   "outputs": [],
   "source": [
    "def f_vif_function(dataframe, omited_fields = None):\n",
    "    \"\"\"\n",
    "    This function show a dataframe with sorted values of VIF of each field.\n",
    "\n",
    "    Args:\n",
    "        dataframe (pandas.core.frame.DataFrame): The main dataframe\n",
    "        omited_fields (list, optional): The fields we dont want to check their correlation\n",
    "                \n",
    "    Returns:\n",
    "        vif_info (pandas.core.frame.DataFrame): _description_\n",
    "    \"\"\"\n",
    "    \n",
    "    if omited_fields != None:\n",
    "        dataframe.drop(omited_fields, axis = 1, inplace = True)\n",
    "        \n",
    "    vif_dict = {}\n",
    "    \n",
    "    vif_dict[\"VIF\"] = [variance_inflation_factor(dataframe.values, i) for i in range(dataframe.shape[1])]\n",
    "    vif_df = ((pd.DataFrame(vif_dict, index = dataframe.columns)).sort_values(by = \"VIF\").T)\n",
    "    \n",
    "    return vif_df"
   ]
  },
  {
   "cell_type": "code",
   "execution_count": 49,
   "metadata": {},
   "outputs": [],
   "source": [
    "def f_train_dev_split(dataframe, target_field):\n",
    "    \"\"\"\n",
    "    This function gets a dataframe and split it into two train and development dataframes.\n",
    "\n",
    "    Args:\n",
    "        dataframe (pandas.core.frame.DataFrame): The main dataframe\n",
    "        target_field (sring): The field we want to create the linear regression model based on that\n",
    "\n",
    "    Returns:\n",
    "        x_train, x_develop, y_train, y_develop (pandas.core.frame.DataFrame): Anything we want for modeling\n",
    "    \"\"\"\n",
    "    \n",
    "    x = dataframe.drop([target_field], axis = 1)\n",
    "    y = dataframe[target_field]\n",
    "    \n",
    "    x_train, x_develop, y_train, y_develop = train_test_split(x, y, test_size = 0.20, random_state = 3)\n",
    "\n",
    "    print(f\"Train (x) dataset shape is:      {x_train.shape}\")\n",
    "    print(f\"Train (y) dataset shape is:      {y_train.shape}\")\n",
    "\n",
    "    print(f\"Dev (x) dataset shape is:       {x_develop.shape}\")\n",
    "    print(f\"Dev (y) dataset shape is:       {y_develop.shape}\")\n",
    "    \n",
    "    return x_train, x_develop, y_train, y_develop"
   ]
  },
  {
   "cell_type": "code",
   "execution_count": 50,
   "metadata": {},
   "outputs": [],
   "source": [
    "def f_linear_regression(train , dev):\n",
    "    \"\"\"\n",
    "    This function has been defined to model a linear regression and show R squared value of train and development datasets.\n",
    "\n",
    "    Args:\n",
    "        train (list): A list of both x and y dataframes for training the model\n",
    "        dev (list): A list of both x and y dataframes for checking the model\n",
    "\n",
    "    Returns:\n",
    "        results (pandas.core.frame.DataFrame): R squared value of the model of both train and dev datasets\n",
    "    \"\"\"\n",
    "    \n",
    "    model = LinearRegression()\n",
    "    model.fit(train[0], train[1])\n",
    "    \n",
    "    results = pd.DataFrame(columns = [\"Train\", \"Dev\"], index = [\"R Squared\"])\n",
    "    results[\"Train\"] = [model.score(train[0], train[1])]\n",
    "    results[\"Dev\"] = [model.score(dev[0], dev[1])]\n",
    "    \n",
    "    fields = list((train[0]).columns)\n",
    "    coefficients = list(model.coef_)\n",
    "    coefficients_dict = {fields[i]: coefficients[i] for i in range(len(fields))}\n",
    "    sorted_coefficients_dict = sorted(coefficients_dict.items(), key = lambda x : x[1])\n",
    "    \n",
    "    intercept = model.intercept_\n",
    "    \n",
    "    print(f\"Coefficients values:\")\n",
    "    \n",
    "    for i in range(len(fields)):\n",
    "        print(f\"    * {sorted_coefficients_dict[i][0]} : {round((sorted_coefficients_dict[i][1]), 2)}\")\n",
    "    \n",
    "    print(f\"\\nInetrcept: {model.intercept_}\\n\")\n",
    "    \n",
    "    return results"
   ]
  },
  {
   "attachments": {},
   "cell_type": "markdown",
   "metadata": {},
   "source": [
    "[Project Content](#0)\n"
   ]
  },
  {
   "attachments": {},
   "cell_type": "markdown",
   "metadata": {},
   "source": [
    "## 3. Loading and Checking The Dataset <a id = 3></a>\n"
   ]
  },
  {
   "attachments": {},
   "cell_type": "markdown",
   "metadata": {},
   "source": [
    "### Loading The Dataset\n"
   ]
  },
  {
   "cell_type": "code",
   "execution_count": 51,
   "metadata": {},
   "outputs": [],
   "source": [
    "df = pd.read_csv(\"Telco-Customer-Churn.csv\")"
   ]
  },
  {
   "attachments": {},
   "cell_type": "markdown",
   "metadata": {},
   "source": [
    "### Checking The Dataset\n"
   ]
  },
  {
   "cell_type": "code",
   "execution_count": 52,
   "metadata": {},
   "outputs": [
    {
     "data": {
      "text/html": [
       "<div>\n",
       "<style scoped>\n",
       "    .dataframe tbody tr th:only-of-type {\n",
       "        vertical-align: middle;\n",
       "    }\n",
       "\n",
       "    .dataframe tbody tr th {\n",
       "        vertical-align: top;\n",
       "    }\n",
       "\n",
       "    .dataframe thead th {\n",
       "        text-align: right;\n",
       "    }\n",
       "</style>\n",
       "<table border=\"1\" class=\"dataframe\">\n",
       "  <thead>\n",
       "    <tr style=\"text-align: right;\">\n",
       "      <th></th>\n",
       "      <th>customerID</th>\n",
       "      <th>gender</th>\n",
       "      <th>SeniorCitizen</th>\n",
       "      <th>Partner</th>\n",
       "      <th>Dependents</th>\n",
       "      <th>tenure</th>\n",
       "      <th>PhoneService</th>\n",
       "      <th>MultipleLines</th>\n",
       "      <th>InternetService</th>\n",
       "      <th>OnlineSecurity</th>\n",
       "      <th>OnlineBackup</th>\n",
       "      <th>DeviceProtection</th>\n",
       "      <th>TechSupport</th>\n",
       "      <th>StreamingTV</th>\n",
       "      <th>StreamingMovies</th>\n",
       "      <th>Contract</th>\n",
       "      <th>PaperlessBilling</th>\n",
       "      <th>PaymentMethod</th>\n",
       "      <th>MonthlyCharges</th>\n",
       "      <th>TotalCharges</th>\n",
       "      <th>Churn</th>\n",
       "    </tr>\n",
       "  </thead>\n",
       "  <tbody>\n",
       "    <tr>\n",
       "      <th>0</th>\n",
       "      <td>7590-VHVEG</td>\n",
       "      <td>Female</td>\n",
       "      <td>0</td>\n",
       "      <td>Yes</td>\n",
       "      <td>No</td>\n",
       "      <td>1</td>\n",
       "      <td>No</td>\n",
       "      <td>No phone service</td>\n",
       "      <td>DSL</td>\n",
       "      <td>No</td>\n",
       "      <td>Yes</td>\n",
       "      <td>No</td>\n",
       "      <td>No</td>\n",
       "      <td>No</td>\n",
       "      <td>No</td>\n",
       "      <td>Month-to-month</td>\n",
       "      <td>Yes</td>\n",
       "      <td>Electronic check</td>\n",
       "      <td>29.85</td>\n",
       "      <td>29.85</td>\n",
       "      <td>No</td>\n",
       "    </tr>\n",
       "    <tr>\n",
       "      <th>1</th>\n",
       "      <td>5575-GNVDE</td>\n",
       "      <td>Male</td>\n",
       "      <td>0</td>\n",
       "      <td>No</td>\n",
       "      <td>No</td>\n",
       "      <td>34</td>\n",
       "      <td>Yes</td>\n",
       "      <td>No</td>\n",
       "      <td>DSL</td>\n",
       "      <td>Yes</td>\n",
       "      <td>No</td>\n",
       "      <td>Yes</td>\n",
       "      <td>No</td>\n",
       "      <td>No</td>\n",
       "      <td>No</td>\n",
       "      <td>One year</td>\n",
       "      <td>No</td>\n",
       "      <td>Mailed check</td>\n",
       "      <td>56.95</td>\n",
       "      <td>1889.5</td>\n",
       "      <td>No</td>\n",
       "    </tr>\n",
       "    <tr>\n",
       "      <th>2</th>\n",
       "      <td>3668-QPYBK</td>\n",
       "      <td>Male</td>\n",
       "      <td>0</td>\n",
       "      <td>No</td>\n",
       "      <td>No</td>\n",
       "      <td>2</td>\n",
       "      <td>Yes</td>\n",
       "      <td>No</td>\n",
       "      <td>DSL</td>\n",
       "      <td>Yes</td>\n",
       "      <td>Yes</td>\n",
       "      <td>No</td>\n",
       "      <td>No</td>\n",
       "      <td>No</td>\n",
       "      <td>No</td>\n",
       "      <td>Month-to-month</td>\n",
       "      <td>Yes</td>\n",
       "      <td>Mailed check</td>\n",
       "      <td>53.85</td>\n",
       "      <td>108.15</td>\n",
       "      <td>Yes</td>\n",
       "    </tr>\n",
       "    <tr>\n",
       "      <th>3</th>\n",
       "      <td>7795-CFOCW</td>\n",
       "      <td>Male</td>\n",
       "      <td>0</td>\n",
       "      <td>No</td>\n",
       "      <td>No</td>\n",
       "      <td>45</td>\n",
       "      <td>No</td>\n",
       "      <td>No phone service</td>\n",
       "      <td>DSL</td>\n",
       "      <td>Yes</td>\n",
       "      <td>No</td>\n",
       "      <td>Yes</td>\n",
       "      <td>Yes</td>\n",
       "      <td>No</td>\n",
       "      <td>No</td>\n",
       "      <td>One year</td>\n",
       "      <td>No</td>\n",
       "      <td>Bank transfer (automatic)</td>\n",
       "      <td>42.30</td>\n",
       "      <td>1840.75</td>\n",
       "      <td>No</td>\n",
       "    </tr>\n",
       "    <tr>\n",
       "      <th>4</th>\n",
       "      <td>9237-HQITU</td>\n",
       "      <td>Female</td>\n",
       "      <td>0</td>\n",
       "      <td>No</td>\n",
       "      <td>No</td>\n",
       "      <td>2</td>\n",
       "      <td>Yes</td>\n",
       "      <td>No</td>\n",
       "      <td>Fiber optic</td>\n",
       "      <td>No</td>\n",
       "      <td>No</td>\n",
       "      <td>No</td>\n",
       "      <td>No</td>\n",
       "      <td>No</td>\n",
       "      <td>No</td>\n",
       "      <td>Month-to-month</td>\n",
       "      <td>Yes</td>\n",
       "      <td>Electronic check</td>\n",
       "      <td>70.70</td>\n",
       "      <td>151.65</td>\n",
       "      <td>Yes</td>\n",
       "    </tr>\n",
       "  </tbody>\n",
       "</table>\n",
       "</div>"
      ],
      "text/plain": [
       "   customerID  gender  SeniorCitizen Partner Dependents  tenure PhoneService  \\\n",
       "0  7590-VHVEG  Female              0     Yes         No       1           No   \n",
       "1  5575-GNVDE    Male              0      No         No      34          Yes   \n",
       "2  3668-QPYBK    Male              0      No         No       2          Yes   \n",
       "3  7795-CFOCW    Male              0      No         No      45           No   \n",
       "4  9237-HQITU  Female              0      No         No       2          Yes   \n",
       "\n",
       "      MultipleLines InternetService OnlineSecurity OnlineBackup  \\\n",
       "0  No phone service             DSL             No          Yes   \n",
       "1                No             DSL            Yes           No   \n",
       "2                No             DSL            Yes          Yes   \n",
       "3  No phone service             DSL            Yes           No   \n",
       "4                No     Fiber optic             No           No   \n",
       "\n",
       "  DeviceProtection TechSupport StreamingTV StreamingMovies        Contract  \\\n",
       "0               No          No          No              No  Month-to-month   \n",
       "1              Yes          No          No              No        One year   \n",
       "2               No          No          No              No  Month-to-month   \n",
       "3              Yes         Yes          No              No        One year   \n",
       "4               No          No          No              No  Month-to-month   \n",
       "\n",
       "  PaperlessBilling              PaymentMethod  MonthlyCharges TotalCharges  \\\n",
       "0              Yes           Electronic check           29.85        29.85   \n",
       "1               No               Mailed check           56.95       1889.5   \n",
       "2              Yes               Mailed check           53.85       108.15   \n",
       "3               No  Bank transfer (automatic)           42.30      1840.75   \n",
       "4              Yes           Electronic check           70.70       151.65   \n",
       "\n",
       "  Churn  \n",
       "0    No  \n",
       "1    No  \n",
       "2   Yes  \n",
       "3    No  \n",
       "4   Yes  "
      ]
     },
     "execution_count": 52,
     "metadata": {},
     "output_type": "execute_result"
    }
   ],
   "source": [
    "df.head(5)"
   ]
  },
  {
   "attachments": {},
   "cell_type": "markdown",
   "metadata": {},
   "source": [
    "### Omiting Redundant Fields\n"
   ]
  },
  {
   "cell_type": "code",
   "execution_count": 53,
   "metadata": {},
   "outputs": [],
   "source": [
    "df.drop([\"customerID\"], axis = 1, inplace = True)"
   ]
  },
  {
   "attachments": {},
   "cell_type": "markdown",
   "metadata": {},
   "source": [
    "### Mending The Datset Fields' Names\n"
   ]
  },
  {
   "cell_type": "code",
   "execution_count": 54,
   "metadata": {},
   "outputs": [],
   "source": [
    "fields = [field.capitalize() for field in list(df.columns)]\n",
    "\n",
    "df.columns = fields"
   ]
  },
  {
   "attachments": {},
   "cell_type": "markdown",
   "metadata": {},
   "source": [
    "### Examining Missing Values\n"
   ]
  },
  {
   "cell_type": "code",
   "execution_count": 55,
   "metadata": {},
   "outputs": [
    {
     "name": "stdout",
     "output_type": "stream",
     "text": [
      "<class 'pandas.core.frame.DataFrame'>\n",
      "RangeIndex: 7043 entries, 0 to 7042\n",
      "Data columns (total 20 columns):\n",
      " #   Column            Non-Null Count  Dtype  \n",
      "---  ------            --------------  -----  \n",
      " 0   Gender            7043 non-null   object \n",
      " 1   Seniorcitizen     7043 non-null   int64  \n",
      " 2   Partner           7043 non-null   object \n",
      " 3   Dependents        7043 non-null   object \n",
      " 4   Tenure            7043 non-null   int64  \n",
      " 5   Phoneservice      7043 non-null   object \n",
      " 6   Multiplelines     7043 non-null   object \n",
      " 7   Internetservice   7043 non-null   object \n",
      " 8   Onlinesecurity    7043 non-null   object \n",
      " 9   Onlinebackup      7043 non-null   object \n",
      " 10  Deviceprotection  7043 non-null   object \n",
      " 11  Techsupport       7043 non-null   object \n",
      " 12  Streamingtv       7043 non-null   object \n",
      " 13  Streamingmovies   7043 non-null   object \n",
      " 14  Contract          7043 non-null   object \n",
      " 15  Paperlessbilling  7043 non-null   object \n",
      " 16  Paymentmethod     7043 non-null   object \n",
      " 17  Monthlycharges    7043 non-null   float64\n",
      " 18  Totalcharges      7043 non-null   object \n",
      " 19  Churn             7043 non-null   object \n",
      "dtypes: float64(1), int64(2), object(17)\n",
      "memory usage: 1.1+ MB\n"
     ]
    }
   ],
   "source": [
    "df.info()"
   ]
  },
  {
   "attachments": {},
   "cell_type": "markdown",
   "metadata": {},
   "source": [
    "### Examining Unique Values\n"
   ]
  },
  {
   "cell_type": "code",
   "execution_count": 56,
   "metadata": {},
   "outputs": [
    {
     "data": {
      "text/html": [
       "<div>\n",
       "<style scoped>\n",
       "    .dataframe tbody tr th:only-of-type {\n",
       "        vertical-align: middle;\n",
       "    }\n",
       "\n",
       "    .dataframe tbody tr th {\n",
       "        vertical-align: top;\n",
       "    }\n",
       "\n",
       "    .dataframe thead th {\n",
       "        text-align: right;\n",
       "    }\n",
       "</style>\n",
       "<table border=\"1\" class=\"dataframe\">\n",
       "  <thead>\n",
       "    <tr style=\"text-align: right;\">\n",
       "      <th></th>\n",
       "      <th>Field_Name</th>\n",
       "      <th>Unique_Values_Num</th>\n",
       "    </tr>\n",
       "  </thead>\n",
       "  <tbody>\n",
       "    <tr>\n",
       "      <th>0</th>\n",
       "      <td>Gender</td>\n",
       "      <td>2</td>\n",
       "    </tr>\n",
       "    <tr>\n",
       "      <th>1</th>\n",
       "      <td>Seniorcitizen</td>\n",
       "      <td>2</td>\n",
       "    </tr>\n",
       "    <tr>\n",
       "      <th>2</th>\n",
       "      <td>Partner</td>\n",
       "      <td>2</td>\n",
       "    </tr>\n",
       "    <tr>\n",
       "      <th>3</th>\n",
       "      <td>Dependents</td>\n",
       "      <td>2</td>\n",
       "    </tr>\n",
       "    <tr>\n",
       "      <th>4</th>\n",
       "      <td>Tenure</td>\n",
       "      <td>73</td>\n",
       "    </tr>\n",
       "    <tr>\n",
       "      <th>5</th>\n",
       "      <td>Phoneservice</td>\n",
       "      <td>2</td>\n",
       "    </tr>\n",
       "    <tr>\n",
       "      <th>6</th>\n",
       "      <td>Multiplelines</td>\n",
       "      <td>3</td>\n",
       "    </tr>\n",
       "    <tr>\n",
       "      <th>7</th>\n",
       "      <td>Internetservice</td>\n",
       "      <td>3</td>\n",
       "    </tr>\n",
       "    <tr>\n",
       "      <th>8</th>\n",
       "      <td>Onlinesecurity</td>\n",
       "      <td>3</td>\n",
       "    </tr>\n",
       "    <tr>\n",
       "      <th>9</th>\n",
       "      <td>Onlinebackup</td>\n",
       "      <td>3</td>\n",
       "    </tr>\n",
       "    <tr>\n",
       "      <th>10</th>\n",
       "      <td>Deviceprotection</td>\n",
       "      <td>3</td>\n",
       "    </tr>\n",
       "    <tr>\n",
       "      <th>11</th>\n",
       "      <td>Techsupport</td>\n",
       "      <td>3</td>\n",
       "    </tr>\n",
       "    <tr>\n",
       "      <th>12</th>\n",
       "      <td>Streamingtv</td>\n",
       "      <td>3</td>\n",
       "    </tr>\n",
       "    <tr>\n",
       "      <th>13</th>\n",
       "      <td>Streamingmovies</td>\n",
       "      <td>3</td>\n",
       "    </tr>\n",
       "    <tr>\n",
       "      <th>14</th>\n",
       "      <td>Contract</td>\n",
       "      <td>3</td>\n",
       "    </tr>\n",
       "    <tr>\n",
       "      <th>15</th>\n",
       "      <td>Paperlessbilling</td>\n",
       "      <td>2</td>\n",
       "    </tr>\n",
       "    <tr>\n",
       "      <th>16</th>\n",
       "      <td>Paymentmethod</td>\n",
       "      <td>4</td>\n",
       "    </tr>\n",
       "    <tr>\n",
       "      <th>17</th>\n",
       "      <td>Monthlycharges</td>\n",
       "      <td>1585</td>\n",
       "    </tr>\n",
       "    <tr>\n",
       "      <th>18</th>\n",
       "      <td>Totalcharges</td>\n",
       "      <td>6531</td>\n",
       "    </tr>\n",
       "    <tr>\n",
       "      <th>19</th>\n",
       "      <td>Churn</td>\n",
       "      <td>2</td>\n",
       "    </tr>\n",
       "  </tbody>\n",
       "</table>\n",
       "</div>"
      ],
      "text/plain": [
       "          Field_Name  Unique_Values_Num\n",
       "0             Gender                  2\n",
       "1      Seniorcitizen                  2\n",
       "2            Partner                  2\n",
       "3         Dependents                  2\n",
       "4             Tenure                 73\n",
       "5       Phoneservice                  2\n",
       "6      Multiplelines                  3\n",
       "7    Internetservice                  3\n",
       "8     Onlinesecurity                  3\n",
       "9       Onlinebackup                  3\n",
       "10  Deviceprotection                  3\n",
       "11       Techsupport                  3\n",
       "12       Streamingtv                  3\n",
       "13   Streamingmovies                  3\n",
       "14          Contract                  3\n",
       "15  Paperlessbilling                  2\n",
       "16     Paymentmethod                  4\n",
       "17    Monthlycharges               1585\n",
       "18      Totalcharges               6531\n",
       "19             Churn                  2"
      ]
     },
     "execution_count": 56,
     "metadata": {},
     "output_type": "execute_result"
    }
   ],
   "source": [
    "f_num_unique_values(df)"
   ]
  },
  {
   "attachments": {},
   "cell_type": "markdown",
   "metadata": {},
   "source": [
    "### Separating Fields to Numerical and Categorical"
   ]
  },
  {
   "cell_type": "code",
   "execution_count": 57,
   "metadata": {},
   "outputs": [],
   "source": [
    "num_fields = [\"Tenure\", \"Monthlycharges\", \"Totalcharges\"]\n",
    "\n",
    "cat_fields = list(df.columns)\n",
    "\n",
    "for field in num_fields:\n",
    "    cat_fields.remove(field) "
   ]
  },
  {
   "cell_type": "code",
   "execution_count": 58,
   "metadata": {},
   "outputs": [
    {
     "name": "stdout",
     "output_type": "stream",
     "text": [
      "Categorical fields are:\n"
     ]
    },
    {
     "data": {
      "text/html": [
       "<div>\n",
       "<style scoped>\n",
       "    .dataframe tbody tr th:only-of-type {\n",
       "        vertical-align: middle;\n",
       "    }\n",
       "\n",
       "    .dataframe tbody tr th {\n",
       "        vertical-align: top;\n",
       "    }\n",
       "\n",
       "    .dataframe thead th {\n",
       "        text-align: right;\n",
       "    }\n",
       "</style>\n",
       "<table border=\"1\" class=\"dataframe\">\n",
       "  <thead>\n",
       "    <tr style=\"text-align: right;\">\n",
       "      <th></th>\n",
       "      <th>Field_Name</th>\n",
       "      <th>Unique_Values</th>\n",
       "    </tr>\n",
       "  </thead>\n",
       "  <tbody>\n",
       "    <tr>\n",
       "      <th>0</th>\n",
       "      <td>Gender</td>\n",
       "      <td>Female | Male</td>\n",
       "    </tr>\n",
       "    <tr>\n",
       "      <th>1</th>\n",
       "      <td>Seniorcitizen</td>\n",
       "      <td>0 | 1</td>\n",
       "    </tr>\n",
       "    <tr>\n",
       "      <th>2</th>\n",
       "      <td>Partner</td>\n",
       "      <td>Yes | No</td>\n",
       "    </tr>\n",
       "    <tr>\n",
       "      <th>3</th>\n",
       "      <td>Dependents</td>\n",
       "      <td>No | Yes</td>\n",
       "    </tr>\n",
       "    <tr>\n",
       "      <th>4</th>\n",
       "      <td>Phoneservice</td>\n",
       "      <td>No | Yes</td>\n",
       "    </tr>\n",
       "    <tr>\n",
       "      <th>5</th>\n",
       "      <td>Multiplelines</td>\n",
       "      <td>No phone service | No | Yes</td>\n",
       "    </tr>\n",
       "    <tr>\n",
       "      <th>6</th>\n",
       "      <td>Internetservice</td>\n",
       "      <td>DSL | Fiber optic | No</td>\n",
       "    </tr>\n",
       "    <tr>\n",
       "      <th>7</th>\n",
       "      <td>Onlinesecurity</td>\n",
       "      <td>No | Yes | No internet service</td>\n",
       "    </tr>\n",
       "    <tr>\n",
       "      <th>8</th>\n",
       "      <td>Onlinebackup</td>\n",
       "      <td>Yes | No | No internet service</td>\n",
       "    </tr>\n",
       "    <tr>\n",
       "      <th>9</th>\n",
       "      <td>Deviceprotection</td>\n",
       "      <td>No | Yes | No internet service</td>\n",
       "    </tr>\n",
       "    <tr>\n",
       "      <th>10</th>\n",
       "      <td>Techsupport</td>\n",
       "      <td>No | Yes | No internet service</td>\n",
       "    </tr>\n",
       "    <tr>\n",
       "      <th>11</th>\n",
       "      <td>Streamingtv</td>\n",
       "      <td>No | Yes | No internet service</td>\n",
       "    </tr>\n",
       "    <tr>\n",
       "      <th>12</th>\n",
       "      <td>Streamingmovies</td>\n",
       "      <td>No | Yes | No internet service</td>\n",
       "    </tr>\n",
       "    <tr>\n",
       "      <th>13</th>\n",
       "      <td>Contract</td>\n",
       "      <td>Month-to-month | One year | Two year</td>\n",
       "    </tr>\n",
       "    <tr>\n",
       "      <th>14</th>\n",
       "      <td>Paperlessbilling</td>\n",
       "      <td>Yes | No</td>\n",
       "    </tr>\n",
       "    <tr>\n",
       "      <th>15</th>\n",
       "      <td>Paymentmethod</td>\n",
       "      <td>Electronic check | Mailed check | Bank transfer (automatic) | Credit card (automatic)</td>\n",
       "    </tr>\n",
       "    <tr>\n",
       "      <th>16</th>\n",
       "      <td>Churn</td>\n",
       "      <td>No | Yes</td>\n",
       "    </tr>\n",
       "  </tbody>\n",
       "</table>\n",
       "</div>"
      ],
      "text/plain": [
       "          Field_Name  \\\n",
       "0             Gender   \n",
       "1      Seniorcitizen   \n",
       "2            Partner   \n",
       "3         Dependents   \n",
       "4       Phoneservice   \n",
       "5      Multiplelines   \n",
       "6    Internetservice   \n",
       "7     Onlinesecurity   \n",
       "8       Onlinebackup   \n",
       "9   Deviceprotection   \n",
       "10       Techsupport   \n",
       "11       Streamingtv   \n",
       "12   Streamingmovies   \n",
       "13          Contract   \n",
       "14  Paperlessbilling   \n",
       "15     Paymentmethod   \n",
       "16             Churn   \n",
       "\n",
       "                                                                            Unique_Values  \n",
       "0                                                                           Female | Male  \n",
       "1                                                                                   0 | 1  \n",
       "2                                                                                Yes | No  \n",
       "3                                                                                No | Yes  \n",
       "4                                                                                No | Yes  \n",
       "5                                                             No phone service | No | Yes  \n",
       "6                                                                  DSL | Fiber optic | No  \n",
       "7                                                          No | Yes | No internet service  \n",
       "8                                                          Yes | No | No internet service  \n",
       "9                                                          No | Yes | No internet service  \n",
       "10                                                         No | Yes | No internet service  \n",
       "11                                                         No | Yes | No internet service  \n",
       "12                                                         No | Yes | No internet service  \n",
       "13                                                   Month-to-month | One year | Two year  \n",
       "14                                                                               Yes | No  \n",
       "15  Electronic check | Mailed check | Bank transfer (automatic) | Credit card (automatic)  \n",
       "16                                                                               No | Yes  "
      ]
     },
     "execution_count": 58,
     "metadata": {},
     "output_type": "execute_result"
    }
   ],
   "source": [
    "print(\"Categorical fields are:\")\n",
    "\n",
    "f_unique_values(df, fields = cat_fields)"
   ]
  },
  {
   "cell_type": "code",
   "execution_count": 59,
   "metadata": {},
   "outputs": [
    {
     "name": "stdout",
     "output_type": "stream",
     "text": [
      "Numerical fields are:\n"
     ]
    },
    {
     "data": {
      "text/html": [
       "<div>\n",
       "<style scoped>\n",
       "    .dataframe tbody tr th:only-of-type {\n",
       "        vertical-align: middle;\n",
       "    }\n",
       "\n",
       "    .dataframe tbody tr th {\n",
       "        vertical-align: top;\n",
       "    }\n",
       "\n",
       "    .dataframe thead th {\n",
       "        text-align: right;\n",
       "    }\n",
       "</style>\n",
       "<table border=\"1\" class=\"dataframe\">\n",
       "  <thead>\n",
       "    <tr style=\"text-align: right;\">\n",
       "      <th></th>\n",
       "      <th>count</th>\n",
       "      <th>mean</th>\n",
       "      <th>std</th>\n",
       "      <th>min</th>\n",
       "      <th>25%</th>\n",
       "      <th>50%</th>\n",
       "      <th>75%</th>\n",
       "      <th>max</th>\n",
       "    </tr>\n",
       "  </thead>\n",
       "  <tbody>\n",
       "    <tr>\n",
       "      <th>Tenure</th>\n",
       "      <td>7043.0</td>\n",
       "      <td>32.371149</td>\n",
       "      <td>24.559481</td>\n",
       "      <td>0.00</td>\n",
       "      <td>9.0</td>\n",
       "      <td>29.00</td>\n",
       "      <td>55.00</td>\n",
       "      <td>72.00</td>\n",
       "    </tr>\n",
       "    <tr>\n",
       "      <th>Monthlycharges</th>\n",
       "      <td>7043.0</td>\n",
       "      <td>64.761692</td>\n",
       "      <td>30.090047</td>\n",
       "      <td>18.25</td>\n",
       "      <td>35.5</td>\n",
       "      <td>70.35</td>\n",
       "      <td>89.85</td>\n",
       "      <td>118.75</td>\n",
       "    </tr>\n",
       "  </tbody>\n",
       "</table>\n",
       "</div>"
      ],
      "text/plain": [
       "                 count       mean        std    min   25%    50%    75%  \\\n",
       "Tenure          7043.0  32.371149  24.559481   0.00   9.0  29.00  55.00   \n",
       "Monthlycharges  7043.0  64.761692  30.090047  18.25  35.5  70.35  89.85   \n",
       "\n",
       "                   max  \n",
       "Tenure           72.00  \n",
       "Monthlycharges  118.75  "
      ]
     },
     "execution_count": 59,
     "metadata": {},
     "output_type": "execute_result"
    }
   ],
   "source": [
    "print(\"Numerical fields are:\")\n",
    "\n",
    "(df[num_fields].describe()).T"
   ]
  },
  {
   "attachments": {},
   "cell_type": "markdown",
   "metadata": {},
   "source": [
    "[Project Content](#0)\n"
   ]
  },
  {
   "attachments": {},
   "cell_type": "markdown",
   "metadata": {},
   "source": [
    "## 4. Exploratory Data Analysis <a id = 4></a>\n"
   ]
  },
  {
   "attachments": {},
   "cell_type": "markdown",
   "metadata": {},
   "source": [
    "### Examining Statistics of Numeric Fields\n"
   ]
  },
  {
   "cell_type": "code",
   "execution_count": null,
   "metadata": {},
   "outputs": [],
   "source": []
  },
  {
   "attachments": {},
   "cell_type": "markdown",
   "metadata": {},
   "source": [
    "### Examining Statistics of Categorical Fields\n"
   ]
  },
  {
   "cell_type": "code",
   "execution_count": null,
   "metadata": {},
   "outputs": [],
   "source": []
  },
  {
   "attachments": {},
   "cell_type": "markdown",
   "metadata": {},
   "source": [
    "### Examining The Missing Data\n"
   ]
  },
  {
   "cell_type": "code",
   "execution_count": null,
   "metadata": {},
   "outputs": [],
   "source": []
  },
  {
   "attachments": {},
   "cell_type": "markdown",
   "metadata": {},
   "source": [
    "### Filling The Missing Values\n"
   ]
  },
  {
   "cell_type": "code",
   "execution_count": null,
   "metadata": {},
   "outputs": [],
   "source": []
  },
  {
   "attachments": {},
   "cell_type": "markdown",
   "metadata": {},
   "source": [
    "[Project Content](#0)\n"
   ]
  },
  {
   "attachments": {},
   "cell_type": "markdown",
   "metadata": {},
   "source": [
    "## 5. Numeric Fields Analysis <a id = 5></a>\n"
   ]
  },
  {
   "attachments": {},
   "cell_type": "markdown",
   "metadata": {},
   "source": [
    "### Bi-Variate Analysis between Numeric Fields and Target\n"
   ]
  },
  {
   "cell_type": "code",
   "execution_count": null,
   "metadata": {},
   "outputs": [],
   "source": []
  },
  {
   "attachments": {},
   "cell_type": "markdown",
   "metadata": {},
   "source": [
    "### Analysis between Numeric Fields Among Themselves\n"
   ]
  },
  {
   "cell_type": "code",
   "execution_count": null,
   "metadata": {},
   "outputs": [],
   "source": []
  },
  {
   "attachments": {},
   "cell_type": "markdown",
   "metadata": {},
   "source": [
    "### Correlation Analysis between Numeric Fields and Target\n"
   ]
  },
  {
   "cell_type": "code",
   "execution_count": null,
   "metadata": {},
   "outputs": [],
   "source": []
  },
  {
   "attachments": {},
   "cell_type": "markdown",
   "metadata": {},
   "source": [
    "[Project Content](#0)\n"
   ]
  },
  {
   "attachments": {},
   "cell_type": "markdown",
   "metadata": {},
   "source": [
    "## 6. Categorical Fields Analysis <a id = 6></a>\n"
   ]
  },
  {
   "attachments": {},
   "cell_type": "markdown",
   "metadata": {},
   "source": [
    "### Bi-Variate Analysis between Categorical Fields and Target\n"
   ]
  },
  {
   "cell_type": "code",
   "execution_count": null,
   "metadata": {},
   "outputs": [],
   "source": []
  },
  {
   "attachments": {},
   "cell_type": "markdown",
   "metadata": {},
   "source": [
    "### Correlation Analysis between Categorical Fields and Target\n"
   ]
  },
  {
   "cell_type": "code",
   "execution_count": null,
   "metadata": {},
   "outputs": [],
   "source": []
  },
  {
   "attachments": {},
   "cell_type": "markdown",
   "metadata": {},
   "source": [
    "[Project Content](#0)\n"
   ]
  },
  {
   "attachments": {},
   "cell_type": "markdown",
   "metadata": {},
   "source": [
    "## 7. Feature Scaling <a id = 7></a>\n"
   ]
  },
  {
   "attachments": {},
   "cell_type": "markdown",
   "metadata": {},
   "source": [
    "[Project Content](#0)\n"
   ]
  },
  {
   "attachments": {},
   "cell_type": "markdown",
   "id": "8203207b",
   "metadata": {
    "papermill": {
     "duration": 0.329495,
     "end_time": "2022-04-21T13:58:27.622505",
     "exception": false,
     "start_time": "2022-04-21T13:58:27.293010",
     "status": "completed"
    },
    "tags": []
   },
   "source": [
    "## 8. Correlation Analysis <a id = 8></a>\n"
   ]
  },
  {
   "attachments": {},
   "cell_type": "markdown",
   "id": "8203207b",
   "metadata": {
    "papermill": {
     "duration": 0.329495,
     "end_time": "2022-04-21T13:58:27.622505",
     "exception": false,
     "start_time": "2022-04-21T13:58:27.293010",
     "status": "completed"
    },
    "tags": []
   },
   "source": [
    "### Numeric fields and Target Value Correlation Analysis\n"
   ]
  },
  {
   "cell_type": "code",
   "execution_count": null,
   "metadata": {},
   "outputs": [],
   "source": []
  },
  {
   "attachments": {},
   "cell_type": "markdown",
   "id": "dc4085c2",
   "metadata": {
    "papermill": {
     "duration": 0.330287,
     "end_time": "2022-04-21T13:58:33.896590",
     "exception": false,
     "start_time": "2022-04-21T13:58:33.566303",
     "status": "completed"
    },
    "tags": []
   },
   "source": [
    "### Numeric and Categorical Fields Correlation Analysis\n"
   ]
  },
  {
   "cell_type": "code",
   "execution_count": null,
   "metadata": {},
   "outputs": [],
   "source": []
  },
  {
   "attachments": {},
   "cell_type": "markdown",
   "id": "dc4085c2",
   "metadata": {
    "papermill": {
     "duration": 0.330287,
     "end_time": "2022-04-21T13:58:33.896590",
     "exception": false,
     "start_time": "2022-04-21T13:58:33.566303",
     "status": "completed"
    },
    "tags": []
   },
   "source": [
    "### Dropping Columns with Low Correlation\n"
   ]
  },
  {
   "cell_type": "code",
   "execution_count": null,
   "metadata": {},
   "outputs": [],
   "source": []
  },
  {
   "attachments": {},
   "cell_type": "markdown",
   "metadata": {},
   "source": [
    "[Project Content](#0)\n"
   ]
  },
  {
   "attachments": {},
   "cell_type": "markdown",
   "id": "dc4085c2",
   "metadata": {
    "papermill": {
     "duration": 0.330287,
     "end_time": "2022-04-21T13:58:33.896590",
     "exception": false,
     "start_time": "2022-04-21T13:58:33.566303",
     "status": "completed"
    },
    "tags": []
   },
   "source": [
    "## 9. Dealing with Outliers <a id = 9></a>\n"
   ]
  },
  {
   "attachments": {},
   "cell_type": "markdown",
   "metadata": {},
   "source": [
    "[Project Content](#0)\n"
   ]
  },
  {
   "attachments": {},
   "cell_type": "markdown",
   "id": "dc4085c2",
   "metadata": {
    "papermill": {
     "duration": 0.330287,
     "end_time": "2022-04-21T13:58:33.896590",
     "exception": false,
     "start_time": "2022-04-21T13:58:33.566303",
     "status": "completed"
    },
    "tags": []
   },
   "source": [
    "## 12. Determining Distributions of Numeric Fields <a id = 12></a>\n"
   ]
  },
  {
   "attachments": {},
   "cell_type": "markdown",
   "metadata": {},
   "source": [
    "[Project Content](#0)\n"
   ]
  },
  {
   "attachments": {},
   "cell_type": "markdown",
   "id": "dc4085c2",
   "metadata": {
    "papermill": {
     "duration": 0.330287,
     "end_time": "2022-04-21T13:58:33.896590",
     "exception": false,
     "start_time": "2022-04-21T13:58:33.566303",
     "status": "completed"
    },
    "tags": []
   },
   "source": [
    "## 13. Appllying One Hot Encoding to Categorical Fields <a id = 13></a>\n"
   ]
  },
  {
   "attachments": {},
   "cell_type": "markdown",
   "metadata": {},
   "source": [
    "[Project Content](#0)\n"
   ]
  },
  {
   "attachments": {},
   "cell_type": "markdown",
   "id": "dc4085c2",
   "metadata": {
    "papermill": {
     "duration": 0.330287,
     "end_time": "2022-04-21T13:58:33.896590",
     "exception": false,
     "start_time": "2022-04-21T13:58:33.566303",
     "status": "completed"
    },
    "tags": []
   },
   "source": [
    "## 14. Feature Scaling with The RobustScaler Method <a id = 14></a>\n"
   ]
  },
  {
   "attachments": {},
   "cell_type": "markdown",
   "metadata": {},
   "source": [
    "[Project Content](#0)\n"
   ]
  },
  {
   "attachments": {},
   "cell_type": "markdown",
   "id": "dc4085c2",
   "metadata": {
    "papermill": {
     "duration": 0.330287,
     "end_time": "2022-04-21T13:58:33.896590",
     "exception": false,
     "start_time": "2022-04-21T13:58:33.566303",
     "status": "completed"
    },
    "tags": []
   },
   "source": [
    "## 15. Seperating Data into Two Parts of Train and Test <a id = 15></a>\n"
   ]
  },
  {
   "attachments": {},
   "cell_type": "markdown",
   "metadata": {},
   "source": [
    "[Project Content](#0)\n"
   ]
  },
  {
   "attachments": {},
   "cell_type": "markdown",
   "id": "dc4085c2",
   "metadata": {
    "papermill": {
     "duration": 0.330287,
     "end_time": "2022-04-21T13:58:33.896590",
     "exception": false,
     "start_time": "2022-04-21T13:58:33.566303",
     "status": "completed"
    },
    "tags": []
   },
   "source": [
    "## 16. Modelling (Logistic Regression) <a id = 16></a>\n"
   ]
  },
  {
   "attachments": {},
   "cell_type": "markdown",
   "id": "dc4085c2",
   "metadata": {
    "papermill": {
     "duration": 0.330287,
     "end_time": "2022-04-21T13:58:33.896590",
     "exception": false,
     "start_time": "2022-04-21T13:58:33.566303",
     "status": "completed"
    },
    "tags": []
   },
   "source": [
    "## 17. Cross Validation (Logistic Regression) <a id = 17></a>\n"
   ]
  },
  {
   "attachments": {},
   "cell_type": "markdown",
   "id": "dc4085c2",
   "metadata": {
    "papermill": {
     "duration": 0.330287,
     "end_time": "2022-04-21T13:58:33.896590",
     "exception": false,
     "start_time": "2022-04-21T13:58:33.566303",
     "status": "completed"
    },
    "tags": []
   },
   "source": [
    "## 18. AUC-ROC Curve (Logistic Regression) <a id = 18></a>\n"
   ]
  },
  {
   "attachments": {},
   "cell_type": "markdown",
   "id": "dc4085c2",
   "metadata": {
    "papermill": {
     "duration": 0.330287,
     "end_time": "2022-04-21T13:58:33.896590",
     "exception": false,
     "start_time": "2022-04-21T13:58:33.566303",
     "status": "completed"
    },
    "tags": []
   },
   "source": [
    "## 19. Hyper Parameter Optimization (Logistic Regression) <a id = 19></a>\n"
   ]
  },
  {
   "attachments": {},
   "cell_type": "markdown",
   "id": "dc4085c2",
   "metadata": {
    "papermill": {
     "duration": 0.330287,
     "end_time": "2022-04-21T13:58:33.896590",
     "exception": false,
     "start_time": "2022-04-21T13:58:33.566303",
     "status": "completed"
    },
    "tags": []
   },
   "source": [
    "## 20. Modelling (Desicion Tree) <a id = 20></a>\n"
   ]
  },
  {
   "attachments": {},
   "cell_type": "markdown",
   "id": "dc4085c2",
   "metadata": {
    "papermill": {
     "duration": 0.330287,
     "end_time": "2022-04-21T13:58:33.896590",
     "exception": false,
     "start_time": "2022-04-21T13:58:33.566303",
     "status": "completed"
    },
    "tags": []
   },
   "source": [
    "## 21. Cross Validation (Desicion Tree) <a id = 21></a>\n"
   ]
  },
  {
   "attachments": {},
   "cell_type": "markdown",
   "id": "dc4085c2",
   "metadata": {
    "papermill": {
     "duration": 0.330287,
     "end_time": "2022-04-21T13:58:33.896590",
     "exception": false,
     "start_time": "2022-04-21T13:58:33.566303",
     "status": "completed"
    },
    "tags": []
   },
   "source": [
    "## 22. AUC-ROC Curve (Desicion Tree) <a id = 22></a>\n"
   ]
  },
  {
   "attachments": {},
   "cell_type": "markdown",
   "id": "dc4085c2",
   "metadata": {
    "papermill": {
     "duration": 0.330287,
     "end_time": "2022-04-21T13:58:33.896590",
     "exception": false,
     "start_time": "2022-04-21T13:58:33.566303",
     "status": "completed"
    },
    "tags": []
   },
   "source": [
    "## 23. Hyper Parameter Optimization (Desicion Tree) <a id = 23></a>\n"
   ]
  },
  {
   "attachments": {},
   "cell_type": "markdown",
   "id": "dc4085c2",
   "metadata": {
    "papermill": {
     "duration": 0.330287,
     "end_time": "2022-04-21T13:58:33.896590",
     "exception": false,
     "start_time": "2022-04-21T13:58:33.566303",
     "status": "completed"
    },
    "tags": []
   },
   "source": [
    "## 24. Modelling (Support Vector Classification) <a id = 24></a>\n"
   ]
  },
  {
   "attachments": {},
   "cell_type": "markdown",
   "id": "dc4085c2",
   "metadata": {
    "papermill": {
     "duration": 0.330287,
     "end_time": "2022-04-21T13:58:33.896590",
     "exception": false,
     "start_time": "2022-04-21T13:58:33.566303",
     "status": "completed"
    },
    "tags": []
   },
   "source": [
    "### 25. Cross Validation (Support Vector Classification) <a id = 25></a>\n"
   ]
  },
  {
   "attachments": {},
   "cell_type": "markdown",
   "id": "dc4085c2",
   "metadata": {
    "papermill": {
     "duration": 0.330287,
     "end_time": "2022-04-21T13:58:33.896590",
     "exception": false,
     "start_time": "2022-04-21T13:58:33.566303",
     "status": "completed"
    },
    "tags": []
   },
   "source": [
    "## 26. AUC-ROC Curve (Support Vector Classification) <a id = 26></a>\n"
   ]
  },
  {
   "attachments": {},
   "cell_type": "markdown",
   "id": "dc4085c2",
   "metadata": {
    "papermill": {
     "duration": 0.330287,
     "end_time": "2022-04-21T13:58:33.896590",
     "exception": false,
     "start_time": "2022-04-21T13:58:33.566303",
     "status": "completed"
    },
    "tags": []
   },
   "source": [
    "## 27. Hyper Parameter Optimization (Support Vector Classification) <a id = 27></a>\n"
   ]
  },
  {
   "attachments": {},
   "cell_type": "markdown",
   "id": "dc4085c2",
   "metadata": {
    "papermill": {
     "duration": 0.330287,
     "end_time": "2022-04-21T13:58:33.896590",
     "exception": false,
     "start_time": "2022-04-21T13:58:33.566303",
     "status": "completed"
    },
    "tags": []
   },
   "source": [
    "## 28. Modelling (Random Forest Classification) <a id = 28></a>\n"
   ]
  },
  {
   "attachments": {},
   "cell_type": "markdown",
   "id": "dc4085c2",
   "metadata": {
    "papermill": {
     "duration": 0.330287,
     "end_time": "2022-04-21T13:58:33.896590",
     "exception": false,
     "start_time": "2022-04-21T13:58:33.566303",
     "status": "completed"
    },
    "tags": []
   },
   "source": [
    "## 29. Cross Validation (Random Forest Classification) <a id = 29></a>\n"
   ]
  },
  {
   "attachments": {},
   "cell_type": "markdown",
   "id": "dc4085c2",
   "metadata": {
    "papermill": {
     "duration": 0.330287,
     "end_time": "2022-04-21T13:58:33.896590",
     "exception": false,
     "start_time": "2022-04-21T13:58:33.566303",
     "status": "completed"
    },
    "tags": []
   },
   "source": [
    "## 30. AUC-ROC Curve (Random Forest Classification) <a id = 30></a>\n"
   ]
  },
  {
   "attachments": {},
   "cell_type": "markdown",
   "id": "dc4085c2",
   "metadata": {
    "papermill": {
     "duration": 0.330287,
     "end_time": "2022-04-21T13:58:33.896590",
     "exception": false,
     "start_time": "2022-04-21T13:58:33.566303",
     "status": "completed"
    },
    "tags": []
   },
   "source": [
    "## 31. Hyper Parameter Optimization (Random Forest Classification) <a id = 31></a>\n"
   ]
  }
 ],
 "metadata": {
  "kernelspec": {
   "display_name": "tensorflow",
   "language": "python",
   "name": "python3"
  },
  "language_info": {
   "codemirror_mode": {
    "name": "ipython",
    "version": 3
   },
   "file_extension": ".py",
   "mimetype": "text/x-python",
   "name": "python",
   "nbconvert_exporter": "python",
   "pygments_lexer": "ipython3",
   "version": "3.9.13"
  },
  "vscode": {
   "interpreter": {
    "hash": "4bd624a0593993fe43ac4046b27b898fb2ef75c21c08f81e89e64ea0f51df676"
   }
  }
 },
 "nbformat": 4,
 "nbformat_minor": 2
}
