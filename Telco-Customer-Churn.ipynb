{
 "cells": [
  {
   "attachments": {},
   "cell_type": "markdown",
   "metadata": {},
   "source": [
    "# **Telco Customer Churn Prediction**\n"
   ]
  },
  {
   "attachments": {},
   "cell_type": "markdown",
   "metadata": {},
   "source": [
    "## Project Content\n",
    "\n",
    "<a id = 0></a>\n"
   ]
  },
  {
   "attachments": {},
   "cell_type": "markdown",
   "metadata": {},
   "source": [
    "### First Step: First Organization\n",
    "\n",
    "1. [Introduction](#1)\n",
    "2. [Loading libraries and packages to embark our new journey](#2)\n",
    "3. [Loading and Checking The Dataset](#3)\n",
    "\n",
    "### Second Step: Data Preprocessing\n",
    "\n",
    "4. [Exploratory Data Analysis](#4)\n",
    "5. [Numeric Fields Analysis](#5)\n",
    "6. [Categorical Fields Analysis](#6)\n",
    "7. [Feature Scaling](#7)\n",
    "8. [Correlation Analysis](#8)\n",
    "9. [Dealing with Outliers](#9)\n",
    "10. [Determining Distributions of Numeric Fields](#10)\n",
    "11. [Appllying One Hot Encoding to Categorical Fields](#11)\n",
    "12. [Feature Scaling with The RobustScaler Method](#12)\n",
    "13. [Seperating Data into Two Parts of Train and Test](#13)\n",
    "\n",
    "### Third and Final Step: Modeling\n",
    "\n",
    "16. [Modelling (Logistic Regression)](#16)\n",
    "17. [Cross Validation (Logistic Regression)](#17)\n",
    "18. [AUC-ROC Curve (Logistic Regression)](#18)\n",
    "19. [Hyper Parameter Optimization (Logistic Regression)](#19)\n",
    "20. [Modelling (Decision Tree)](#20)\n",
    "21. [Cross Validation (Decision Tree)](#21)\n",
    "22. [AUC-ROC Curve (Decision Tree)](#22)\n",
    "23. [Hyper Parameter Optimization (Decision Tree)](#23)\n",
    "24. [Modelling (Support Vector Classifier)](#24)\n",
    "25. [Cross Validation (Support Vector Classifier)](#25)\n",
    "26. [AUC-ROC Curve (Support Vector Classifier)](#26)\n",
    "27. [Hyper Parameter Optimization (Support Vector Classifier)](#27)\n",
    "28. [Modelling (Random Forest)](#28)\n",
    "29. [Cross Validation (Support Vector Classifier)](#29)\n",
    "30. [AUC-ROC Curve (Support Vector Classifier)](#30)\n",
    "31. [Hyper Parameter Optimization (Support Vector Classifier)](#31)\n"
   ]
  },
  {
   "attachments": {},
   "cell_type": "markdown",
   "metadata": {},
   "source": [
    "## 1. Introduction <a id = 1></a>\n"
   ]
  },
  {
   "attachments": {},
   "cell_type": "markdown",
   "metadata": {},
   "source": [
    "Text\n"
   ]
  },
  {
   "attachments": {},
   "cell_type": "markdown",
   "metadata": {},
   "source": [
    "[Project Content](#0)\n"
   ]
  },
  {
   "attachments": {},
   "cell_type": "markdown",
   "metadata": {},
   "source": [
    "## 2. Loading libraries and packages to embark our new journey <a id = 2></a>\n"
   ]
  },
  {
   "cell_type": "code",
   "execution_count": 82,
   "metadata": {},
   "outputs": [],
   "source": [
    "# Basic Python Packages\n",
    "\n",
    "import warnings\n",
    "warnings.filterwarnings(\"ignore\")\n",
    "\n",
    "# Numpy Library\n",
    "\n",
    "import numpy as np\n",
    "\n",
    "# Pandas Library and Settings\n",
    "\n",
    "import pandas as pd\n",
    "pd.set_option(\"max_columns\", None)\n",
    "pd.options.display.max_colwidth = 100\n",
    "\n",
    "# SciPy\n",
    "\n",
    "from scipy.stats import shapiro\n",
    "\n",
    "# Visualization Libraries (Matplotlib, Seaborn)\n",
    "\n",
    "import matplotlib.pyplot as plt\n",
    "import seaborn as sns\n",
    "from plotly.subplots import make_subplots\n",
    "import plotly.graph_objects as go\n",
    "import plotly.express as px\n",
    "\n",
    "# Sklearn Methods\n",
    "\n",
    "from sklearn.impute import SimpleImputer\n",
    "from sklearn.preprocessing import StandardScaler\n",
    "\n",
    "%matplotlib inline"
   ]
  },
  {
   "cell_type": "code",
   "execution_count": 83,
   "metadata": {},
   "outputs": [],
   "source": [
    "def f_num_unique_values(dataframe, fields = None):\n",
    "    \"\"\"\n",
    "    By this function we can check how many unique values each field has\n",
    "\n",
    "    Args:\n",
    "        dataframe (pandas.core.frame.DataFrame): The main dataframe\n",
    "        fields (list): The fields we want to check number of their unique values\n",
    "    \"\"\"\n",
    "    \n",
    "    if fields == None:\n",
    "        fields = dataframe.columns\n",
    "        \n",
    "    num_unique_values = []\n",
    "    \n",
    "    num_unique_values_df = pd.DataFrame(columns = [\"Field_Name\", \"Unique_Values_Num\"], index = range(1, len(fields) + 1))\n",
    "\n",
    "    for field in fields:\n",
    "        \n",
    "        num_unique_values += [dataframe[field].nunique()]\n",
    "        \n",
    "    num_unique_values_df[\"Field_Name\"] = fields\n",
    "    num_unique_values_df[\"Unique_Values_Num\"] = num_unique_values\n",
    "        \n",
    "    return num_unique_values_df"
   ]
  },
  {
   "cell_type": "code",
   "execution_count": 84,
   "metadata": {},
   "outputs": [],
   "source": [
    "def f_unique_values(dataframe, fields = None):\n",
    "    \"\"\"\n",
    "    By this function we can get a dataframe and categorical fields and show a dataframe of unique values of each field.\n",
    "\n",
    "    Args:\n",
    "        dataframe (pandas.core.frame.DataFrame): The main dataframe\n",
    "        fields (list): The fields we want to check their unique values\n",
    "        \n",
    "    Returns:\n",
    "        unique_values_df (pandas.core.frame.DataFrame): A dataframe of fields and their unique values\n",
    "    \"\"\"\n",
    "    \n",
    "    if fields == None:\n",
    "        fields = dataframe.columns\n",
    "\n",
    "    fields_list = []\n",
    "    unique_values_list = []\n",
    "\n",
    "    unique_values_df = pd.DataFrame(columns = [\"Field_Name\", \"Unique_Values\"], index = range(1, len(fields) + 1))\n",
    "\n",
    "    for field in fields:\n",
    "\n",
    "        fields_list += [field]\n",
    "        field_unique_values_list = list(dataframe[field].unique())\n",
    "            \n",
    "        unique_values_str = \"\"\n",
    "            \n",
    "        for values_str in field_unique_values_list:\n",
    "            if field_unique_values_list.index(values_str) != len(field_unique_values_list) - 1:\n",
    "                unique_values_str += str(values_str) + \" | \"\n",
    "            else:\n",
    "                unique_values_str += str(values_str)                 \n",
    "            \n",
    "        unique_values_list += [unique_values_str]\n",
    "        \n",
    "    unique_values_df[\"Field_Name\"] = fields_list\n",
    "    unique_values_df[\"Unique_Values\"] = unique_values_list\n",
    "        \n",
    "    return unique_values_df"
   ]
  },
  {
   "cell_type": "code",
   "execution_count": 85,
   "metadata": {},
   "outputs": [],
   "source": [
    "def f_not_numeric(dataframe, field):\n",
    "    \"\"\"\n",
    "    This function checks all values of a field from dataframe and shows you the indexes that don't have numerical data type values.\n",
    "    It also shows a query of the dataframe with those indexes.\n",
    "\n",
    "    Args:\n",
    "        dataframe (pandas.core.frame.DataFrame): The main dataframe\n",
    "        field (string): The field we want to check its data\n",
    "        \n",
    "    Returns:\n",
    "        unique_values_df (pandas.core.frame.DataFrame): A query from main dataframe by indexes that have non numeric values\n",
    "    \"\"\"\n",
    "    \n",
    "    is_float_list = []\n",
    "    not_float_index = []\n",
    "\n",
    "    for value in dataframe[field]:\n",
    "        \n",
    "        try:\n",
    "            value = float(value)\n",
    "            is_float_list.append(True)\n",
    "            \n",
    "        except ValueError:\n",
    "            is_float_list.append(False)\n",
    "            \n",
    "    for i in range(len(is_float_list)):\n",
    "        \n",
    "        if is_float_list[i] == False:\n",
    "            not_float_index.append(i)\n",
    "    \n",
    "    non_numeric_dataframe = dataframe.loc[not_float_index, :]\n",
    "        \n",
    "    print(f\"There are {len(not_float_index)} records with non numeric values.\")\n",
    "    print(f\"Indexes of not float datatypes of the field {field} are:\")\n",
    "    print((str(not_float_index))[1 : -1])\n",
    "    \n",
    "    return non_numeric_dataframe"
   ]
  },
  {
   "cell_type": "code",
   "execution_count": 86,
   "metadata": {},
   "outputs": [],
   "source": [
    "def f_cat_to_int(dataframe, fields = None):\n",
    "    \"\"\"\n",
    "    This function helps to change categorical fields' values to numerical format.\n",
    "\n",
    "    Args:\n",
    "        dataframe (pandas.core.frame.DataFrame): The main dataframe\n",
    "        fields (list): The fields which we want to duplicate a integer format of them\n",
    "\n",
    "    Returns:\n",
    "        dataframe (pandas.core.frame.DataFrame): A dataframe which categorical fields have integer values\n",
    "    \"\"\"\n",
    "    \n",
    "    if fields == None:\n",
    "        fields = list(dataframe.columns)\n",
    "        \n",
    "    cat_dict = {}\n",
    "\n",
    "    for field in fields:\n",
    "        \n",
    "        cat_dict[field + \"_str\"] = list(dataframe[field].unique())\n",
    "        cat_dict[field + \"_int\"] = [i for i in range(0, len(list(dataframe[field].unique())))]\n",
    "\n",
    "        dataframe[field + \"_int\"] = dataframe[field]\n",
    "        dataframe[field + \"_int\"].replace(cat_dict[field + \"_str\"], cat_dict[field + \"_int\"], inplace = True)\n",
    "        \n",
    "    return dataframe"
   ]
  },
  {
   "cell_type": "code",
   "execution_count": 87,
   "metadata": {},
   "outputs": [],
   "source": [
    "def f_sorted_correlations(dataframe, fields = None, omited_fields = None, target_field = None, cat_num = None):\n",
    "    \"\"\"\n",
    "    This function get a dataframe and fields to create a dataframe of correlation based on our demands.\n",
    "    It can show a dataframe of correlations between each two fields in a sorted manner and also it can show a one row sorted correlation values between non-target fields and the target.\n",
    "\n",
    "    Args:\n",
    "        dataframe (pandas.core.frame.DataFrame): The main dataframe\n",
    "        fields (list, optional): The fields we want to check their correlation\n",
    "        omited_fields (list, optional): The fields we dont want to check their correlation\n",
    "        target_field (list, optional): The target field we want to check its correlation with other fields\n",
    "        cat_num (list, optional): The target field we want to check its correlation with other fields\n",
    "        \n",
    "    Returns:\n",
    "        corr_df (pandas.core.frame.DataFrame): Final correlation matrix\n",
    "    \"\"\"\n",
    "    \n",
    "    if fields == None:\n",
    "        fields = list(dataframe.columns)\n",
    "    \n",
    "    corr_dict = {}\n",
    "    all_correlation_df = dataframe[fields].corr()\n",
    "    \n",
    "    if cat_num == None:\n",
    "        \n",
    "        if omited_fields != None:\n",
    "            all_correlation_df.drop(omited_fields, axis = 0, inplace = True)\n",
    "            all_correlation_df.drop(omited_fields, axis = 1, inplace = True)\n",
    "        \n",
    "        if target_field == None:\n",
    "            for row in range(0, len(list(all_correlation_df.columns))):\n",
    "                for column in range(row, len(list(all_correlation_df.columns))):\n",
    "                    if row < column:\n",
    "                        corr_dict[f\"{list(all_correlation_df.columns)[row]}, {list(all_correlation_df.columns)[column]}\"] = all_correlation_df.iloc[row, column]\n",
    "\n",
    "            corr_df = pd.DataFrame(columns = [\"Fields\", \"Correlation_Value\"])\n",
    "\n",
    "            corr_df[\"Fields\"] = list(corr_dict.keys())\n",
    "            corr_df[\"Correlation_Value\"] = list(corr_dict.values())\n",
    "            corr_df.sort_values(by = \"Correlation_Value\", inplace = True)\n",
    "            \n",
    "        else:\n",
    "            corr_df = all_correlation_df[[target_field]]\n",
    "            corr_df = corr_df.sort_values(by = target_field)\n",
    "            corr_df.drop(target_field, axis = 0, inplace = True)\n",
    "            corr_df = corr_df.T\n",
    "            \n",
    "    else:\n",
    "        \n",
    "        corr_df = ((dataframe[cat_num[0] + cat_num[1]].corr()[cat_num[0]]).T)[cat_num[1]]\n",
    "\n",
    "    return corr_df"
   ]
  },
  {
   "cell_type": "code",
   "execution_count": 88,
   "metadata": {},
   "outputs": [],
   "source": [
    "def f_vif_function(dataframe, omited_fields = None):\n",
    "    \"\"\"\n",
    "    This function show a dataframe with sorted values of VIF of each field.\n",
    "\n",
    "    Args:\n",
    "        dataframe (pandas.core.frame.DataFrame): The main dataframe\n",
    "        omited_fields (list, optional): The fields we dont want to check their correlation\n",
    "                \n",
    "    Returns:\n",
    "        vif_info (pandas.core.frame.DataFrame): _description_\n",
    "    \"\"\"\n",
    "    \n",
    "    if omited_fields != None:\n",
    "        dataframe.drop(omited_fields, axis = 1, inplace = True)\n",
    "        \n",
    "    vif_dict = {}\n",
    "    \n",
    "    vif_dict[\"VIF\"] = [variance_inflation_factor(dataframe.values, i) for i in range(dataframe.shape[1])]\n",
    "    vif_df = ((pd.DataFrame(vif_dict, index = dataframe.columns)).sort_values(by = \"VIF\").T)\n",
    "    \n",
    "    return vif_df"
   ]
  },
  {
   "cell_type": "code",
   "execution_count": 89,
   "metadata": {},
   "outputs": [],
   "source": [
    "def f_train_dev_split(dataframe, target_field):\n",
    "    \"\"\"\n",
    "    This function gets a dataframe and split it into two train and development dataframes.\n",
    "\n",
    "    Args:\n",
    "        dataframe (pandas.core.frame.DataFrame): The main dataframe\n",
    "        target_field (sring): The field we want to create the linear regression model based on that\n",
    "\n",
    "    Returns:\n",
    "        x_train, x_develop, y_train, y_develop (pandas.core.frame.DataFrame): Anything we want for modeling\n",
    "    \"\"\"\n",
    "    \n",
    "    x = dataframe.drop([target_field], axis = 1)\n",
    "    y = dataframe[target_field]\n",
    "    \n",
    "    x_train, x_develop, y_train, y_develop = train_test_split(x, y, test_size = 0.20, random_state = 3)\n",
    "\n",
    "    print(f\"Train (x) dataset shape is:      {x_train.shape}\")\n",
    "    print(f\"Train (y) dataset shape is:      {y_train.shape}\")\n",
    "\n",
    "    print(f\"Dev (x) dataset shape is:       {x_develop.shape}\")\n",
    "    print(f\"Dev (y) dataset shape is:       {y_develop.shape}\")\n",
    "    \n",
    "    return x_train, x_develop, y_train, y_develop"
   ]
  },
  {
   "cell_type": "code",
   "execution_count": 90,
   "metadata": {},
   "outputs": [],
   "source": [
    "def f_linear_regression(train , dev):\n",
    "    \"\"\"\n",
    "    This function has been defined to model a linear regression and show R squared value of train and development datasets.\n",
    "\n",
    "    Args:\n",
    "        train (list): A list of both x and y dataframes for training the model\n",
    "        dev (list): A list of both x and y dataframes for checking the model\n",
    "\n",
    "    Returns:\n",
    "        results (pandas.core.frame.DataFrame): R squared value of the model of both train and dev datasets\n",
    "    \"\"\"\n",
    "    \n",
    "    model = LinearRegression()\n",
    "    model.fit(train[0], train[1])\n",
    "    \n",
    "    results = pd.DataFrame(columns = [\"Train\", \"Dev\"], index = [\"R Squared\"])\n",
    "    results[\"Train\"] = [model.score(train[0], train[1])]\n",
    "    results[\"Dev\"] = [model.score(dev[0], dev[1])]\n",
    "    \n",
    "    fields = list((train[0]).columns)\n",
    "    coefficients = list(model.coef_)\n",
    "    coefficients_dict = {fields[i]: coefficients[i] for i in range(len(fields))}\n",
    "    sorted_coefficients_dict = sorted(coefficients_dict.items(), key = lambda x : x[1])\n",
    "    \n",
    "    intercept = model.intercept_\n",
    "    \n",
    "    print(f\"Coefficients values:\")\n",
    "    \n",
    "    for i in range(len(fields)):\n",
    "        print(f\"    * {sorted_coefficients_dict[i][0]} : {round((sorted_coefficients_dict[i][1]), 2)}\")\n",
    "    \n",
    "    print(f\"\\nInetrcept: {model.intercept_}\\n\")\n",
    "    \n",
    "    return results"
   ]
  },
  {
   "attachments": {},
   "cell_type": "markdown",
   "metadata": {},
   "source": [
    "[Project Content](#0)\n"
   ]
  },
  {
   "attachments": {},
   "cell_type": "markdown",
   "metadata": {},
   "source": [
    "## 3. Loading and Checking The Dataset <a id = 3></a>\n"
   ]
  },
  {
   "attachments": {},
   "cell_type": "markdown",
   "metadata": {},
   "source": [
    "### Loading The Dataset\n"
   ]
  },
  {
   "cell_type": "code",
   "execution_count": 91,
   "metadata": {},
   "outputs": [],
   "source": [
    "df = pd.read_csv(\"Telco-Customer-Churn.csv\")"
   ]
  },
  {
   "attachments": {},
   "cell_type": "markdown",
   "metadata": {},
   "source": [
    "### Checking The Dataset\n"
   ]
  },
  {
   "cell_type": "code",
   "execution_count": 92,
   "metadata": {},
   "outputs": [
    {
     "data": {
      "text/html": [
       "<div>\n",
       "<style scoped>\n",
       "    .dataframe tbody tr th:only-of-type {\n",
       "        vertical-align: middle;\n",
       "    }\n",
       "\n",
       "    .dataframe tbody tr th {\n",
       "        vertical-align: top;\n",
       "    }\n",
       "\n",
       "    .dataframe thead th {\n",
       "        text-align: right;\n",
       "    }\n",
       "</style>\n",
       "<table border=\"1\" class=\"dataframe\">\n",
       "  <thead>\n",
       "    <tr style=\"text-align: right;\">\n",
       "      <th></th>\n",
       "      <th>customerID</th>\n",
       "      <th>gender</th>\n",
       "      <th>SeniorCitizen</th>\n",
       "      <th>Partner</th>\n",
       "      <th>Dependents</th>\n",
       "      <th>tenure</th>\n",
       "      <th>PhoneService</th>\n",
       "      <th>MultipleLines</th>\n",
       "      <th>InternetService</th>\n",
       "      <th>OnlineSecurity</th>\n",
       "      <th>OnlineBackup</th>\n",
       "      <th>DeviceProtection</th>\n",
       "      <th>TechSupport</th>\n",
       "      <th>StreamingTV</th>\n",
       "      <th>StreamingMovies</th>\n",
       "      <th>Contract</th>\n",
       "      <th>PaperlessBilling</th>\n",
       "      <th>PaymentMethod</th>\n",
       "      <th>MonthlyCharges</th>\n",
       "      <th>TotalCharges</th>\n",
       "      <th>Churn</th>\n",
       "    </tr>\n",
       "  </thead>\n",
       "  <tbody>\n",
       "    <tr>\n",
       "      <th>0</th>\n",
       "      <td>7590-VHVEG</td>\n",
       "      <td>Female</td>\n",
       "      <td>0</td>\n",
       "      <td>Yes</td>\n",
       "      <td>No</td>\n",
       "      <td>1</td>\n",
       "      <td>No</td>\n",
       "      <td>No phone service</td>\n",
       "      <td>DSL</td>\n",
       "      <td>No</td>\n",
       "      <td>Yes</td>\n",
       "      <td>No</td>\n",
       "      <td>No</td>\n",
       "      <td>No</td>\n",
       "      <td>No</td>\n",
       "      <td>Month-to-month</td>\n",
       "      <td>Yes</td>\n",
       "      <td>Electronic check</td>\n",
       "      <td>29.85</td>\n",
       "      <td>29.85</td>\n",
       "      <td>No</td>\n",
       "    </tr>\n",
       "    <tr>\n",
       "      <th>1</th>\n",
       "      <td>5575-GNVDE</td>\n",
       "      <td>Male</td>\n",
       "      <td>0</td>\n",
       "      <td>No</td>\n",
       "      <td>No</td>\n",
       "      <td>34</td>\n",
       "      <td>Yes</td>\n",
       "      <td>No</td>\n",
       "      <td>DSL</td>\n",
       "      <td>Yes</td>\n",
       "      <td>No</td>\n",
       "      <td>Yes</td>\n",
       "      <td>No</td>\n",
       "      <td>No</td>\n",
       "      <td>No</td>\n",
       "      <td>One year</td>\n",
       "      <td>No</td>\n",
       "      <td>Mailed check</td>\n",
       "      <td>56.95</td>\n",
       "      <td>1889.5</td>\n",
       "      <td>No</td>\n",
       "    </tr>\n",
       "    <tr>\n",
       "      <th>2</th>\n",
       "      <td>3668-QPYBK</td>\n",
       "      <td>Male</td>\n",
       "      <td>0</td>\n",
       "      <td>No</td>\n",
       "      <td>No</td>\n",
       "      <td>2</td>\n",
       "      <td>Yes</td>\n",
       "      <td>No</td>\n",
       "      <td>DSL</td>\n",
       "      <td>Yes</td>\n",
       "      <td>Yes</td>\n",
       "      <td>No</td>\n",
       "      <td>No</td>\n",
       "      <td>No</td>\n",
       "      <td>No</td>\n",
       "      <td>Month-to-month</td>\n",
       "      <td>Yes</td>\n",
       "      <td>Mailed check</td>\n",
       "      <td>53.85</td>\n",
       "      <td>108.15</td>\n",
       "      <td>Yes</td>\n",
       "    </tr>\n",
       "    <tr>\n",
       "      <th>3</th>\n",
       "      <td>7795-CFOCW</td>\n",
       "      <td>Male</td>\n",
       "      <td>0</td>\n",
       "      <td>No</td>\n",
       "      <td>No</td>\n",
       "      <td>45</td>\n",
       "      <td>No</td>\n",
       "      <td>No phone service</td>\n",
       "      <td>DSL</td>\n",
       "      <td>Yes</td>\n",
       "      <td>No</td>\n",
       "      <td>Yes</td>\n",
       "      <td>Yes</td>\n",
       "      <td>No</td>\n",
       "      <td>No</td>\n",
       "      <td>One year</td>\n",
       "      <td>No</td>\n",
       "      <td>Bank transfer (automatic)</td>\n",
       "      <td>42.30</td>\n",
       "      <td>1840.75</td>\n",
       "      <td>No</td>\n",
       "    </tr>\n",
       "    <tr>\n",
       "      <th>4</th>\n",
       "      <td>9237-HQITU</td>\n",
       "      <td>Female</td>\n",
       "      <td>0</td>\n",
       "      <td>No</td>\n",
       "      <td>No</td>\n",
       "      <td>2</td>\n",
       "      <td>Yes</td>\n",
       "      <td>No</td>\n",
       "      <td>Fiber optic</td>\n",
       "      <td>No</td>\n",
       "      <td>No</td>\n",
       "      <td>No</td>\n",
       "      <td>No</td>\n",
       "      <td>No</td>\n",
       "      <td>No</td>\n",
       "      <td>Month-to-month</td>\n",
       "      <td>Yes</td>\n",
       "      <td>Electronic check</td>\n",
       "      <td>70.70</td>\n",
       "      <td>151.65</td>\n",
       "      <td>Yes</td>\n",
       "    </tr>\n",
       "  </tbody>\n",
       "</table>\n",
       "</div>"
      ],
      "text/plain": [
       "   customerID  gender  SeniorCitizen Partner Dependents  tenure PhoneService  \\\n",
       "0  7590-VHVEG  Female              0     Yes         No       1           No   \n",
       "1  5575-GNVDE    Male              0      No         No      34          Yes   \n",
       "2  3668-QPYBK    Male              0      No         No       2          Yes   \n",
       "3  7795-CFOCW    Male              0      No         No      45           No   \n",
       "4  9237-HQITU  Female              0      No         No       2          Yes   \n",
       "\n",
       "      MultipleLines InternetService OnlineSecurity OnlineBackup  \\\n",
       "0  No phone service             DSL             No          Yes   \n",
       "1                No             DSL            Yes           No   \n",
       "2                No             DSL            Yes          Yes   \n",
       "3  No phone service             DSL            Yes           No   \n",
       "4                No     Fiber optic             No           No   \n",
       "\n",
       "  DeviceProtection TechSupport StreamingTV StreamingMovies        Contract  \\\n",
       "0               No          No          No              No  Month-to-month   \n",
       "1              Yes          No          No              No        One year   \n",
       "2               No          No          No              No  Month-to-month   \n",
       "3              Yes         Yes          No              No        One year   \n",
       "4               No          No          No              No  Month-to-month   \n",
       "\n",
       "  PaperlessBilling              PaymentMethod  MonthlyCharges TotalCharges  \\\n",
       "0              Yes           Electronic check           29.85        29.85   \n",
       "1               No               Mailed check           56.95       1889.5   \n",
       "2              Yes               Mailed check           53.85       108.15   \n",
       "3               No  Bank transfer (automatic)           42.30      1840.75   \n",
       "4              Yes           Electronic check           70.70       151.65   \n",
       "\n",
       "  Churn  \n",
       "0    No  \n",
       "1    No  \n",
       "2   Yes  \n",
       "3    No  \n",
       "4   Yes  "
      ]
     },
     "execution_count": 92,
     "metadata": {},
     "output_type": "execute_result"
    }
   ],
   "source": [
    "df.head(5)"
   ]
  },
  {
   "attachments": {},
   "cell_type": "markdown",
   "metadata": {},
   "source": [
    "### Omiting Redundant Fields\n"
   ]
  },
  {
   "cell_type": "code",
   "execution_count": 93,
   "metadata": {},
   "outputs": [],
   "source": [
    "df.drop([\"customerID\"], axis = 1, inplace = True)"
   ]
  },
  {
   "attachments": {},
   "cell_type": "markdown",
   "metadata": {},
   "source": [
    "### Mending The Datset Fields' Names\n"
   ]
  },
  {
   "cell_type": "code",
   "execution_count": 94,
   "metadata": {},
   "outputs": [],
   "source": [
    "fields = [field.capitalize() for field in list(df.columns)]\n",
    "\n",
    "df.columns = fields"
   ]
  },
  {
   "attachments": {},
   "cell_type": "markdown",
   "metadata": {},
   "source": [
    "### Examining Missing Values and Datatypes"
   ]
  },
  {
   "cell_type": "code",
   "execution_count": 95,
   "metadata": {},
   "outputs": [
    {
     "name": "stdout",
     "output_type": "stream",
     "text": [
      "<class 'pandas.core.frame.DataFrame'>\n",
      "RangeIndex: 7043 entries, 0 to 7042\n",
      "Data columns (total 20 columns):\n",
      " #   Column            Non-Null Count  Dtype  \n",
      "---  ------            --------------  -----  \n",
      " 0   Gender            7043 non-null   object \n",
      " 1   Seniorcitizen     7043 non-null   int64  \n",
      " 2   Partner           7043 non-null   object \n",
      " 3   Dependents        7043 non-null   object \n",
      " 4   Tenure            7043 non-null   int64  \n",
      " 5   Phoneservice      7043 non-null   object \n",
      " 6   Multiplelines     7043 non-null   object \n",
      " 7   Internetservice   7043 non-null   object \n",
      " 8   Onlinesecurity    7043 non-null   object \n",
      " 9   Onlinebackup      7043 non-null   object \n",
      " 10  Deviceprotection  7043 non-null   object \n",
      " 11  Techsupport       7043 non-null   object \n",
      " 12  Streamingtv       7043 non-null   object \n",
      " 13  Streamingmovies   7043 non-null   object \n",
      " 14  Contract          7043 non-null   object \n",
      " 15  Paperlessbilling  7043 non-null   object \n",
      " 16  Paymentmethod     7043 non-null   object \n",
      " 17  Monthlycharges    7043 non-null   float64\n",
      " 18  Totalcharges      7043 non-null   object \n",
      " 19  Churn             7043 non-null   object \n",
      "dtypes: float64(1), int64(2), object(17)\n",
      "memory usage: 1.1+ MB\n"
     ]
    }
   ],
   "source": [
    "df.info()"
   ]
  },
  {
   "attachments": {},
   "cell_type": "markdown",
   "metadata": {},
   "source": [
    "### Examining Unique Values\n"
   ]
  },
  {
   "cell_type": "code",
   "execution_count": 96,
   "metadata": {},
   "outputs": [
    {
     "data": {
      "text/html": [
       "<div>\n",
       "<style scoped>\n",
       "    .dataframe tbody tr th:only-of-type {\n",
       "        vertical-align: middle;\n",
       "    }\n",
       "\n",
       "    .dataframe tbody tr th {\n",
       "        vertical-align: top;\n",
       "    }\n",
       "\n",
       "    .dataframe thead th {\n",
       "        text-align: right;\n",
       "    }\n",
       "</style>\n",
       "<table border=\"1\" class=\"dataframe\">\n",
       "  <thead>\n",
       "    <tr style=\"text-align: right;\">\n",
       "      <th></th>\n",
       "      <th>Field_Name</th>\n",
       "      <th>Unique_Values_Num</th>\n",
       "    </tr>\n",
       "  </thead>\n",
       "  <tbody>\n",
       "    <tr>\n",
       "      <th>1</th>\n",
       "      <td>Gender</td>\n",
       "      <td>2</td>\n",
       "    </tr>\n",
       "    <tr>\n",
       "      <th>2</th>\n",
       "      <td>Seniorcitizen</td>\n",
       "      <td>2</td>\n",
       "    </tr>\n",
       "    <tr>\n",
       "      <th>3</th>\n",
       "      <td>Partner</td>\n",
       "      <td>2</td>\n",
       "    </tr>\n",
       "    <tr>\n",
       "      <th>4</th>\n",
       "      <td>Dependents</td>\n",
       "      <td>2</td>\n",
       "    </tr>\n",
       "    <tr>\n",
       "      <th>5</th>\n",
       "      <td>Tenure</td>\n",
       "      <td>73</td>\n",
       "    </tr>\n",
       "    <tr>\n",
       "      <th>6</th>\n",
       "      <td>Phoneservice</td>\n",
       "      <td>2</td>\n",
       "    </tr>\n",
       "    <tr>\n",
       "      <th>7</th>\n",
       "      <td>Multiplelines</td>\n",
       "      <td>3</td>\n",
       "    </tr>\n",
       "    <tr>\n",
       "      <th>8</th>\n",
       "      <td>Internetservice</td>\n",
       "      <td>3</td>\n",
       "    </tr>\n",
       "    <tr>\n",
       "      <th>9</th>\n",
       "      <td>Onlinesecurity</td>\n",
       "      <td>3</td>\n",
       "    </tr>\n",
       "    <tr>\n",
       "      <th>10</th>\n",
       "      <td>Onlinebackup</td>\n",
       "      <td>3</td>\n",
       "    </tr>\n",
       "    <tr>\n",
       "      <th>11</th>\n",
       "      <td>Deviceprotection</td>\n",
       "      <td>3</td>\n",
       "    </tr>\n",
       "    <tr>\n",
       "      <th>12</th>\n",
       "      <td>Techsupport</td>\n",
       "      <td>3</td>\n",
       "    </tr>\n",
       "    <tr>\n",
       "      <th>13</th>\n",
       "      <td>Streamingtv</td>\n",
       "      <td>3</td>\n",
       "    </tr>\n",
       "    <tr>\n",
       "      <th>14</th>\n",
       "      <td>Streamingmovies</td>\n",
       "      <td>3</td>\n",
       "    </tr>\n",
       "    <tr>\n",
       "      <th>15</th>\n",
       "      <td>Contract</td>\n",
       "      <td>3</td>\n",
       "    </tr>\n",
       "    <tr>\n",
       "      <th>16</th>\n",
       "      <td>Paperlessbilling</td>\n",
       "      <td>2</td>\n",
       "    </tr>\n",
       "    <tr>\n",
       "      <th>17</th>\n",
       "      <td>Paymentmethod</td>\n",
       "      <td>4</td>\n",
       "    </tr>\n",
       "    <tr>\n",
       "      <th>18</th>\n",
       "      <td>Monthlycharges</td>\n",
       "      <td>1585</td>\n",
       "    </tr>\n",
       "    <tr>\n",
       "      <th>19</th>\n",
       "      <td>Totalcharges</td>\n",
       "      <td>6531</td>\n",
       "    </tr>\n",
       "    <tr>\n",
       "      <th>20</th>\n",
       "      <td>Churn</td>\n",
       "      <td>2</td>\n",
       "    </tr>\n",
       "  </tbody>\n",
       "</table>\n",
       "</div>"
      ],
      "text/plain": [
       "          Field_Name  Unique_Values_Num\n",
       "1             Gender                  2\n",
       "2      Seniorcitizen                  2\n",
       "3            Partner                  2\n",
       "4         Dependents                  2\n",
       "5             Tenure                 73\n",
       "6       Phoneservice                  2\n",
       "7      Multiplelines                  3\n",
       "8    Internetservice                  3\n",
       "9     Onlinesecurity                  3\n",
       "10      Onlinebackup                  3\n",
       "11  Deviceprotection                  3\n",
       "12       Techsupport                  3\n",
       "13       Streamingtv                  3\n",
       "14   Streamingmovies                  3\n",
       "15          Contract                  3\n",
       "16  Paperlessbilling                  2\n",
       "17     Paymentmethod                  4\n",
       "18    Monthlycharges               1585\n",
       "19      Totalcharges               6531\n",
       "20             Churn                  2"
      ]
     },
     "execution_count": 96,
     "metadata": {},
     "output_type": "execute_result"
    }
   ],
   "source": [
    "f_num_unique_values(df)"
   ]
  },
  {
   "attachments": {},
   "cell_type": "markdown",
   "metadata": {},
   "source": [
    "### Fixing Datatypes"
   ]
  },
  {
   "cell_type": "code",
   "execution_count": 97,
   "metadata": {},
   "outputs": [
    {
     "name": "stdout",
     "output_type": "stream",
     "text": [
      "There are 11 records with non numeric values.\n",
      "Indexes of not float datatypes of the field Totalcharges are:\n",
      "488, 753, 936, 1082, 1340, 3331, 3826, 4380, 5218, 6670, 6754\n"
     ]
    },
    {
     "data": {
      "text/html": [
       "<div>\n",
       "<style scoped>\n",
       "    .dataframe tbody tr th:only-of-type {\n",
       "        vertical-align: middle;\n",
       "    }\n",
       "\n",
       "    .dataframe tbody tr th {\n",
       "        vertical-align: top;\n",
       "    }\n",
       "\n",
       "    .dataframe thead th {\n",
       "        text-align: right;\n",
       "    }\n",
       "</style>\n",
       "<table border=\"1\" class=\"dataframe\">\n",
       "  <thead>\n",
       "    <tr style=\"text-align: right;\">\n",
       "      <th></th>\n",
       "      <th>Gender</th>\n",
       "      <th>Seniorcitizen</th>\n",
       "      <th>Partner</th>\n",
       "      <th>Dependents</th>\n",
       "      <th>Tenure</th>\n",
       "      <th>Phoneservice</th>\n",
       "      <th>Multiplelines</th>\n",
       "      <th>Internetservice</th>\n",
       "      <th>Onlinesecurity</th>\n",
       "      <th>Onlinebackup</th>\n",
       "      <th>Deviceprotection</th>\n",
       "      <th>Techsupport</th>\n",
       "      <th>Streamingtv</th>\n",
       "      <th>Streamingmovies</th>\n",
       "      <th>Contract</th>\n",
       "      <th>Paperlessbilling</th>\n",
       "      <th>Paymentmethod</th>\n",
       "      <th>Monthlycharges</th>\n",
       "      <th>Totalcharges</th>\n",
       "      <th>Churn</th>\n",
       "    </tr>\n",
       "  </thead>\n",
       "  <tbody>\n",
       "    <tr>\n",
       "      <th>488</th>\n",
       "      <td>Female</td>\n",
       "      <td>0</td>\n",
       "      <td>Yes</td>\n",
       "      <td>Yes</td>\n",
       "      <td>0</td>\n",
       "      <td>No</td>\n",
       "      <td>No phone service</td>\n",
       "      <td>DSL</td>\n",
       "      <td>Yes</td>\n",
       "      <td>No</td>\n",
       "      <td>Yes</td>\n",
       "      <td>Yes</td>\n",
       "      <td>Yes</td>\n",
       "      <td>No</td>\n",
       "      <td>Two year</td>\n",
       "      <td>Yes</td>\n",
       "      <td>Bank transfer (automatic)</td>\n",
       "      <td>52.55</td>\n",
       "      <td></td>\n",
       "      <td>No</td>\n",
       "    </tr>\n",
       "    <tr>\n",
       "      <th>753</th>\n",
       "      <td>Male</td>\n",
       "      <td>0</td>\n",
       "      <td>No</td>\n",
       "      <td>Yes</td>\n",
       "      <td>0</td>\n",
       "      <td>Yes</td>\n",
       "      <td>No</td>\n",
       "      <td>No</td>\n",
       "      <td>No internet service</td>\n",
       "      <td>No internet service</td>\n",
       "      <td>No internet service</td>\n",
       "      <td>No internet service</td>\n",
       "      <td>No internet service</td>\n",
       "      <td>No internet service</td>\n",
       "      <td>Two year</td>\n",
       "      <td>No</td>\n",
       "      <td>Mailed check</td>\n",
       "      <td>20.25</td>\n",
       "      <td></td>\n",
       "      <td>No</td>\n",
       "    </tr>\n",
       "    <tr>\n",
       "      <th>936</th>\n",
       "      <td>Female</td>\n",
       "      <td>0</td>\n",
       "      <td>Yes</td>\n",
       "      <td>Yes</td>\n",
       "      <td>0</td>\n",
       "      <td>Yes</td>\n",
       "      <td>No</td>\n",
       "      <td>DSL</td>\n",
       "      <td>Yes</td>\n",
       "      <td>Yes</td>\n",
       "      <td>Yes</td>\n",
       "      <td>No</td>\n",
       "      <td>Yes</td>\n",
       "      <td>Yes</td>\n",
       "      <td>Two year</td>\n",
       "      <td>No</td>\n",
       "      <td>Mailed check</td>\n",
       "      <td>80.85</td>\n",
       "      <td></td>\n",
       "      <td>No</td>\n",
       "    </tr>\n",
       "    <tr>\n",
       "      <th>1082</th>\n",
       "      <td>Male</td>\n",
       "      <td>0</td>\n",
       "      <td>Yes</td>\n",
       "      <td>Yes</td>\n",
       "      <td>0</td>\n",
       "      <td>Yes</td>\n",
       "      <td>Yes</td>\n",
       "      <td>No</td>\n",
       "      <td>No internet service</td>\n",
       "      <td>No internet service</td>\n",
       "      <td>No internet service</td>\n",
       "      <td>No internet service</td>\n",
       "      <td>No internet service</td>\n",
       "      <td>No internet service</td>\n",
       "      <td>Two year</td>\n",
       "      <td>No</td>\n",
       "      <td>Mailed check</td>\n",
       "      <td>25.75</td>\n",
       "      <td></td>\n",
       "      <td>No</td>\n",
       "    </tr>\n",
       "    <tr>\n",
       "      <th>1340</th>\n",
       "      <td>Female</td>\n",
       "      <td>0</td>\n",
       "      <td>Yes</td>\n",
       "      <td>Yes</td>\n",
       "      <td>0</td>\n",
       "      <td>No</td>\n",
       "      <td>No phone service</td>\n",
       "      <td>DSL</td>\n",
       "      <td>Yes</td>\n",
       "      <td>Yes</td>\n",
       "      <td>Yes</td>\n",
       "      <td>Yes</td>\n",
       "      <td>Yes</td>\n",
       "      <td>No</td>\n",
       "      <td>Two year</td>\n",
       "      <td>No</td>\n",
       "      <td>Credit card (automatic)</td>\n",
       "      <td>56.05</td>\n",
       "      <td></td>\n",
       "      <td>No</td>\n",
       "    </tr>\n",
       "    <tr>\n",
       "      <th>3331</th>\n",
       "      <td>Male</td>\n",
       "      <td>0</td>\n",
       "      <td>Yes</td>\n",
       "      <td>Yes</td>\n",
       "      <td>0</td>\n",
       "      <td>Yes</td>\n",
       "      <td>No</td>\n",
       "      <td>No</td>\n",
       "      <td>No internet service</td>\n",
       "      <td>No internet service</td>\n",
       "      <td>No internet service</td>\n",
       "      <td>No internet service</td>\n",
       "      <td>No internet service</td>\n",
       "      <td>No internet service</td>\n",
       "      <td>Two year</td>\n",
       "      <td>No</td>\n",
       "      <td>Mailed check</td>\n",
       "      <td>19.85</td>\n",
       "      <td></td>\n",
       "      <td>No</td>\n",
       "    </tr>\n",
       "    <tr>\n",
       "      <th>3826</th>\n",
       "      <td>Male</td>\n",
       "      <td>0</td>\n",
       "      <td>Yes</td>\n",
       "      <td>Yes</td>\n",
       "      <td>0</td>\n",
       "      <td>Yes</td>\n",
       "      <td>Yes</td>\n",
       "      <td>No</td>\n",
       "      <td>No internet service</td>\n",
       "      <td>No internet service</td>\n",
       "      <td>No internet service</td>\n",
       "      <td>No internet service</td>\n",
       "      <td>No internet service</td>\n",
       "      <td>No internet service</td>\n",
       "      <td>Two year</td>\n",
       "      <td>No</td>\n",
       "      <td>Mailed check</td>\n",
       "      <td>25.35</td>\n",
       "      <td></td>\n",
       "      <td>No</td>\n",
       "    </tr>\n",
       "    <tr>\n",
       "      <th>4380</th>\n",
       "      <td>Female</td>\n",
       "      <td>0</td>\n",
       "      <td>Yes</td>\n",
       "      <td>Yes</td>\n",
       "      <td>0</td>\n",
       "      <td>Yes</td>\n",
       "      <td>No</td>\n",
       "      <td>No</td>\n",
       "      <td>No internet service</td>\n",
       "      <td>No internet service</td>\n",
       "      <td>No internet service</td>\n",
       "      <td>No internet service</td>\n",
       "      <td>No internet service</td>\n",
       "      <td>No internet service</td>\n",
       "      <td>Two year</td>\n",
       "      <td>No</td>\n",
       "      <td>Mailed check</td>\n",
       "      <td>20.00</td>\n",
       "      <td></td>\n",
       "      <td>No</td>\n",
       "    </tr>\n",
       "    <tr>\n",
       "      <th>5218</th>\n",
       "      <td>Male</td>\n",
       "      <td>0</td>\n",
       "      <td>Yes</td>\n",
       "      <td>Yes</td>\n",
       "      <td>0</td>\n",
       "      <td>Yes</td>\n",
       "      <td>No</td>\n",
       "      <td>No</td>\n",
       "      <td>No internet service</td>\n",
       "      <td>No internet service</td>\n",
       "      <td>No internet service</td>\n",
       "      <td>No internet service</td>\n",
       "      <td>No internet service</td>\n",
       "      <td>No internet service</td>\n",
       "      <td>One year</td>\n",
       "      <td>Yes</td>\n",
       "      <td>Mailed check</td>\n",
       "      <td>19.70</td>\n",
       "      <td></td>\n",
       "      <td>No</td>\n",
       "    </tr>\n",
       "    <tr>\n",
       "      <th>6670</th>\n",
       "      <td>Female</td>\n",
       "      <td>0</td>\n",
       "      <td>Yes</td>\n",
       "      <td>Yes</td>\n",
       "      <td>0</td>\n",
       "      <td>Yes</td>\n",
       "      <td>Yes</td>\n",
       "      <td>DSL</td>\n",
       "      <td>No</td>\n",
       "      <td>Yes</td>\n",
       "      <td>Yes</td>\n",
       "      <td>Yes</td>\n",
       "      <td>Yes</td>\n",
       "      <td>No</td>\n",
       "      <td>Two year</td>\n",
       "      <td>No</td>\n",
       "      <td>Mailed check</td>\n",
       "      <td>73.35</td>\n",
       "      <td></td>\n",
       "      <td>No</td>\n",
       "    </tr>\n",
       "    <tr>\n",
       "      <th>6754</th>\n",
       "      <td>Male</td>\n",
       "      <td>0</td>\n",
       "      <td>No</td>\n",
       "      <td>Yes</td>\n",
       "      <td>0</td>\n",
       "      <td>Yes</td>\n",
       "      <td>Yes</td>\n",
       "      <td>DSL</td>\n",
       "      <td>Yes</td>\n",
       "      <td>Yes</td>\n",
       "      <td>No</td>\n",
       "      <td>Yes</td>\n",
       "      <td>No</td>\n",
       "      <td>No</td>\n",
       "      <td>Two year</td>\n",
       "      <td>Yes</td>\n",
       "      <td>Bank transfer (automatic)</td>\n",
       "      <td>61.90</td>\n",
       "      <td></td>\n",
       "      <td>No</td>\n",
       "    </tr>\n",
       "  </tbody>\n",
       "</table>\n",
       "</div>"
      ],
      "text/plain": [
       "      Gender  Seniorcitizen Partner Dependents  Tenure Phoneservice  \\\n",
       "488   Female              0     Yes        Yes       0           No   \n",
       "753     Male              0      No        Yes       0          Yes   \n",
       "936   Female              0     Yes        Yes       0          Yes   \n",
       "1082    Male              0     Yes        Yes       0          Yes   \n",
       "1340  Female              0     Yes        Yes       0           No   \n",
       "3331    Male              0     Yes        Yes       0          Yes   \n",
       "3826    Male              0     Yes        Yes       0          Yes   \n",
       "4380  Female              0     Yes        Yes       0          Yes   \n",
       "5218    Male              0     Yes        Yes       0          Yes   \n",
       "6670  Female              0     Yes        Yes       0          Yes   \n",
       "6754    Male              0      No        Yes       0          Yes   \n",
       "\n",
       "         Multiplelines Internetservice       Onlinesecurity  \\\n",
       "488   No phone service             DSL                  Yes   \n",
       "753                 No              No  No internet service   \n",
       "936                 No             DSL                  Yes   \n",
       "1082               Yes              No  No internet service   \n",
       "1340  No phone service             DSL                  Yes   \n",
       "3331                No              No  No internet service   \n",
       "3826               Yes              No  No internet service   \n",
       "4380                No              No  No internet service   \n",
       "5218                No              No  No internet service   \n",
       "6670               Yes             DSL                   No   \n",
       "6754               Yes             DSL                  Yes   \n",
       "\n",
       "             Onlinebackup     Deviceprotection          Techsupport  \\\n",
       "488                    No                  Yes                  Yes   \n",
       "753   No internet service  No internet service  No internet service   \n",
       "936                   Yes                  Yes                   No   \n",
       "1082  No internet service  No internet service  No internet service   \n",
       "1340                  Yes                  Yes                  Yes   \n",
       "3331  No internet service  No internet service  No internet service   \n",
       "3826  No internet service  No internet service  No internet service   \n",
       "4380  No internet service  No internet service  No internet service   \n",
       "5218  No internet service  No internet service  No internet service   \n",
       "6670                  Yes                  Yes                  Yes   \n",
       "6754                  Yes                   No                  Yes   \n",
       "\n",
       "              Streamingtv      Streamingmovies  Contract Paperlessbilling  \\\n",
       "488                   Yes                   No  Two year              Yes   \n",
       "753   No internet service  No internet service  Two year               No   \n",
       "936                   Yes                  Yes  Two year               No   \n",
       "1082  No internet service  No internet service  Two year               No   \n",
       "1340                  Yes                   No  Two year               No   \n",
       "3331  No internet service  No internet service  Two year               No   \n",
       "3826  No internet service  No internet service  Two year               No   \n",
       "4380  No internet service  No internet service  Two year               No   \n",
       "5218  No internet service  No internet service  One year              Yes   \n",
       "6670                  Yes                   No  Two year               No   \n",
       "6754                   No                   No  Two year              Yes   \n",
       "\n",
       "                  Paymentmethod  Monthlycharges Totalcharges Churn  \n",
       "488   Bank transfer (automatic)           52.55                 No  \n",
       "753                Mailed check           20.25                 No  \n",
       "936                Mailed check           80.85                 No  \n",
       "1082               Mailed check           25.75                 No  \n",
       "1340    Credit card (automatic)           56.05                 No  \n",
       "3331               Mailed check           19.85                 No  \n",
       "3826               Mailed check           25.35                 No  \n",
       "4380               Mailed check           20.00                 No  \n",
       "5218               Mailed check           19.70                 No  \n",
       "6670               Mailed check           73.35                 No  \n",
       "6754  Bank transfer (automatic)           61.90                 No  "
      ]
     },
     "execution_count": 97,
     "metadata": {},
     "output_type": "execute_result"
    }
   ],
   "source": [
    "f_not_numeric(df, \"Totalcharges\")"
   ]
  },
  {
   "cell_type": "code",
   "execution_count": 98,
   "metadata": {},
   "outputs": [
    {
     "name": "stdout",
     "output_type": "stream",
     "text": [
      "<class 'pandas.core.frame.DataFrame'>\n",
      "RangeIndex: 7043 entries, 0 to 7042\n",
      "Data columns (total 1 columns):\n",
      " #   Column        Non-Null Count  Dtype \n",
      "---  ------        --------------  ----- \n",
      " 0   Totalcharges  7032 non-null   object\n",
      "dtypes: object(1)\n",
      "memory usage: 55.1+ KB\n"
     ]
    }
   ],
   "source": [
    "non_numeric_index = [488, 753, 936, 1082, 1340, 3331, 3826, 4380, 5218, 6670, 6754]\n",
    "\n",
    "for i in non_numeric_index:\n",
    "    df.at[i, \"Totalcharges\"] = np.nan\n",
    "\n",
    "df[[\"Totalcharges\"]].info()"
   ]
  },
  {
   "cell_type": "code",
   "execution_count": 99,
   "metadata": {},
   "outputs": [
    {
     "data": {
      "text/html": [
       "<div>\n",
       "<style scoped>\n",
       "    .dataframe tbody tr th:only-of-type {\n",
       "        vertical-align: middle;\n",
       "    }\n",
       "\n",
       "    .dataframe tbody tr th {\n",
       "        vertical-align: top;\n",
       "    }\n",
       "\n",
       "    .dataframe thead th {\n",
       "        text-align: right;\n",
       "    }\n",
       "</style>\n",
       "<table border=\"1\" class=\"dataframe\">\n",
       "  <thead>\n",
       "    <tr style=\"text-align: right;\">\n",
       "      <th></th>\n",
       "      <th>Totalcharges</th>\n",
       "    </tr>\n",
       "  </thead>\n",
       "  <tbody>\n",
       "    <tr>\n",
       "      <th>488</th>\n",
       "      <td>2283.300441</td>\n",
       "    </tr>\n",
       "    <tr>\n",
       "      <th>753</th>\n",
       "      <td>2283.300441</td>\n",
       "    </tr>\n",
       "    <tr>\n",
       "      <th>936</th>\n",
       "      <td>2283.300441</td>\n",
       "    </tr>\n",
       "    <tr>\n",
       "      <th>1082</th>\n",
       "      <td>2283.300441</td>\n",
       "    </tr>\n",
       "    <tr>\n",
       "      <th>1340</th>\n",
       "      <td>2283.300441</td>\n",
       "    </tr>\n",
       "    <tr>\n",
       "      <th>3331</th>\n",
       "      <td>2283.300441</td>\n",
       "    </tr>\n",
       "    <tr>\n",
       "      <th>3826</th>\n",
       "      <td>2283.300441</td>\n",
       "    </tr>\n",
       "    <tr>\n",
       "      <th>4380</th>\n",
       "      <td>2283.300441</td>\n",
       "    </tr>\n",
       "    <tr>\n",
       "      <th>5218</th>\n",
       "      <td>2283.300441</td>\n",
       "    </tr>\n",
       "    <tr>\n",
       "      <th>6670</th>\n",
       "      <td>2283.300441</td>\n",
       "    </tr>\n",
       "    <tr>\n",
       "      <th>6754</th>\n",
       "      <td>2283.300441</td>\n",
       "    </tr>\n",
       "  </tbody>\n",
       "</table>\n",
       "</div>"
      ],
      "text/plain": [
       "      Totalcharges\n",
       "488    2283.300441\n",
       "753    2283.300441\n",
       "936    2283.300441\n",
       "1082   2283.300441\n",
       "1340   2283.300441\n",
       "3331   2283.300441\n",
       "3826   2283.300441\n",
       "4380   2283.300441\n",
       "5218   2283.300441\n",
       "6670   2283.300441\n",
       "6754   2283.300441"
      ]
     },
     "execution_count": 99,
     "metadata": {},
     "output_type": "execute_result"
    }
   ],
   "source": [
    "imputer = SimpleImputer(strategy = \"mean\")\n",
    "\n",
    "df[\"Totalcharges\"] = imputer.fit_transform(df[\"Totalcharges\"].values.reshape(-1, 1))\n",
    "\n",
    "df.loc[non_numeric_index, [\"Totalcharges\"]]"
   ]
  },
  {
   "cell_type": "code",
   "execution_count": 100,
   "metadata": {},
   "outputs": [
    {
     "name": "stdout",
     "output_type": "stream",
     "text": [
      "<class 'pandas.core.frame.DataFrame'>\n",
      "RangeIndex: 7043 entries, 0 to 7042\n",
      "Data columns (total 1 columns):\n",
      " #   Column        Non-Null Count  Dtype  \n",
      "---  ------        --------------  -----  \n",
      " 0   Totalcharges  7043 non-null   float64\n",
      "dtypes: float64(1)\n",
      "memory usage: 55.1 KB\n"
     ]
    }
   ],
   "source": [
    "df[[\"Totalcharges\"]].info()"
   ]
  },
  {
   "attachments": {},
   "cell_type": "markdown",
   "metadata": {},
   "source": [
    "### Separating Fields to Numerical and Categorical"
   ]
  },
  {
   "cell_type": "code",
   "execution_count": 101,
   "metadata": {},
   "outputs": [],
   "source": [
    "num_fields = [\"Tenure\", \"Monthlycharges\", \"Totalcharges\"]\n",
    "\n",
    "cat_fields = list(df.columns)\n",
    "\n",
    "for field in num_fields:\n",
    "    cat_fields.remove(field) "
   ]
  },
  {
   "attachments": {},
   "cell_type": "markdown",
   "metadata": {},
   "source": [
    "[Project Content](#0)\n"
   ]
  },
  {
   "attachments": {},
   "cell_type": "markdown",
   "metadata": {},
   "source": [
    "## 4. Exploratory Data Analysis <a id = 4></a>\n"
   ]
  },
  {
   "attachments": {},
   "cell_type": "markdown",
   "metadata": {},
   "source": [
    "### Examining Statistics of Numeric Fields\n"
   ]
  },
  {
   "cell_type": "code",
   "execution_count": 102,
   "metadata": {},
   "outputs": [
    {
     "name": "stdout",
     "output_type": "stream",
     "text": [
      "Numerical fields are:\n"
     ]
    },
    {
     "data": {
      "text/html": [
       "<div>\n",
       "<style scoped>\n",
       "    .dataframe tbody tr th:only-of-type {\n",
       "        vertical-align: middle;\n",
       "    }\n",
       "\n",
       "    .dataframe tbody tr th {\n",
       "        vertical-align: top;\n",
       "    }\n",
       "\n",
       "    .dataframe thead th {\n",
       "        text-align: right;\n",
       "    }\n",
       "</style>\n",
       "<table border=\"1\" class=\"dataframe\">\n",
       "  <thead>\n",
       "    <tr style=\"text-align: right;\">\n",
       "      <th></th>\n",
       "      <th>count</th>\n",
       "      <th>mean</th>\n",
       "      <th>std</th>\n",
       "      <th>min</th>\n",
       "      <th>25%</th>\n",
       "      <th>50%</th>\n",
       "      <th>75%</th>\n",
       "      <th>max</th>\n",
       "    </tr>\n",
       "  </thead>\n",
       "  <tbody>\n",
       "    <tr>\n",
       "      <th>Tenure</th>\n",
       "      <td>7043.0</td>\n",
       "      <td>32.371149</td>\n",
       "      <td>24.559481</td>\n",
       "      <td>0.00</td>\n",
       "      <td>9.000</td>\n",
       "      <td>29.00</td>\n",
       "      <td>55.00</td>\n",
       "      <td>72.00</td>\n",
       "    </tr>\n",
       "    <tr>\n",
       "      <th>Monthlycharges</th>\n",
       "      <td>7043.0</td>\n",
       "      <td>64.761692</td>\n",
       "      <td>30.090047</td>\n",
       "      <td>18.25</td>\n",
       "      <td>35.500</td>\n",
       "      <td>70.35</td>\n",
       "      <td>89.85</td>\n",
       "      <td>118.75</td>\n",
       "    </tr>\n",
       "    <tr>\n",
       "      <th>Totalcharges</th>\n",
       "      <td>7043.0</td>\n",
       "      <td>2283.300441</td>\n",
       "      <td>2265.000258</td>\n",
       "      <td>18.80</td>\n",
       "      <td>402.225</td>\n",
       "      <td>1400.55</td>\n",
       "      <td>3786.60</td>\n",
       "      <td>8684.80</td>\n",
       "    </tr>\n",
       "  </tbody>\n",
       "</table>\n",
       "</div>"
      ],
      "text/plain": [
       "                 count         mean          std    min      25%      50%  \\\n",
       "Tenure          7043.0    32.371149    24.559481   0.00    9.000    29.00   \n",
       "Monthlycharges  7043.0    64.761692    30.090047  18.25   35.500    70.35   \n",
       "Totalcharges    7043.0  2283.300441  2265.000258  18.80  402.225  1400.55   \n",
       "\n",
       "                    75%      max  \n",
       "Tenure            55.00    72.00  \n",
       "Monthlycharges    89.85   118.75  \n",
       "Totalcharges    3786.60  8684.80  "
      ]
     },
     "execution_count": 102,
     "metadata": {},
     "output_type": "execute_result"
    }
   ],
   "source": [
    "print(\"Numerical fields are:\")\n",
    "\n",
    "(df[num_fields].describe()).T"
   ]
  },
  {
   "cell_type": "code",
   "execution_count": 103,
   "metadata": {},
   "outputs": [
    {
     "data": {
      "image/png": "[encoded data removed]",
      "text/plain": [
       "<Figure size 3000x800 with 3 Axes>"
      ]
     },
     "metadata": {},
     "output_type": "display_data"
    }
   ],
   "source": [
    "title_font = {\"family\" : \"arial\", \"color\" : \"k\", \"weight\" : \"bold\", \"size\" : 14}\n",
    "axes_font = {\"family\" : \"arial\", \"color\" : \"darkgreen\", \"weight\" : \"bold\", \"size\" : 12}\n",
    "\n",
    "figure, axes = plt.subplots(1, 3, figsize = (30, 8))\n",
    "\n",
    "for field in num_fields:\n",
    "    \n",
    "    j = num_fields.index(field)\n",
    "    \n",
    "    sns.distplot(df[field], kde = True, bins = 20, color = \"#13787d\", hist_kws = dict(linewidth = 2, edgecolor = \"white\"), ax = axes[j])\n",
    "    \n",
    "    axes[j].axvline(df[field].mean(), color = \"r\", alpha = 0.5, ls = \"--\", lw = 2)\n",
    "    \n",
    "    axes[j].text(x = df[field].mean(), y = (axes[j].get_ylim()[1]) / 2, s = \" Mean\", color = \"red\", weight = \"bold\")\n",
    "                \n",
    "    axes[j].set_title(field, fontdict = title_font)\n",
    "    axes[j].set_xlabel(field, fontdict = axes_font)\n",
    "    axes[j].set_ylabel(\"Density\", fontdict = axes_font)\n",
    "    \n",
    "    axes[j].annotate(\"Shapiro-Wilk Test Results\\n-----------------------------------\",\n",
    "                        xy = (0.6, 0.8), xycoords = \"axes fraction\", fontsize = 10, horizontalalignment = \"left\", verticalalignment = \"bottom\", weight = \"bold\")\n",
    "    axes[j].annotate(f\"Statistics = {round(shapiro(df[field])[0], 4)}\\nP-Value = {round(shapiro(df[field])[1], 4)}\",\n",
    "                        xy = (0.6, 0.75), xycoords = \"axes fraction\", fontsize = 10, horizontalalignment = \"left\", verticalalignment = \"bottom\")\n",
    "  \n",
    "plt.show()"
   ]
  },
  {
   "attachments": {},
   "cell_type": "markdown",
   "metadata": {},
   "source": [
    "### Examining Statistics of Categorical Fields\n"
   ]
  },
  {
   "cell_type": "code",
   "execution_count": 104,
   "metadata": {},
   "outputs": [
    {
     "name": "stdout",
     "output_type": "stream",
     "text": [
      "Categorical fields are:\n"
     ]
    },
    {
     "data": {
      "text/html": [
       "<div>\n",
       "<style scoped>\n",
       "    .dataframe tbody tr th:only-of-type {\n",
       "        vertical-align: middle;\n",
       "    }\n",
       "\n",
       "    .dataframe tbody tr th {\n",
       "        vertical-align: top;\n",
       "    }\n",
       "\n",
       "    .dataframe thead th {\n",
       "        text-align: right;\n",
       "    }\n",
       "</style>\n",
       "<table border=\"1\" class=\"dataframe\">\n",
       "  <thead>\n",
       "    <tr style=\"text-align: right;\">\n",
       "      <th></th>\n",
       "      <th>Field_Name</th>\n",
       "      <th>Unique_Values</th>\n",
       "    </tr>\n",
       "  </thead>\n",
       "  <tbody>\n",
       "    <tr>\n",
       "      <th>1</th>\n",
       "      <td>Gender</td>\n",
       "      <td>Female | Male</td>\n",
       "    </tr>\n",
       "    <tr>\n",
       "      <th>2</th>\n",
       "      <td>Seniorcitizen</td>\n",
       "      <td>0 | 1</td>\n",
       "    </tr>\n",
       "    <tr>\n",
       "      <th>3</th>\n",
       "      <td>Partner</td>\n",
       "      <td>Yes | No</td>\n",
       "    </tr>\n",
       "    <tr>\n",
       "      <th>4</th>\n",
       "      <td>Dependents</td>\n",
       "      <td>No | Yes</td>\n",
       "    </tr>\n",
       "    <tr>\n",
       "      <th>5</th>\n",
       "      <td>Phoneservice</td>\n",
       "      <td>No | Yes</td>\n",
       "    </tr>\n",
       "    <tr>\n",
       "      <th>6</th>\n",
       "      <td>Multiplelines</td>\n",
       "      <td>No phone service | No | Yes</td>\n",
       "    </tr>\n",
       "    <tr>\n",
       "      <th>7</th>\n",
       "      <td>Internetservice</td>\n",
       "      <td>DSL | Fiber optic | No</td>\n",
       "    </tr>\n",
       "    <tr>\n",
       "      <th>8</th>\n",
       "      <td>Onlinesecurity</td>\n",
       "      <td>No | Yes | No internet service</td>\n",
       "    </tr>\n",
       "    <tr>\n",
       "      <th>9</th>\n",
       "      <td>Onlinebackup</td>\n",
       "      <td>Yes | No | No internet service</td>\n",
       "    </tr>\n",
       "    <tr>\n",
       "      <th>10</th>\n",
       "      <td>Deviceprotection</td>\n",
       "      <td>No | Yes | No internet service</td>\n",
       "    </tr>\n",
       "    <tr>\n",
       "      <th>11</th>\n",
       "      <td>Techsupport</td>\n",
       "      <td>No | Yes | No internet service</td>\n",
       "    </tr>\n",
       "    <tr>\n",
       "      <th>12</th>\n",
       "      <td>Streamingtv</td>\n",
       "      <td>No | Yes | No internet service</td>\n",
       "    </tr>\n",
       "    <tr>\n",
       "      <th>13</th>\n",
       "      <td>Streamingmovies</td>\n",
       "      <td>No | Yes | No internet service</td>\n",
       "    </tr>\n",
       "    <tr>\n",
       "      <th>14</th>\n",
       "      <td>Contract</td>\n",
       "      <td>Month-to-month | One year | Two year</td>\n",
       "    </tr>\n",
       "    <tr>\n",
       "      <th>15</th>\n",
       "      <td>Paperlessbilling</td>\n",
       "      <td>Yes | No</td>\n",
       "    </tr>\n",
       "    <tr>\n",
       "      <th>16</th>\n",
       "      <td>Paymentmethod</td>\n",
       "      <td>Electronic check | Mailed check | Bank transfer (automatic) | Credit card (automatic)</td>\n",
       "    </tr>\n",
       "    <tr>\n",
       "      <th>17</th>\n",
       "      <td>Churn</td>\n",
       "      <td>No | Yes</td>\n",
       "    </tr>\n",
       "  </tbody>\n",
       "</table>\n",
       "</div>"
      ],
      "text/plain": [
       "          Field_Name  \\\n",
       "1             Gender   \n",
       "2      Seniorcitizen   \n",
       "3            Partner   \n",
       "4         Dependents   \n",
       "5       Phoneservice   \n",
       "6      Multiplelines   \n",
       "7    Internetservice   \n",
       "8     Onlinesecurity   \n",
       "9       Onlinebackup   \n",
       "10  Deviceprotection   \n",
       "11       Techsupport   \n",
       "12       Streamingtv   \n",
       "13   Streamingmovies   \n",
       "14          Contract   \n",
       "15  Paperlessbilling   \n",
       "16     Paymentmethod   \n",
       "17             Churn   \n",
       "\n",
       "                                                                            Unique_Values  \n",
       "1                                                                           Female | Male  \n",
       "2                                                                                   0 | 1  \n",
       "3                                                                                Yes | No  \n",
       "4                                                                                No | Yes  \n",
       "5                                                                                No | Yes  \n",
       "6                                                             No phone service | No | Yes  \n",
       "7                                                                  DSL | Fiber optic | No  \n",
       "8                                                          No | Yes | No internet service  \n",
       "9                                                          Yes | No | No internet service  \n",
       "10                                                         No | Yes | No internet service  \n",
       "11                                                         No | Yes | No internet service  \n",
       "12                                                         No | Yes | No internet service  \n",
       "13                                                         No | Yes | No internet service  \n",
       "14                                                   Month-to-month | One year | Two year  \n",
       "15                                                                               Yes | No  \n",
       "16  Electronic check | Mailed check | Bank transfer (automatic) | Credit card (automatic)  \n",
       "17                                                                               No | Yes  "
      ]
     },
     "execution_count": 104,
     "metadata": {},
     "output_type": "execute_result"
    }
   ],
   "source": [
    "print(\"Categorical fields are:\")\n",
    "\n",
    "f_unique_values(df, fields = cat_fields)"
   ]
  },
  {
   "cell_type": "code",
   "execution_count": 105,
   "metadata": {},
   "outputs": [
    {
     "data": {
      "application/vnd.plotly.v1+json": {
       "config": {
        "plotlyServerURL": "https://plot.ly"
       },
       "data": [
        {
         "domain": {
          "x": [
           0,
           0.2125
          ],
          "y": [
           0,
           1
          ]
         },
         "hovertemplate": "<b>Quantity: </b> %{value} <br>",
         "labels": [
          "Female",
          "Male"
         ],
         "marker": {
          "colors": [
           "gold",
           "mediumturquoise"
          ],
          "line": {
           "color": "white",
           "width": 2
          }
         },
         "name": "Gender",
         "showlegend": false,
         "textfont": {
          "size": 12
         },
         "textinfo": "label+percent",
         "type": "pie",
         "values": [
          3488,
          3555
         ]
        },
        {
         "domain": {
          "x": [
           0.2625,
           0.475
          ],
          "y": [
           0,
           1
          ]
         },
         "hovertemplate": "<b>Quantity: </b> %{value} <br>",
         "labels": [
          "No",
          "Yes"
         ],
         "marker": {
          "colors": [
           "navajowhite",
           "darkorange"
          ],
          "line": {
           "color": "white",
           "width": 2
          }
         },
         "name": "Seniorcitizen",
         "showlegend": false,
         "textfont": {
          "size": 12
         },
         "textinfo": "label+percent",
         "type": "pie",
         "values": [
          5901,
          1142
         ]
        },
        {
         "domain": {
          "x": [
           0.525,
           0.7375
          ],
          "y": [
           0,
           1
          ]
         },
         "hovertemplate": "<b>Quantity: </b> %{value} <br>",
         "labels": [
          "Yes",
          "No"
         ],
         "marker": {
          "colors": [
           "lightgreen",
           "lightseagreen"
          ],
          "line": {
           "color": "white",
           "width": 2
          }
         },
         "name": "Partner",
         "showlegend": false,
         "textfont": {
          "size": 12
         },
         "textinfo": "label+percent",
         "type": "pie",
         "values": [
          3402,
          3641
         ]
        },
        {
         "domain": {
          "x": [
           0.7875,
           1
          ],
          "y": [
           0,
           1
          ]
         },
         "hovertemplate": "<b>Quantity: </b> %{value} <br>",
         "labels": [
          "No",
          "Yes"
         ],
         "marker": {
          "colors": [
           "lightcoral",
           "lightslategrey"
          ],
          "line": {
           "color": "white",
           "width": 2
          }
         },
         "name": "Dependents",
         "showlegend": false,
         "textfont": {
          "size": 12
         },
         "textinfo": "label+percent",
         "type": "pie",
         "values": [
          4933,
          2110
         ]
        }
       ],
       "layout": {
        "annotations": [
         {
          "font": {
           "size": 16
          },
          "showarrow": false,
          "text": "Gender",
          "x": 0.10625,
          "xanchor": "center",
          "xref": "paper",
          "y": 1,
          "yanchor": "bottom",
          "yref": "paper"
         },
         {
          "font": {
           "size": 16
          },
          "showarrow": false,
          "text": "Seniorcitizen",
          "x": 0.36875,
          "xanchor": "center",
          "xref": "paper",
          "y": 1,
          "yanchor": "bottom",
          "yref": "paper"
         },
         {
          "font": {
           "size": 16
          },
          "showarrow": false,
          "text": "Partner",
          "x": 0.6312500000000001,
          "xanchor": "center",
          "xref": "paper",
          "y": 1,
          "yanchor": "bottom",
          "yref": "paper"
         },
         {
          "font": {
           "size": 16
          },
          "showarrow": false,
          "text": "Dependents",
          "x": 0.89375,
          "xanchor": "center",
          "xref": "paper",
          "y": 1,
          "yanchor": "bottom",
          "yref": "paper"
         }
        ],
        "template": {
         "data": {
          "bar": [
           {
            "error_x": {
             "color": "#2a3f5f"
            },
            "error_y": {
             "color": "#2a3f5f"
            },
            "marker": {
             "line": {
              "color": "#E5ECF6",
              "width": 0.5
             },
             "pattern": {
              "fillmode": "overlay",
              "size": 10,
              "solidity": 0.2
             }
            },
            "type": "bar"
           }
          ],
          "barpolar": [
           {
            "marker": {
             "line": {
              "color": "#E5ECF6",
              "width": 0.5
             },
             "pattern": {
              "fillmode": "overlay",
              "size": 10,
              "solidity": 0.2
             }
            },
            "type": "barpolar"
           }
          ],
          "carpet": [
           {
            "aaxis": {
             "endlinecolor": "#2a3f5f",
             "gridcolor": "white",
             "linecolor": "white",
             "minorgridcolor": "white",
             "startlinecolor": "#2a3f5f"
            },
            "baxis": {
             "endlinecolor": "#2a3f5f",
             "gridcolor": "white",
             "linecolor": "white",
             "minorgridcolor": "white",
             "startlinecolor": "#2a3f5f"
            },
            "type": "carpet"
           }
          ],
          "choropleth": [
           {
            "colorbar": {
             "outlinewidth": 0,
             "ticks": ""
            },
            "type": "choropleth"
           }
          ],
          "contour": [
           {
            "colorbar": {
             "outlinewidth": 0,
             "ticks": ""
            },
            "colorscale": [
             [
              0,
              "#0d0887"
             ],
             [
              0.1111111111111111,
              "#46039f"
             ],
             [
              0.2222222222222222,
              "#7201a8"
             ],
             [
              0.3333333333333333,
              "#9c179e"
             ],
             [
              0.4444444444444444,
              "#bd3786"
             ],
             [
              0.5555555555555556,
              "#d8576b"
             ],
             [
              0.6666666666666666,
              "#ed7953"
             ],
             [
              0.7777777777777778,
              "#fb9f3a"
             ],
             [
              0.8888888888888888,
              "#fdca26"
             ],
             [
              1,
              "#f0f921"
             ]
            ],
            "type": "contour"
           }
          ],
          "contourcarpet": [
           {
            "colorbar": {
             "outlinewidth": 0,
             "ticks": ""
            },
            "type": "contourcarpet"
           }
          ],
          "heatmap": [
           {
            "colorbar": {
             "outlinewidth": 0,
             "ticks": ""
            },
            "colorscale": [
             [
              0,
              "#0d0887"
             ],
             [
              0.1111111111111111,
              "#46039f"
             ],
             [
              0.2222222222222222,
              "#7201a8"
             ],
             [
              0.3333333333333333,
              "#9c179e"
             ],
             [
              0.4444444444444444,
              "#bd3786"
             ],
             [
              0.5555555555555556,
              "#d8576b"
             ],
             [
              0.6666666666666666,
              "#ed7953"
             ],
             [
              0.7777777777777778,
              "#fb9f3a"
             ],
             [
              0.8888888888888888,
              "#fdca26"
             ],
             [
              1,
              "#f0f921"
             ]
            ],
            "type": "heatmap"
           }
          ],
          "heatmapgl": [
           {
            "colorbar": {
             "outlinewidth": 0,
             "ticks": ""
            },
            "colorscale": [
             [
              0,
              "#0d0887"
             ],
             [
              0.1111111111111111,
              "#46039f"
             ],
             [
              0.2222222222222222,
              "#7201a8"
             ],
             [
              0.3333333333333333,
              "#9c179e"
             ],
             [
              0.4444444444444444,
              "#bd3786"
             ],
             [
              0.5555555555555556,
              "#d8576b"
             ],
             [
              0.6666666666666666,
              "#ed7953"
             ],
             [
              0.7777777777777778,
              "#fb9f3a"
             ],
             [
              0.8888888888888888,
              "#fdca26"
             ],
             [
              1,
              "#f0f921"
             ]
            ],
            "type": "heatmapgl"
           }
          ],
          "histogram": [
           {
            "marker": {
             "pattern": {
              "fillmode": "overlay",
              "size": 10,
              "solidity": 0.2
             }
            },
            "type": "histogram"
           }
          ],
          "histogram2d": [
           {
            "colorbar": {
             "outlinewidth": 0,
             "ticks": ""
            },
            "colorscale": [
             [
              0,
              "#0d0887"
             ],
             [
              0.1111111111111111,
              "#46039f"
             ],
             [
              0.2222222222222222,
              "#7201a8"
             ],
             [
              0.3333333333333333,
              "#9c179e"
             ],
             [
              0.4444444444444444,
              "#bd3786"
             ],
             [
              0.5555555555555556,
              "#d8576b"
             ],
             [
              0.6666666666666666,
              "#ed7953"
             ],
             [
              0.7777777777777778,
              "#fb9f3a"
             ],
             [
              0.8888888888888888,
              "#fdca26"
             ],
             [
              1,
              "#f0f921"
             ]
            ],
            "type": "histogram2d"
           }
          ],
          "histogram2dcontour": [
           {
            "colorbar": {
             "outlinewidth": 0,
             "ticks": ""
            },
            "colorscale": [
             [
              0,
              "#0d0887"
             ],
             [
              0.1111111111111111,
              "#46039f"
             ],
             [
              0.2222222222222222,
              "#7201a8"
             ],
             [
              0.3333333333333333,
              "#9c179e"
             ],
             [
              0.4444444444444444,
              "#bd3786"
             ],
             [
              0.5555555555555556,
              "#d8576b"
             ],
             [
              0.6666666666666666,
              "#ed7953"
             ],
             [
              0.7777777777777778,
              "#fb9f3a"
             ],
             [
              0.8888888888888888,
              "#fdca26"
             ],
             [
              1,
              "#f0f921"
             ]
            ],
            "type": "histogram2dcontour"
           }
          ],
          "mesh3d": [
           {
            "colorbar": {
             "outlinewidth": 0,
             "ticks": ""
            },
            "type": "mesh3d"
           }
          ],
          "parcoords": [
           {
            "line": {
             "colorbar": {
              "outlinewidth": 0,
              "ticks": ""
             }
            },
            "type": "parcoords"
           }
          ],
          "pie": [
           {
            "automargin": true,
            "type": "pie"
           }
          ],
          "scatter": [
           {
            "fillpattern": {
             "fillmode": "overlay",
             "size": 10,
             "solidity": 0.2
            },
            "type": "scatter"
           }
          ],
          "scatter3d": [
           {
            "line": {
             "colorbar": {
              "outlinewidth": 0,
              "ticks": ""
             }
            },
            "marker": {
             "colorbar": {
              "outlinewidth": 0,
              "ticks": ""
             }
            },
            "type": "scatter3d"
           }
          ],
          "scattercarpet": [
           {
            "marker": {
             "colorbar": {
              "outlinewidth": 0,
              "ticks": ""
             }
            },
            "type": "scattercarpet"
           }
          ],
          "scattergeo": [
           {
            "marker": {
             "colorbar": {
              "outlinewidth": 0,
              "ticks": ""
             }
            },
            "type": "scattergeo"
           }
          ],
          "scattergl": [
           {
            "marker": {
             "colorbar": {
              "outlinewidth": 0,
              "ticks": ""
             }
            },
            "type": "scattergl"
           }
          ],
          "scattermapbox": [
           {
            "marker": {
             "colorbar": {
              "outlinewidth": 0,
              "ticks": ""
             }
            },
            "type": "scattermapbox"
           }
          ],
          "scatterpolar": [
           {
            "marker": {
             "colorbar": {
              "outlinewidth": 0,
              "ticks": ""
             }
            },
            "type": "scatterpolar"
           }
          ],
          "scatterpolargl": [
           {
            "marker": {
             "colorbar": {
              "outlinewidth": 0,
              "ticks": ""
             }
            },
            "type": "scatterpolargl"
           }
          ],
          "scatterternary": [
           {
            "marker": {
             "colorbar": {
              "outlinewidth": 0,
              "ticks": ""
             }
            },
            "type": "scatterternary"
           }
          ],
          "surface": [
           {
            "colorbar": {
             "outlinewidth": 0,
             "ticks": ""
            },
            "colorscale": [
             [
              0,
              "#0d0887"
             ],
             [
              0.1111111111111111,
              "#46039f"
             ],
             [
              0.2222222222222222,
              "#7201a8"
             ],
             [
              0.3333333333333333,
              "#9c179e"
             ],
             [
              0.4444444444444444,
              "#bd3786"
             ],
             [
              0.5555555555555556,
              "#d8576b"
             ],
             [
              0.6666666666666666,
              "#ed7953"
             ],
             [
              0.7777777777777778,
              "#fb9f3a"
             ],
             [
              0.8888888888888888,
              "#fdca26"
             ],
             [
              1,
              "#f0f921"
             ]
            ],
            "type": "surface"
           }
          ],
          "table": [
           {
            "cells": {
             "fill": {
              "color": "#EBF0F8"
             },
             "line": {
              "color": "white"
             }
            },
            "header": {
             "fill": {
              "color": "#C8D4E3"
             },
             "line": {
              "color": "white"
             }
            },
            "type": "table"
           }
          ]
         },
         "layout": {
          "annotationdefaults": {
           "arrowcolor": "#2a3f5f",
           "arrowhead": 0,
           "arrowwidth": 1
          },
          "autotypenumbers": "strict",
          "coloraxis": {
           "colorbar": {
            "outlinewidth": 0,
            "ticks": ""
           }
          },
          "colorscale": {
           "diverging": [
            [
             0,
             "#8e0152"
            ],
            [
             0.1,
             "#c51b7d"
            ],
            [
             0.2,
             "#de77ae"
            ],
            [
             0.3,
             "#f1b6da"
            ],
            [
             0.4,
             "#fde0ef"
            ],
            [
             0.5,
             "#f7f7f7"
            ],
            [
             0.6,
             "#e6f5d0"
            ],
            [
             0.7,
             "#b8e186"
            ],
            [
             0.8,
             "#7fbc41"
            ],
            [
             0.9,
             "#4d9221"
            ],
            [
             1,
             "#276419"
            ]
           ],
           "sequential": [
            [
             0,
             "#0d0887"
            ],
            [
             0.1111111111111111,
             "#46039f"
            ],
            [
             0.2222222222222222,
             "#7201a8"
            ],
            [
             0.3333333333333333,
             "#9c179e"
            ],
            [
             0.4444444444444444,
             "#bd3786"
            ],
            [
             0.5555555555555556,
             "#d8576b"
            ],
            [
             0.6666666666666666,
             "#ed7953"
            ],
            [
             0.7777777777777778,
             "#fb9f3a"
            ],
            [
             0.8888888888888888,
             "#fdca26"
            ],
            [
             1,
             "#f0f921"
            ]
           ],
           "sequentialminus": [
            [
             0,
             "#0d0887"
            ],
            [
             0.1111111111111111,
             "#46039f"
            ],
            [
             0.2222222222222222,
             "#7201a8"
            ],
            [
             0.3333333333333333,
             "#9c179e"
            ],
            [
             0.4444444444444444,
             "#bd3786"
            ],
            [
             0.5555555555555556,
             "#d8576b"
            ],
            [
             0.6666666666666666,
             "#ed7953"
            ],
            [
             0.7777777777777778,
             "#fb9f3a"
            ],
            [
             0.8888888888888888,
             "#fdca26"
            ],
            [
             1,
             "#f0f921"
            ]
           ]
          },
          "colorway": [
           "#636efa",
           "#EF553B",
           "#00cc96",
           "#ab63fa",
           "#FFA15A",
           "#19d3f3",
           "#FF6692",
           "#B6E880",
           "#FF97FF",
           "#FECB52"
          ],
          "font": {
           "color": "#2a3f5f"
          },
          "geo": {
           "bgcolor": "white",
           "lakecolor": "white",
           "landcolor": "#E5ECF6",
           "showlakes": true,
           "showland": true,
           "subunitcolor": "white"
          },
          "hoverlabel": {
           "align": "left"
          },
          "hovermode": "closest",
          "mapbox": {
           "style": "light"
          },
          "paper_bgcolor": "white",
          "plot_bgcolor": "#E5ECF6",
          "polar": {
           "angularaxis": {
            "gridcolor": "white",
            "linecolor": "white",
            "ticks": ""
           },
           "bgcolor": "#E5ECF6",
           "radialaxis": {
            "gridcolor": "white",
            "linecolor": "white",
            "ticks": ""
           }
          },
          "scene": {
           "xaxis": {
            "backgroundcolor": "#E5ECF6",
            "gridcolor": "white",
            "gridwidth": 2,
            "linecolor": "white",
            "showbackground": true,
            "ticks": "",
            "zerolinecolor": "white"
           },
           "yaxis": {
            "backgroundcolor": "#E5ECF6",
            "gridcolor": "white",
            "gridwidth": 2,
            "linecolor": "white",
            "showbackground": true,
            "ticks": "",
            "zerolinecolor": "white"
           },
           "zaxis": {
            "backgroundcolor": "#E5ECF6",
            "gridcolor": "white",
            "gridwidth": 2,
            "linecolor": "white",
            "showbackground": true,
            "ticks": "",
            "zerolinecolor": "white"
           }
          },
          "shapedefaults": {
           "line": {
            "color": "#2a3f5f"
           }
          },
          "ternary": {
           "aaxis": {
            "gridcolor": "white",
            "linecolor": "white",
            "ticks": ""
           },
           "baxis": {
            "gridcolor": "white",
            "linecolor": "white",
            "ticks": ""
           },
           "bgcolor": "#E5ECF6",
           "caxis": {
            "gridcolor": "white",
            "linecolor": "white",
            "ticks": ""
           }
          },
          "title": {
           "x": 0.05
          },
          "xaxis": {
           "automargin": true,
           "gridcolor": "white",
           "linecolor": "white",
           "ticks": "",
           "title": {
            "standoff": 15
           },
           "zerolinecolor": "white",
           "zerolinewidth": 2
          },
          "yaxis": {
           "automargin": true,
           "gridcolor": "white",
           "linecolor": "white",
           "ticks": "",
           "title": {
            "standoff": 15
           },
           "zerolinecolor": "white",
           "zerolinewidth": 2
          }
         }
        },
        "title": {
         "font": {
          "size": 30
         },
         "text": "Customers Demographic Info",
         "x": 0.01,
         "y": 0.96
        }
       }
      }
     },
     "metadata": {},
     "output_type": "display_data"
    }
   ],
   "source": [
    "colors = [\"gold\", \"mediumturquoise\", \"navajowhite\", \"darkorange\",\n",
    "          \"lightgreen\", \"lightseagreen\", \"lightcoral\", \"lightslategrey\"]\n",
    "\n",
    "df[\"Seniorcitizen\"].replace([0, 1] , [\"No\", \"Yes\"], inplace = True)\n",
    "\n",
    "fig = make_subplots(rows = 1, cols = 4, specs = [[{\"type\": \"pie\"}] * 4],\n",
    "                    shared_yaxes = True, subplot_titles = cat_fields[:4])\n",
    " \n",
    "for field in cat_fields[:4]:\n",
    "    \n",
    "    i = cat_fields.index(field) + 1\n",
    "    colors_ = colors[2 * i - 2:  2 * i]\n",
    "    \n",
    "    data = list(df[field])\n",
    "    labels = df[field].unique()\n",
    "    values = [data.count(labels[i]) for i in range(len(labels))]\n",
    "    \n",
    "    fig.add_trace(go.Pie(\n",
    "        labels = labels,\n",
    "        values = values,\n",
    "        domain = dict(x = [0, 0.5]),\n",
    "        name = field,\n",
    "        marker = dict(colors = colors_, line = dict(color = \"white\", width = 2)),\n",
    "        textinfo = \"label+percent\",\n",
    "        hovertemplate = \"<b>Quantity: </b> %{value} <br>\",\n",
    "        textfont_size = 12,\n",
    "        showlegend = False), \n",
    "        row = 1, col = i)\n",
    "    \n",
    "    fig.update_layout(title = dict(text = \"Customers Demographic Info\", x = 0.01, y = 0.96),\n",
    "                      title_font_size = 30)\n",
    "\n",
    "fig.show()"
   ]
  },
  {
   "cell_type": "code",
   "execution_count": 106,
   "metadata": {},
   "outputs": [
    {
     "data": {
      "text/html": [
       "<div>\n",
       "<style scoped>\n",
       "    .dataframe tbody tr th:only-of-type {\n",
       "        vertical-align: middle;\n",
       "    }\n",
       "\n",
       "    .dataframe tbody tr th {\n",
       "        vertical-align: top;\n",
       "    }\n",
       "\n",
       "    .dataframe thead th {\n",
       "        text-align: right;\n",
       "    }\n",
       "</style>\n",
       "<table border=\"1\" class=\"dataframe\">\n",
       "  <thead>\n",
       "    <tr style=\"text-align: right;\">\n",
       "      <th></th>\n",
       "      <th>Field_Name</th>\n",
       "      <th>Unique_Values</th>\n",
       "    </tr>\n",
       "  </thead>\n",
       "  <tbody>\n",
       "    <tr>\n",
       "      <th>1</th>\n",
       "      <td>Gender</td>\n",
       "      <td>0 | 1</td>\n",
       "    </tr>\n",
       "    <tr>\n",
       "      <th>2</th>\n",
       "      <td>Seniorcitizen</td>\n",
       "      <td>0 | 1</td>\n",
       "    </tr>\n",
       "    <tr>\n",
       "      <th>3</th>\n",
       "      <td>Partner</td>\n",
       "      <td>1 | 0</td>\n",
       "    </tr>\n",
       "    <tr>\n",
       "      <th>4</th>\n",
       "      <td>Dependents</td>\n",
       "      <td>0 | 1</td>\n",
       "    </tr>\n",
       "  </tbody>\n",
       "</table>\n",
       "</div>"
      ],
      "text/plain": [
       "      Field_Name Unique_Values\n",
       "1         Gender         0 | 1\n",
       "2  Seniorcitizen         0 | 1\n",
       "3        Partner         1 | 0\n",
       "4     Dependents         0 | 1"
      ]
     },
     "execution_count": 106,
     "metadata": {},
     "output_type": "execute_result"
    }
   ],
   "source": [
    "df[\"Gender\"].replace([\"Female\", \"Male\"] , [0, 1], inplace = True)\n",
    "df[\"Seniorcitizen\"].replace([\"No\", \"Yes\"] , [0, 1], inplace = True)\n",
    "df[\"Partner\"].replace([\"No\", \"Yes\"] , [0, 1], inplace = True)\n",
    "df[\"Dependents\"].replace([\"No\", \"Yes\"] , [0, 1], inplace = True)\n",
    "\n",
    "f_unique_values(df, cat_fields[:4])"
   ]
  },
  {
   "cell_type": "code",
   "execution_count": 107,
   "metadata": {},
   "outputs": [
    {
     "data": {
      "application/vnd.plotly.v1+json": {
       "config": {
        "plotlyServerURL": "https://plot.ly"
       },
       "data": [
        {
         "domain": {
          "x": [
           0,
           0.45
          ],
          "y": [
           0,
           1
          ]
         },
         "hovertemplate": "<b>Quantity: </b> %{value} <br>",
         "labels": [
          "No",
          "Yes"
         ],
         "marker": {
          "colors": [
           "#EE2E31",
           "#91C7B1",
           "#679289"
          ],
          "line": {
           "color": "white",
           "width": 2
          }
         },
         "name": "Phoneservice",
         "showlegend": false,
         "textfont": {
          "size": 12
         },
         "textinfo": "label+percent",
         "type": "pie",
         "values": [
          682,
          6361
         ]
        },
        {
         "domain": {
          "x": [
           0.55,
           1
          ],
          "y": [
           0,
           1
          ]
         },
         "hovertemplate": "<b>Quantity: </b> %{value} <br>",
         "labels": [
          "DSL",
          "Fiber optic",
          "No"
         ],
         "marker": {
          "colors": [
           "#54494B",
           "#91C7B1",
           "#EE2E31"
          ],
          "line": {
           "color": "white",
           "width": 2
          }
         },
         "name": "Internetservice",
         "showlegend": false,
         "textfont": {
          "size": 12
         },
         "textinfo": "label+percent",
         "type": "pie",
         "values": [
          2421,
          3096,
          1526
         ]
        }
       ],
       "layout": {
        "annotations": [
         {
          "font": {
           "size": 16
          },
          "showarrow": false,
          "text": "Phoneservice",
          "x": 0.225,
          "xanchor": "center",
          "xref": "paper",
          "y": 1,
          "yanchor": "bottom",
          "yref": "paper"
         },
         {
          "font": {
           "size": 16
          },
          "showarrow": false,
          "text": "Internetservice",
          "x": 0.775,
          "xanchor": "center",
          "xref": "paper",
          "y": 1,
          "yanchor": "bottom",
          "yref": "paper"
         }
        ],
        "template": {
         "data": {
          "bar": [
           {
            "error_x": {
             "color": "#2a3f5f"
            },
            "error_y": {
             "color": "#2a3f5f"
            },
            "marker": {
             "line": {
              "color": "#E5ECF6",
              "width": 0.5
             },
             "pattern": {
              "fillmode": "overlay",
              "size": 10,
              "solidity": 0.2
             }
            },
            "type": "bar"
           }
          ],
          "barpolar": [
           {
            "marker": {
             "line": {
              "color": "#E5ECF6",
              "width": 0.5
             },
             "pattern": {
              "fillmode": "overlay",
              "size": 10,
              "solidity": 0.2
             }
            },
            "type": "barpolar"
           }
          ],
          "carpet": [
           {
            "aaxis": {
             "endlinecolor": "#2a3f5f",
             "gridcolor": "white",
             "linecolor": "white",
             "minorgridcolor": "white",
             "startlinecolor": "#2a3f5f"
            },
            "baxis": {
             "endlinecolor": "#2a3f5f",
             "gridcolor": "white",
             "linecolor": "white",
             "minorgridcolor": "white",
             "startlinecolor": "#2a3f5f"
            },
            "type": "carpet"
           }
          ],
          "choropleth": [
           {
            "colorbar": {
             "outlinewidth": 0,
             "ticks": ""
            },
            "type": "choropleth"
           }
          ],
          "contour": [
           {
            "colorbar": {
             "outlinewidth": 0,
             "ticks": ""
            },
            "colorscale": [
             [
              0,
              "#0d0887"
             ],
             [
              0.1111111111111111,
              "#46039f"
             ],
             [
              0.2222222222222222,
              "#7201a8"
             ],
             [
              0.3333333333333333,
              "#9c179e"
             ],
             [
              0.4444444444444444,
              "#bd3786"
             ],
             [
              0.5555555555555556,
              "#d8576b"
             ],
             [
              0.6666666666666666,
              "#ed7953"
             ],
             [
              0.7777777777777778,
              "#fb9f3a"
             ],
             [
              0.8888888888888888,
              "#fdca26"
             ],
             [
              1,
              "#f0f921"
             ]
            ],
            "type": "contour"
           }
          ],
          "contourcarpet": [
           {
            "colorbar": {
             "outlinewidth": 0,
             "ticks": ""
            },
            "type": "contourcarpet"
           }
          ],
          "heatmap": [
           {
            "colorbar": {
             "outlinewidth": 0,
             "ticks": ""
            },
            "colorscale": [
             [
              0,
              "#0d0887"
             ],
             [
              0.1111111111111111,
              "#46039f"
             ],
             [
              0.2222222222222222,
              "#7201a8"
             ],
             [
              0.3333333333333333,
              "#9c179e"
             ],
             [
              0.4444444444444444,
              "#bd3786"
             ],
             [
              0.5555555555555556,
              "#d8576b"
             ],
             [
              0.6666666666666666,
              "#ed7953"
             ],
             [
              0.7777777777777778,
              "#fb9f3a"
             ],
             [
              0.8888888888888888,
              "#fdca26"
             ],
             [
              1,
              "#f0f921"
             ]
            ],
            "type": "heatmap"
           }
          ],
          "heatmapgl": [
           {
            "colorbar": {
             "outlinewidth": 0,
             "ticks": ""
            },
            "colorscale": [
             [
              0,
              "#0d0887"
             ],
             [
              0.1111111111111111,
              "#46039f"
             ],
             [
              0.2222222222222222,
              "#7201a8"
             ],
             [
              0.3333333333333333,
              "#9c179e"
             ],
             [
              0.4444444444444444,
              "#bd3786"
             ],
             [
              0.5555555555555556,
              "#d8576b"
             ],
             [
              0.6666666666666666,
              "#ed7953"
             ],
             [
              0.7777777777777778,
              "#fb9f3a"
             ],
             [
              0.8888888888888888,
              "#fdca26"
             ],
             [
              1,
              "#f0f921"
             ]
            ],
            "type": "heatmapgl"
           }
          ],
          "histogram": [
           {
            "marker": {
             "pattern": {
              "fillmode": "overlay",
              "size": 10,
              "solidity": 0.2
             }
            },
            "type": "histogram"
           }
          ],
          "histogram2d": [
           {
            "colorbar": {
             "outlinewidth": 0,
             "ticks": ""
            },
            "colorscale": [
             [
              0,
              "#0d0887"
             ],
             [
              0.1111111111111111,
              "#46039f"
             ],
             [
              0.2222222222222222,
              "#7201a8"
             ],
             [
              0.3333333333333333,
              "#9c179e"
             ],
             [
              0.4444444444444444,
              "#bd3786"
             ],
             [
              0.5555555555555556,
              "#d8576b"
             ],
             [
              0.6666666666666666,
              "#ed7953"
             ],
             [
              0.7777777777777778,
              "#fb9f3a"
             ],
             [
              0.8888888888888888,
              "#fdca26"
             ],
             [
              1,
              "#f0f921"
             ]
            ],
            "type": "histogram2d"
           }
          ],
          "histogram2dcontour": [
           {
            "colorbar": {
             "outlinewidth": 0,
             "ticks": ""
            },
            "colorscale": [
             [
              0,
              "#0d0887"
             ],
             [
              0.1111111111111111,
              "#46039f"
             ],
             [
              0.2222222222222222,
              "#7201a8"
             ],
             [
              0.3333333333333333,
              "#9c179e"
             ],
             [
              0.4444444444444444,
              "#bd3786"
             ],
             [
              0.5555555555555556,
              "#d8576b"
             ],
             [
              0.6666666666666666,
              "#ed7953"
             ],
             [
              0.7777777777777778,
              "#fb9f3a"
             ],
             [
              0.8888888888888888,
              "#fdca26"
             ],
             [
              1,
              "#f0f921"
             ]
            ],
            "type": "histogram2dcontour"
           }
          ],
          "mesh3d": [
           {
            "colorbar": {
             "outlinewidth": 0,
             "ticks": ""
            },
            "type": "mesh3d"
           }
          ],
          "parcoords": [
           {
            "line": {
             "colorbar": {
              "outlinewidth": 0,
              "ticks": ""
             }
            },
            "type": "parcoords"
           }
          ],
          "pie": [
           {
            "automargin": true,
            "type": "pie"
           }
          ],
          "scatter": [
           {
            "fillpattern": {
             "fillmode": "overlay",
             "size": 10,
             "solidity": 0.2
            },
            "type": "scatter"
           }
          ],
          "scatter3d": [
           {
            "line": {
             "colorbar": {
              "outlinewidth": 0,
              "ticks": ""
             }
            },
            "marker": {
             "colorbar": {
              "outlinewidth": 0,
              "ticks": ""
             }
            },
            "type": "scatter3d"
           }
          ],
          "scattercarpet": [
           {
            "marker": {
             "colorbar": {
              "outlinewidth": 0,
              "ticks": ""
             }
            },
            "type": "scattercarpet"
           }
          ],
          "scattergeo": [
           {
            "marker": {
             "colorbar": {
              "outlinewidth": 0,
              "ticks": ""
             }
            },
            "type": "scattergeo"
           }
          ],
          "scattergl": [
           {
            "marker": {
             "colorbar": {
              "outlinewidth": 0,
              "ticks": ""
             }
            },
            "type": "scattergl"
           }
          ],
          "scattermapbox": [
           {
            "marker": {
             "colorbar": {
              "outlinewidth": 0,
              "ticks": ""
             }
            },
            "type": "scattermapbox"
           }
          ],
          "scatterpolar": [
           {
            "marker": {
             "colorbar": {
              "outlinewidth": 0,
              "ticks": ""
             }
            },
            "type": "scatterpolar"
           }
          ],
          "scatterpolargl": [
           {
            "marker": {
             "colorbar": {
              "outlinewidth": 0,
              "ticks": ""
             }
            },
            "type": "scatterpolargl"
           }
          ],
          "scatterternary": [
           {
            "marker": {
             "colorbar": {
              "outlinewidth": 0,
              "ticks": ""
             }
            },
            "type": "scatterternary"
           }
          ],
          "surface": [
           {
            "colorbar": {
             "outlinewidth": 0,
             "ticks": ""
            },
            "colorscale": [
             [
              0,
              "#0d0887"
             ],
             [
              0.1111111111111111,
              "#46039f"
             ],
             [
              0.2222222222222222,
              "#7201a8"
             ],
             [
              0.3333333333333333,
              "#9c179e"
             ],
             [
              0.4444444444444444,
              "#bd3786"
             ],
             [
              0.5555555555555556,
              "#d8576b"
             ],
             [
              0.6666666666666666,
              "#ed7953"
             ],
             [
              0.7777777777777778,
              "#fb9f3a"
             ],
             [
              0.8888888888888888,
              "#fdca26"
             ],
             [
              1,
              "#f0f921"
             ]
            ],
            "type": "surface"
           }
          ],
          "table": [
           {
            "cells": {
             "fill": {
              "color": "#EBF0F8"
             },
             "line": {
              "color": "white"
             }
            },
            "header": {
             "fill": {
              "color": "#C8D4E3"
             },
             "line": {
              "color": "white"
             }
            },
            "type": "table"
           }
          ]
         },
         "layout": {
          "annotationdefaults": {
           "arrowcolor": "#2a3f5f",
           "arrowhead": 0,
           "arrowwidth": 1
          },
          "autotypenumbers": "strict",
          "coloraxis": {
           "colorbar": {
            "outlinewidth": 0,
            "ticks": ""
           }
          },
          "colorscale": {
           "diverging": [
            [
             0,
             "#8e0152"
            ],
            [
             0.1,
             "#c51b7d"
            ],
            [
             0.2,
             "#de77ae"
            ],
            [
             0.3,
             "#f1b6da"
            ],
            [
             0.4,
             "#fde0ef"
            ],
            [
             0.5,
             "#f7f7f7"
            ],
            [
             0.6,
             "#e6f5d0"
            ],
            [
             0.7,
             "#b8e186"
            ],
            [
             0.8,
             "#7fbc41"
            ],
            [
             0.9,
             "#4d9221"
            ],
            [
             1,
             "#276419"
            ]
           ],
           "sequential": [
            [
             0,
             "#0d0887"
            ],
            [
             0.1111111111111111,
             "#46039f"
            ],
            [
             0.2222222222222222,
             "#7201a8"
            ],
            [
             0.3333333333333333,
             "#9c179e"
            ],
            [
             0.4444444444444444,
             "#bd3786"
            ],
            [
             0.5555555555555556,
             "#d8576b"
            ],
            [
             0.6666666666666666,
             "#ed7953"
            ],
            [
             0.7777777777777778,
             "#fb9f3a"
            ],
            [
             0.8888888888888888,
             "#fdca26"
            ],
            [
             1,
             "#f0f921"
            ]
           ],
           "sequentialminus": [
            [
             0,
             "#0d0887"
            ],
            [
             0.1111111111111111,
             "#46039f"
            ],
            [
             0.2222222222222222,
             "#7201a8"
            ],
            [
             0.3333333333333333,
             "#9c179e"
            ],
            [
             0.4444444444444444,
             "#bd3786"
            ],
            [
             0.5555555555555556,
             "#d8576b"
            ],
            [
             0.6666666666666666,
             "#ed7953"
            ],
            [
             0.7777777777777778,
             "#fb9f3a"
            ],
            [
             0.8888888888888888,
             "#fdca26"
            ],
            [
             1,
             "#f0f921"
            ]
           ]
          },
          "colorway": [
           "#636efa",
           "#EF553B",
           "#00cc96",
           "#ab63fa",
           "#FFA15A",
           "#19d3f3",
           "#FF6692",
           "#B6E880",
           "#FF97FF",
           "#FECB52"
          ],
          "font": {
           "color": "#2a3f5f"
          },
          "geo": {
           "bgcolor": "white",
           "lakecolor": "white",
           "landcolor": "#E5ECF6",
           "showlakes": true,
           "showland": true,
           "subunitcolor": "white"
          },
          "hoverlabel": {
           "align": "left"
          },
          "hovermode": "closest",
          "mapbox": {
           "style": "light"
          },
          "paper_bgcolor": "white",
          "plot_bgcolor": "#E5ECF6",
          "polar": {
           "angularaxis": {
            "gridcolor": "white",
            "linecolor": "white",
            "ticks": ""
           },
           "bgcolor": "#E5ECF6",
           "radialaxis": {
            "gridcolor": "white",
            "linecolor": "white",
            "ticks": ""
           }
          },
          "scene": {
           "xaxis": {
            "backgroundcolor": "#E5ECF6",
            "gridcolor": "white",
            "gridwidth": 2,
            "linecolor": "white",
            "showbackground": true,
            "ticks": "",
            "zerolinecolor": "white"
           },
           "yaxis": {
            "backgroundcolor": "#E5ECF6",
            "gridcolor": "white",
            "gridwidth": 2,
            "linecolor": "white",
            "showbackground": true,
            "ticks": "",
            "zerolinecolor": "white"
           },
           "zaxis": {
            "backgroundcolor": "#E5ECF6",
            "gridcolor": "white",
            "gridwidth": 2,
            "linecolor": "white",
            "showbackground": true,
            "ticks": "",
            "zerolinecolor": "white"
           }
          },
          "shapedefaults": {
           "line": {
            "color": "#2a3f5f"
           }
          },
          "ternary": {
           "aaxis": {
            "gridcolor": "white",
            "linecolor": "white",
            "ticks": ""
           },
           "baxis": {
            "gridcolor": "white",
            "linecolor": "white",
            "ticks": ""
           },
           "bgcolor": "#E5ECF6",
           "caxis": {
            "gridcolor": "white",
            "linecolor": "white",
            "ticks": ""
           }
          },
          "title": {
           "x": 0.05
          },
          "xaxis": {
           "automargin": true,
           "gridcolor": "white",
           "linecolor": "white",
           "ticks": "",
           "title": {
            "standoff": 15
           },
           "zerolinecolor": "white",
           "zerolinewidth": 2
          },
          "yaxis": {
           "automargin": true,
           "gridcolor": "white",
           "linecolor": "white",
           "ticks": "",
           "title": {
            "standoff": 15
           },
           "zerolinecolor": "white",
           "zerolinewidth": 2
          }
         }
        },
        "title": {
         "font": {
          "size": 30
         },
         "text": "Signed Up Services",
         "x": 0.01,
         "y": 0.96
        }
       }
      }
     },
     "metadata": {},
     "output_type": "display_data"
    }
   ],
   "source": [
    "colors = [\"#54494B\", \"#91C7B1\", \"#679289\"]\n",
    "\n",
    "fig = make_subplots(rows = 1, cols = 2, specs = [[{\"type\": \"pie\"}] * 2],\n",
    "                    shared_yaxes = True, subplot_titles = [\"Phoneservice\", \"Internetservice\"])\n",
    "\n",
    "i = 1\n",
    " \n",
    "for field in [\"Phoneservice\", \"Internetservice\"]:\n",
    "        \n",
    "    data = list(df[field])\n",
    "    labels = list(df[field].unique())\n",
    "    values = [data.count(labels[i]) for i in range(len(labels))]\n",
    "    \n",
    "    colors_ = colors.copy()\n",
    "    \n",
    "    for label in labels:\n",
    "        if label == \"No\":\n",
    "            colors_[labels.index(label)] = \"#EE2E31\"\n",
    "        \n",
    "    fig.add_trace(go.Pie(\n",
    "        labels = labels,\n",
    "        values = values,\n",
    "        domain = dict(x = [0, 0.5]),\n",
    "        name = field,\n",
    "        marker = dict(colors = colors_, line = dict(color = \"white\", width = 2)),\n",
    "        textinfo = \"label+percent\",\n",
    "        hovertemplate = \"<b>Quantity: </b> %{value} <br>\",\n",
    "        textfont_size = 12,\n",
    "        showlegend = False), \n",
    "        row = 1, col = i)\n",
    "    \n",
    "    fig.update_layout(title = dict(text = \"Signed Up Services\", x = 0.01, y = 0.96), title_font_size = 30)\n",
    "    \n",
    "    i += 1\n",
    "\n",
    "fig.show()"
   ]
  },
  {
   "cell_type": "code",
   "execution_count": 108,
   "metadata": {},
   "outputs": [
    {
     "data": {
      "application/vnd.plotly.v1+json": {
       "config": {
        "plotlyServerURL": "https://plot.ly"
       },
       "data": [
        {
         "branchvalues": "total",
         "domain": {
          "x": [
           0,
           1
          ],
          "y": [
           0,
           1
          ]
         },
         "hovertemplate": "<b>Quantity: </b> %{value} <br>",
         "ids": [
          "No/DSL",
          "Yes/DSL",
          "Yes/Fiber optic",
          "Yes/No",
          "No",
          "Yes"
         ],
         "labels": [
          "DSL",
          "DSL",
          "Fiber optic",
          "No",
          "No",
          "Yes"
         ],
         "marker": {
          "colors": [
           "#54494B",
           "#54494B",
           "#54494B",
           "#EE2E31",
           "#EE2E31",
           "#91C7B1"
          ],
          "line": {
           "color": "white",
           "width": 2
          }
         },
         "name": "",
         "parents": [
          "No",
          "Yes",
          "Yes",
          "Yes",
          "",
          ""
         ],
         "textfont": {
          "size": 12
         },
         "textinfo": "label+percent entry",
         "type": "sunburst",
         "values": [
          682,
          1739,
          3096,
          1526,
          682,
          6361
         ]
        }
       ],
       "layout": {
        "legend": {
         "tracegroupgap": 0
        },
        "margin": {
         "t": 60
        },
        "template": {
         "data": {
          "bar": [
           {
            "error_x": {
             "color": "#2a3f5f"
            },
            "error_y": {
             "color": "#2a3f5f"
            },
            "marker": {
             "line": {
              "color": "#E5ECF6",
              "width": 0.5
             },
             "pattern": {
              "fillmode": "overlay",
              "size": 10,
              "solidity": 0.2
             }
            },
            "type": "bar"
           }
          ],
          "barpolar": [
           {
            "marker": {
             "line": {
              "color": "#E5ECF6",
              "width": 0.5
             },
             "pattern": {
              "fillmode": "overlay",
              "size": 10,
              "solidity": 0.2
             }
            },
            "type": "barpolar"
           }
          ],
          "carpet": [
           {
            "aaxis": {
             "endlinecolor": "#2a3f5f",
             "gridcolor": "white",
             "linecolor": "white",
             "minorgridcolor": "white",
             "startlinecolor": "#2a3f5f"
            },
            "baxis": {
             "endlinecolor": "#2a3f5f",
             "gridcolor": "white",
             "linecolor": "white",
             "minorgridcolor": "white",
             "startlinecolor": "#2a3f5f"
            },
            "type": "carpet"
           }
          ],
          "choropleth": [
           {
            "colorbar": {
             "outlinewidth": 0,
             "ticks": ""
            },
            "type": "choropleth"
           }
          ],
          "contour": [
           {
            "colorbar": {
             "outlinewidth": 0,
             "ticks": ""
            },
            "colorscale": [
             [
              0,
              "#0d0887"
             ],
             [
              0.1111111111111111,
              "#46039f"
             ],
             [
              0.2222222222222222,
              "#7201a8"
             ],
             [
              0.3333333333333333,
              "#9c179e"
             ],
             [
              0.4444444444444444,
              "#bd3786"
             ],
             [
              0.5555555555555556,
              "#d8576b"
             ],
             [
              0.6666666666666666,
              "#ed7953"
             ],
             [
              0.7777777777777778,
              "#fb9f3a"
             ],
             [
              0.8888888888888888,
              "#fdca26"
             ],
             [
              1,
              "#f0f921"
             ]
            ],
            "type": "contour"
           }
          ],
          "contourcarpet": [
           {
            "colorbar": {
             "outlinewidth": 0,
             "ticks": ""
            },
            "type": "contourcarpet"
           }
          ],
          "heatmap": [
           {
            "colorbar": {
             "outlinewidth": 0,
             "ticks": ""
            },
            "colorscale": [
             [
              0,
              "#0d0887"
             ],
             [
              0.1111111111111111,
              "#46039f"
             ],
             [
              0.2222222222222222,
              "#7201a8"
             ],
             [
              0.3333333333333333,
              "#9c179e"
             ],
             [
              0.4444444444444444,
              "#bd3786"
             ],
             [
              0.5555555555555556,
              "#d8576b"
             ],
             [
              0.6666666666666666,
              "#ed7953"
             ],
             [
              0.7777777777777778,
              "#fb9f3a"
             ],
             [
              0.8888888888888888,
              "#fdca26"
             ],
             [
              1,
              "#f0f921"
             ]
            ],
            "type": "heatmap"
           }
          ],
          "heatmapgl": [
           {
            "colorbar": {
             "outlinewidth": 0,
             "ticks": ""
            },
            "colorscale": [
             [
              0,
              "#0d0887"
             ],
             [
              0.1111111111111111,
              "#46039f"
             ],
             [
              0.2222222222222222,
              "#7201a8"
             ],
             [
              0.3333333333333333,
              "#9c179e"
             ],
             [
              0.4444444444444444,
              "#bd3786"
             ],
             [
              0.5555555555555556,
              "#d8576b"
             ],
             [
              0.6666666666666666,
              "#ed7953"
             ],
             [
              0.7777777777777778,
              "#fb9f3a"
             ],
             [
              0.8888888888888888,
              "#fdca26"
             ],
             [
              1,
              "#f0f921"
             ]
            ],
            "type": "heatmapgl"
           }
          ],
          "histogram": [
           {
            "marker": {
             "pattern": {
              "fillmode": "overlay",
              "size": 10,
              "solidity": 0.2
             }
            },
            "type": "histogram"
           }
          ],
          "histogram2d": [
           {
            "colorbar": {
             "outlinewidth": 0,
             "ticks": ""
            },
            "colorscale": [
             [
              0,
              "#0d0887"
             ],
             [
              0.1111111111111111,
              "#46039f"
             ],
             [
              0.2222222222222222,
              "#7201a8"
             ],
             [
              0.3333333333333333,
              "#9c179e"
             ],
             [
              0.4444444444444444,
              "#bd3786"
             ],
             [
              0.5555555555555556,
              "#d8576b"
             ],
             [
              0.6666666666666666,
              "#ed7953"
             ],
             [
              0.7777777777777778,
              "#fb9f3a"
             ],
             [
              0.8888888888888888,
              "#fdca26"
             ],
             [
              1,
              "#f0f921"
             ]
            ],
            "type": "histogram2d"
           }
          ],
          "histogram2dcontour": [
           {
            "colorbar": {
             "outlinewidth": 0,
             "ticks": ""
            },
            "colorscale": [
             [
              0,
              "#0d0887"
             ],
             [
              0.1111111111111111,
              "#46039f"
             ],
             [
              0.2222222222222222,
              "#7201a8"
             ],
             [
              0.3333333333333333,
              "#9c179e"
             ],
             [
              0.4444444444444444,
              "#bd3786"
             ],
             [
              0.5555555555555556,
              "#d8576b"
             ],
             [
              0.6666666666666666,
              "#ed7953"
             ],
             [
              0.7777777777777778,
              "#fb9f3a"
             ],
             [
              0.8888888888888888,
              "#fdca26"
             ],
             [
              1,
              "#f0f921"
             ]
            ],
            "type": "histogram2dcontour"
           }
          ],
          "mesh3d": [
           {
            "colorbar": {
             "outlinewidth": 0,
             "ticks": ""
            },
            "type": "mesh3d"
           }
          ],
          "parcoords": [
           {
            "line": {
             "colorbar": {
              "outlinewidth": 0,
              "ticks": ""
             }
            },
            "type": "parcoords"
           }
          ],
          "pie": [
           {
            "automargin": true,
            "type": "pie"
           }
          ],
          "scatter": [
           {
            "fillpattern": {
             "fillmode": "overlay",
             "size": 10,
             "solidity": 0.2
            },
            "type": "scatter"
           }
          ],
          "scatter3d": [
           {
            "line": {
             "colorbar": {
              "outlinewidth": 0,
              "ticks": ""
             }
            },
            "marker": {
             "colorbar": {
              "outlinewidth": 0,
              "ticks": ""
             }
            },
            "type": "scatter3d"
           }
          ],
          "scattercarpet": [
           {
            "marker": {
             "colorbar": {
              "outlinewidth": 0,
              "ticks": ""
             }
            },
            "type": "scattercarpet"
           }
          ],
          "scattergeo": [
           {
            "marker": {
             "colorbar": {
              "outlinewidth": 0,
              "ticks": ""
             }
            },
            "type": "scattergeo"
           }
          ],
          "scattergl": [
           {
            "marker": {
             "colorbar": {
              "outlinewidth": 0,
              "ticks": ""
             }
            },
            "type": "scattergl"
           }
          ],
          "scattermapbox": [
           {
            "marker": {
             "colorbar": {
              "outlinewidth": 0,
              "ticks": ""
             }
            },
            "type": "scattermapbox"
           }
          ],
          "scatterpolar": [
           {
            "marker": {
             "colorbar": {
              "outlinewidth": 0,
              "ticks": ""
             }
            },
            "type": "scatterpolar"
           }
          ],
          "scatterpolargl": [
           {
            "marker": {
             "colorbar": {
              "outlinewidth": 0,
              "ticks": ""
             }
            },
            "type": "scatterpolargl"
           }
          ],
          "scatterternary": [
           {
            "marker": {
             "colorbar": {
              "outlinewidth": 0,
              "ticks": ""
             }
            },
            "type": "scatterternary"
           }
          ],
          "surface": [
           {
            "colorbar": {
             "outlinewidth": 0,
             "ticks": ""
            },
            "colorscale": [
             [
              0,
              "#0d0887"
             ],
             [
              0.1111111111111111,
              "#46039f"
             ],
             [
              0.2222222222222222,
              "#7201a8"
             ],
             [
              0.3333333333333333,
              "#9c179e"
             ],
             [
              0.4444444444444444,
              "#bd3786"
             ],
             [
              0.5555555555555556,
              "#d8576b"
             ],
             [
              0.6666666666666666,
              "#ed7953"
             ],
             [
              0.7777777777777778,
              "#fb9f3a"
             ],
             [
              0.8888888888888888,
              "#fdca26"
             ],
             [
              1,
              "#f0f921"
             ]
            ],
            "type": "surface"
           }
          ],
          "table": [
           {
            "cells": {
             "fill": {
              "color": "#EBF0F8"
             },
             "line": {
              "color": "white"
             }
            },
            "header": {
             "fill": {
              "color": "#C8D4E3"
             },
             "line": {
              "color": "white"
             }
            },
            "type": "table"
           }
          ]
         },
         "layout": {
          "annotationdefaults": {
           "arrowcolor": "#2a3f5f",
           "arrowhead": 0,
           "arrowwidth": 1
          },
          "autotypenumbers": "strict",
          "coloraxis": {
           "colorbar": {
            "outlinewidth": 0,
            "ticks": ""
           }
          },
          "colorscale": {
           "diverging": [
            [
             0,
             "#8e0152"
            ],
            [
             0.1,
             "#c51b7d"
            ],
            [
             0.2,
             "#de77ae"
            ],
            [
             0.3,
             "#f1b6da"
            ],
            [
             0.4,
             "#fde0ef"
            ],
            [
             0.5,
             "#f7f7f7"
            ],
            [
             0.6,
             "#e6f5d0"
            ],
            [
             0.7,
             "#b8e186"
            ],
            [
             0.8,
             "#7fbc41"
            ],
            [
             0.9,
             "#4d9221"
            ],
            [
             1,
             "#276419"
            ]
           ],
           "sequential": [
            [
             0,
             "#0d0887"
            ],
            [
             0.1111111111111111,
             "#46039f"
            ],
            [
             0.2222222222222222,
             "#7201a8"
            ],
            [
             0.3333333333333333,
             "#9c179e"
            ],
            [
             0.4444444444444444,
             "#bd3786"
            ],
            [
             0.5555555555555556,
             "#d8576b"
            ],
            [
             0.6666666666666666,
             "#ed7953"
            ],
            [
             0.7777777777777778,
             "#fb9f3a"
            ],
            [
             0.8888888888888888,
             "#fdca26"
            ],
            [
             1,
             "#f0f921"
            ]
           ],
           "sequentialminus": [
            [
             0,
             "#0d0887"
            ],
            [
             0.1111111111111111,
             "#46039f"
            ],
            [
             0.2222222222222222,
             "#7201a8"
            ],
            [
             0.3333333333333333,
             "#9c179e"
            ],
            [
             0.4444444444444444,
             "#bd3786"
            ],
            [
             0.5555555555555556,
             "#d8576b"
            ],
            [
             0.6666666666666666,
             "#ed7953"
            ],
            [
             0.7777777777777778,
             "#fb9f3a"
            ],
            [
             0.8888888888888888,
             "#fdca26"
            ],
            [
             1,
             "#f0f921"
            ]
           ]
          },
          "colorway": [
           "#636efa",
           "#EF553B",
           "#00cc96",
           "#ab63fa",
           "#FFA15A",
           "#19d3f3",
           "#FF6692",
           "#B6E880",
           "#FF97FF",
           "#FECB52"
          ],
          "font": {
           "color": "#2a3f5f"
          },
          "geo": {
           "bgcolor": "white",
           "lakecolor": "white",
           "landcolor": "#E5ECF6",
           "showlakes": true,
           "showland": true,
           "subunitcolor": "white"
          },
          "hoverlabel": {
           "align": "left"
          },
          "hovermode": "closest",
          "mapbox": {
           "style": "light"
          },
          "paper_bgcolor": "white",
          "plot_bgcolor": "#E5ECF6",
          "polar": {
           "angularaxis": {
            "gridcolor": "white",
            "linecolor": "white",
            "ticks": ""
           },
           "bgcolor": "#E5ECF6",
           "radialaxis": {
            "gridcolor": "white",
            "linecolor": "white",
            "ticks": ""
           }
          },
          "scene": {
           "xaxis": {
            "backgroundcolor": "#E5ECF6",
            "gridcolor": "white",
            "gridwidth": 2,
            "linecolor": "white",
            "showbackground": true,
            "ticks": "",
            "zerolinecolor": "white"
           },
           "yaxis": {
            "backgroundcolor": "#E5ECF6",
            "gridcolor": "white",
            "gridwidth": 2,
            "linecolor": "white",
            "showbackground": true,
            "ticks": "",
            "zerolinecolor": "white"
           },
           "zaxis": {
            "backgroundcolor": "#E5ECF6",
            "gridcolor": "white",
            "gridwidth": 2,
            "linecolor": "white",
            "showbackground": true,
            "ticks": "",
            "zerolinecolor": "white"
           }
          },
          "shapedefaults": {
           "line": {
            "color": "#2a3f5f"
           }
          },
          "ternary": {
           "aaxis": {
            "gridcolor": "white",
            "linecolor": "white",
            "ticks": ""
           },
           "baxis": {
            "gridcolor": "white",
            "linecolor": "white",
            "ticks": ""
           },
           "bgcolor": "#E5ECF6",
           "caxis": {
            "gridcolor": "white",
            "linecolor": "white",
            "ticks": ""
           }
          },
          "title": {
           "x": 0.05
          },
          "xaxis": {
           "automargin": true,
           "gridcolor": "white",
           "linecolor": "white",
           "ticks": "",
           "title": {
            "standoff": 15
           },
           "zerolinecolor": "white",
           "zerolinewidth": 2
          },
          "yaxis": {
           "automargin": true,
           "gridcolor": "white",
           "linecolor": "white",
           "ticks": "",
           "title": {
            "standoff": 15
           },
           "zerolinecolor": "white",
           "zerolinewidth": 2
          }
         }
        },
        "title": {
         "font": {
          "size": 30
         },
         "text": "Relationship between Internet and Phone Service",
         "x": 0.01,
         "y": 0.96
        }
       }
      }
     },
     "metadata": {},
     "output_type": "display_data"
    }
   ],
   "source": [
    "fig = px.sunburst(df, path = [\"Phoneservice\", \"Internetservice\"])\n",
    "\n",
    "fig.update_traces(marker = dict(colors = [\"#54494B\", \"#54494B\", \"#54494B\", \"#EE2E31\", \"#EE2E31\", \"#91C7B1\"], line = dict(color = \"white\", width = 2)),\n",
    "                  textinfo = \"label+percent entry\",\n",
    "                  textfont_size = 12,\n",
    "                  hovertemplate = \"<b>Quantity: </b> %{value} <br>\")\n",
    "\n",
    "fig.update_layout(title = dict(text = \"Relationship between Internet and Phone Service\", x = 0.01, y = 0.96), title_font_size = 30)\n",
    "\n",
    "fig.show()"
   ]
  },
  {
   "cell_type": "code",
   "execution_count": 109,
   "metadata": {},
   "outputs": [
    {
     "data": {
      "text/html": [
       "<div>\n",
       "<style scoped>\n",
       "    .dataframe tbody tr th:only-of-type {\n",
       "        vertical-align: middle;\n",
       "    }\n",
       "\n",
       "    .dataframe tbody tr th {\n",
       "        vertical-align: top;\n",
       "    }\n",
       "\n",
       "    .dataframe thead th {\n",
       "        text-align: right;\n",
       "    }\n",
       "</style>\n",
       "<table border=\"1\" class=\"dataframe\">\n",
       "  <thead>\n",
       "    <tr style=\"text-align: right;\">\n",
       "      <th></th>\n",
       "      <th>Gender</th>\n",
       "      <th>Seniorcitizen</th>\n",
       "      <th>Partner</th>\n",
       "      <th>Dependents</th>\n",
       "      <th>Tenure</th>\n",
       "      <th>Phoneservice</th>\n",
       "      <th>Internetservice</th>\n",
       "      <th>Onlinesecurity</th>\n",
       "      <th>Onlinebackup</th>\n",
       "      <th>Deviceprotection</th>\n",
       "      <th>Techsupport</th>\n",
       "      <th>Streamingtv</th>\n",
       "      <th>Streamingmovies</th>\n",
       "      <th>Contract</th>\n",
       "      <th>Paperlessbilling</th>\n",
       "      <th>Paymentmethod</th>\n",
       "      <th>Monthlycharges</th>\n",
       "      <th>Totalcharges</th>\n",
       "      <th>Churn</th>\n",
       "    </tr>\n",
       "  </thead>\n",
       "  <tbody>\n",
       "    <tr>\n",
       "      <th>0</th>\n",
       "      <td>0</td>\n",
       "      <td>0</td>\n",
       "      <td>1</td>\n",
       "      <td>0</td>\n",
       "      <td>1</td>\n",
       "      <td>0</td>\n",
       "      <td>DSL</td>\n",
       "      <td>No</td>\n",
       "      <td>Yes</td>\n",
       "      <td>No</td>\n",
       "      <td>No</td>\n",
       "      <td>No</td>\n",
       "      <td>No</td>\n",
       "      <td>Month-to-month</td>\n",
       "      <td>Yes</td>\n",
       "      <td>Electronic check</td>\n",
       "      <td>29.85</td>\n",
       "      <td>29.85</td>\n",
       "      <td>No</td>\n",
       "    </tr>\n",
       "    <tr>\n",
       "      <th>1</th>\n",
       "      <td>1</td>\n",
       "      <td>0</td>\n",
       "      <td>0</td>\n",
       "      <td>0</td>\n",
       "      <td>34</td>\n",
       "      <td>1</td>\n",
       "      <td>DSL</td>\n",
       "      <td>Yes</td>\n",
       "      <td>No</td>\n",
       "      <td>Yes</td>\n",
       "      <td>No</td>\n",
       "      <td>No</td>\n",
       "      <td>No</td>\n",
       "      <td>One year</td>\n",
       "      <td>No</td>\n",
       "      <td>Mailed check</td>\n",
       "      <td>56.95</td>\n",
       "      <td>1889.50</td>\n",
       "      <td>No</td>\n",
       "    </tr>\n",
       "    <tr>\n",
       "      <th>2</th>\n",
       "      <td>1</td>\n",
       "      <td>0</td>\n",
       "      <td>0</td>\n",
       "      <td>0</td>\n",
       "      <td>2</td>\n",
       "      <td>1</td>\n",
       "      <td>DSL</td>\n",
       "      <td>Yes</td>\n",
       "      <td>Yes</td>\n",
       "      <td>No</td>\n",
       "      <td>No</td>\n",
       "      <td>No</td>\n",
       "      <td>No</td>\n",
       "      <td>Month-to-month</td>\n",
       "      <td>Yes</td>\n",
       "      <td>Mailed check</td>\n",
       "      <td>53.85</td>\n",
       "      <td>108.15</td>\n",
       "      <td>Yes</td>\n",
       "    </tr>\n",
       "    <tr>\n",
       "      <th>3</th>\n",
       "      <td>1</td>\n",
       "      <td>0</td>\n",
       "      <td>0</td>\n",
       "      <td>0</td>\n",
       "      <td>45</td>\n",
       "      <td>0</td>\n",
       "      <td>DSL</td>\n",
       "      <td>Yes</td>\n",
       "      <td>No</td>\n",
       "      <td>Yes</td>\n",
       "      <td>Yes</td>\n",
       "      <td>No</td>\n",
       "      <td>No</td>\n",
       "      <td>One year</td>\n",
       "      <td>No</td>\n",
       "      <td>Bank transfer (automatic)</td>\n",
       "      <td>42.30</td>\n",
       "      <td>1840.75</td>\n",
       "      <td>No</td>\n",
       "    </tr>\n",
       "    <tr>\n",
       "      <th>4</th>\n",
       "      <td>0</td>\n",
       "      <td>0</td>\n",
       "      <td>0</td>\n",
       "      <td>0</td>\n",
       "      <td>2</td>\n",
       "      <td>1</td>\n",
       "      <td>Fiber optic</td>\n",
       "      <td>No</td>\n",
       "      <td>No</td>\n",
       "      <td>No</td>\n",
       "      <td>No</td>\n",
       "      <td>No</td>\n",
       "      <td>No</td>\n",
       "      <td>Month-to-month</td>\n",
       "      <td>Yes</td>\n",
       "      <td>Electronic check</td>\n",
       "      <td>70.70</td>\n",
       "      <td>151.65</td>\n",
       "      <td>Yes</td>\n",
       "    </tr>\n",
       "  </tbody>\n",
       "</table>\n",
       "</div>"
      ],
      "text/plain": [
       "   Gender  Seniorcitizen  Partner  Dependents  Tenure Phoneservice  \\\n",
       "0       0              0        1           0       1            0   \n",
       "1       1              0        0           0      34            1   \n",
       "2       1              0        0           0       2            1   \n",
       "3       1              0        0           0      45            0   \n",
       "4       0              0        0           0       2            1   \n",
       "\n",
       "  Internetservice Onlinesecurity Onlinebackup Deviceprotection Techsupport  \\\n",
       "0             DSL             No          Yes               No          No   \n",
       "1             DSL            Yes           No              Yes          No   \n",
       "2             DSL            Yes          Yes               No          No   \n",
       "3             DSL            Yes           No              Yes         Yes   \n",
       "4     Fiber optic             No           No               No          No   \n",
       "\n",
       "  Streamingtv Streamingmovies        Contract Paperlessbilling  \\\n",
       "0          No              No  Month-to-month              Yes   \n",
       "1          No              No        One year               No   \n",
       "2          No              No  Month-to-month              Yes   \n",
       "3          No              No        One year               No   \n",
       "4          No              No  Month-to-month              Yes   \n",
       "\n",
       "               Paymentmethod  Monthlycharges  Totalcharges Churn  \n",
       "0           Electronic check           29.85         29.85    No  \n",
       "1               Mailed check           56.95       1889.50    No  \n",
       "2               Mailed check           53.85        108.15   Yes  \n",
       "3  Bank transfer (automatic)           42.30       1840.75    No  \n",
       "4           Electronic check           70.70        151.65   Yes  "
      ]
     },
     "execution_count": 109,
     "metadata": {},
     "output_type": "execute_result"
    }
   ],
   "source": [
    "condition_dict = {}\n",
    "\n",
    "condition_dict[1] = df[\"Phoneservice\"] == \"No\"\n",
    "condition_dict[2] = df[\"Multiplelines\"] == \"Yes\"\n",
    "condition_dict[3] = df[\"Phoneservice\"] == \"Yes\"\n",
    "\n",
    "df.loc[condition_dict[1], \"Phoneservice\"] = 0\n",
    "df.loc[condition_dict[2], \"Phoneservice\"] = 2\n",
    "df.loc[condition_dict[3], \"Phoneservice\"] = 1\n",
    "\n",
    "df.drop([\"Multiplelines\"], axis = 1, inplace = True)\n",
    "\n",
    "df.head(5)"
   ]
  },
  {
   "cell_type": "code",
   "execution_count": 110,
   "metadata": {},
   "outputs": [
    {
     "data": {
      "text/html": [
       "<div>\n",
       "<style scoped>\n",
       "    .dataframe tbody tr th:only-of-type {\n",
       "        vertical-align: middle;\n",
       "    }\n",
       "\n",
       "    .dataframe tbody tr th {\n",
       "        vertical-align: top;\n",
       "    }\n",
       "\n",
       "    .dataframe thead th {\n",
       "        text-align: right;\n",
       "    }\n",
       "</style>\n",
       "<table border=\"1\" class=\"dataframe\">\n",
       "  <thead>\n",
       "    <tr style=\"text-align: right;\">\n",
       "      <th></th>\n",
       "      <th>Gender</th>\n",
       "      <th>Seniorcitizen</th>\n",
       "      <th>Partner</th>\n",
       "      <th>Dependents</th>\n",
       "      <th>Tenure</th>\n",
       "      <th>Phoneservice</th>\n",
       "      <th>Internetservice</th>\n",
       "      <th>Onlinesecurity</th>\n",
       "      <th>Onlinebackup</th>\n",
       "      <th>Deviceprotection</th>\n",
       "      <th>Techsupport</th>\n",
       "      <th>Streamingtv</th>\n",
       "      <th>Streamingmovies</th>\n",
       "      <th>Contract</th>\n",
       "      <th>Paperlessbilling</th>\n",
       "      <th>Paymentmethod</th>\n",
       "      <th>Monthlycharges</th>\n",
       "      <th>Totalcharges</th>\n",
       "      <th>Churn</th>\n",
       "    </tr>\n",
       "  </thead>\n",
       "  <tbody>\n",
       "    <tr>\n",
       "      <th>0</th>\n",
       "      <td>0</td>\n",
       "      <td>0</td>\n",
       "      <td>1</td>\n",
       "      <td>0</td>\n",
       "      <td>1</td>\n",
       "      <td>0</td>\n",
       "      <td>1</td>\n",
       "      <td>No</td>\n",
       "      <td>Yes</td>\n",
       "      <td>No</td>\n",
       "      <td>No</td>\n",
       "      <td>No</td>\n",
       "      <td>No</td>\n",
       "      <td>Month-to-month</td>\n",
       "      <td>Yes</td>\n",
       "      <td>Electronic check</td>\n",
       "      <td>29.85</td>\n",
       "      <td>29.85</td>\n",
       "      <td>No</td>\n",
       "    </tr>\n",
       "    <tr>\n",
       "      <th>1</th>\n",
       "      <td>1</td>\n",
       "      <td>0</td>\n",
       "      <td>0</td>\n",
       "      <td>0</td>\n",
       "      <td>34</td>\n",
       "      <td>1</td>\n",
       "      <td>1</td>\n",
       "      <td>Yes</td>\n",
       "      <td>No</td>\n",
       "      <td>Yes</td>\n",
       "      <td>No</td>\n",
       "      <td>No</td>\n",
       "      <td>No</td>\n",
       "      <td>One year</td>\n",
       "      <td>No</td>\n",
       "      <td>Mailed check</td>\n",
       "      <td>56.95</td>\n",
       "      <td>1889.50</td>\n",
       "      <td>No</td>\n",
       "    </tr>\n",
       "    <tr>\n",
       "      <th>2</th>\n",
       "      <td>1</td>\n",
       "      <td>0</td>\n",
       "      <td>0</td>\n",
       "      <td>0</td>\n",
       "      <td>2</td>\n",
       "      <td>1</td>\n",
       "      <td>1</td>\n",
       "      <td>Yes</td>\n",
       "      <td>Yes</td>\n",
       "      <td>No</td>\n",
       "      <td>No</td>\n",
       "      <td>No</td>\n",
       "      <td>No</td>\n",
       "      <td>Month-to-month</td>\n",
       "      <td>Yes</td>\n",
       "      <td>Mailed check</td>\n",
       "      <td>53.85</td>\n",
       "      <td>108.15</td>\n",
       "      <td>Yes</td>\n",
       "    </tr>\n",
       "    <tr>\n",
       "      <th>3</th>\n",
       "      <td>1</td>\n",
       "      <td>0</td>\n",
       "      <td>0</td>\n",
       "      <td>0</td>\n",
       "      <td>45</td>\n",
       "      <td>0</td>\n",
       "      <td>1</td>\n",
       "      <td>Yes</td>\n",
       "      <td>No</td>\n",
       "      <td>Yes</td>\n",
       "      <td>Yes</td>\n",
       "      <td>No</td>\n",
       "      <td>No</td>\n",
       "      <td>One year</td>\n",
       "      <td>No</td>\n",
       "      <td>Bank transfer (automatic)</td>\n",
       "      <td>42.30</td>\n",
       "      <td>1840.75</td>\n",
       "      <td>No</td>\n",
       "    </tr>\n",
       "    <tr>\n",
       "      <th>4</th>\n",
       "      <td>0</td>\n",
       "      <td>0</td>\n",
       "      <td>0</td>\n",
       "      <td>0</td>\n",
       "      <td>2</td>\n",
       "      <td>1</td>\n",
       "      <td>2</td>\n",
       "      <td>No</td>\n",
       "      <td>No</td>\n",
       "      <td>No</td>\n",
       "      <td>No</td>\n",
       "      <td>No</td>\n",
       "      <td>No</td>\n",
       "      <td>Month-to-month</td>\n",
       "      <td>Yes</td>\n",
       "      <td>Electronic check</td>\n",
       "      <td>70.70</td>\n",
       "      <td>151.65</td>\n",
       "      <td>Yes</td>\n",
       "    </tr>\n",
       "  </tbody>\n",
       "</table>\n",
       "</div>"
      ],
      "text/plain": [
       "   Gender  Seniorcitizen  Partner  Dependents  Tenure Phoneservice  \\\n",
       "0       0              0        1           0       1            0   \n",
       "1       1              0        0           0      34            1   \n",
       "2       1              0        0           0       2            1   \n",
       "3       1              0        0           0      45            0   \n",
       "4       0              0        0           0       2            1   \n",
       "\n",
       "   Internetservice Onlinesecurity Onlinebackup Deviceprotection Techsupport  \\\n",
       "0                1             No          Yes               No          No   \n",
       "1                1            Yes           No              Yes          No   \n",
       "2                1            Yes          Yes               No          No   \n",
       "3                1            Yes           No              Yes         Yes   \n",
       "4                2             No           No               No          No   \n",
       "\n",
       "  Streamingtv Streamingmovies        Contract Paperlessbilling  \\\n",
       "0          No              No  Month-to-month              Yes   \n",
       "1          No              No        One year               No   \n",
       "2          No              No  Month-to-month              Yes   \n",
       "3          No              No        One year               No   \n",
       "4          No              No  Month-to-month              Yes   \n",
       "\n",
       "               Paymentmethod  Monthlycharges  Totalcharges Churn  \n",
       "0           Electronic check           29.85         29.85    No  \n",
       "1               Mailed check           56.95       1889.50    No  \n",
       "2               Mailed check           53.85        108.15   Yes  \n",
       "3  Bank transfer (automatic)           42.30       1840.75    No  \n",
       "4           Electronic check           70.70        151.65   Yes  "
      ]
     },
     "execution_count": 110,
     "metadata": {},
     "output_type": "execute_result"
    }
   ],
   "source": [
    "df[\"Internetservice\"] = df[\"Internetservice\"].replace([\"No\", \"DSL\", \"Fiber optic\"], [0, 1, 2])\n",
    "\n",
    "df.head(5)"
   ]
  },
  {
   "cell_type": "code",
   "execution_count": 111,
   "metadata": {},
   "outputs": [
    {
     "data": {
      "text/html": [
       "<div>\n",
       "<style scoped>\n",
       "    .dataframe tbody tr th:only-of-type {\n",
       "        vertical-align: middle;\n",
       "    }\n",
       "\n",
       "    .dataframe tbody tr th {\n",
       "        vertical-align: top;\n",
       "    }\n",
       "\n",
       "    .dataframe thead th {\n",
       "        text-align: right;\n",
       "    }\n",
       "</style>\n",
       "<table border=\"1\" class=\"dataframe\">\n",
       "  <thead>\n",
       "    <tr style=\"text-align: right;\">\n",
       "      <th></th>\n",
       "      <th>Field_Name</th>\n",
       "      <th>Unique_Values</th>\n",
       "    </tr>\n",
       "  </thead>\n",
       "  <tbody>\n",
       "    <tr>\n",
       "      <th>1</th>\n",
       "      <td>Onlinesecurity</td>\n",
       "      <td>0 | 1</td>\n",
       "    </tr>\n",
       "    <tr>\n",
       "      <th>2</th>\n",
       "      <td>Onlinebackup</td>\n",
       "      <td>1 | 0</td>\n",
       "    </tr>\n",
       "    <tr>\n",
       "      <th>3</th>\n",
       "      <td>Deviceprotection</td>\n",
       "      <td>0 | 1</td>\n",
       "    </tr>\n",
       "    <tr>\n",
       "      <th>4</th>\n",
       "      <td>Techsupport</td>\n",
       "      <td>0 | 1</td>\n",
       "    </tr>\n",
       "    <tr>\n",
       "      <th>5</th>\n",
       "      <td>Streamingtv</td>\n",
       "      <td>0 | 1</td>\n",
       "    </tr>\n",
       "    <tr>\n",
       "      <th>6</th>\n",
       "      <td>Streamingmovies</td>\n",
       "      <td>0 | 1</td>\n",
       "    </tr>\n",
       "  </tbody>\n",
       "</table>\n",
       "</div>"
      ],
      "text/plain": [
       "         Field_Name Unique_Values\n",
       "1    Onlinesecurity         0 | 1\n",
       "2      Onlinebackup         1 | 0\n",
       "3  Deviceprotection         0 | 1\n",
       "4       Techsupport         0 | 1\n",
       "5       Streamingtv         0 | 1\n",
       "6   Streamingmovies         0 | 1"
      ]
     },
     "execution_count": 111,
     "metadata": {},
     "output_type": "execute_result"
    }
   ],
   "source": [
    "for field in cat_fields[7: 13]:\n",
    "    df[field] = df[field].replace([\"No internet service\", \"No\", \"Yes\"], [0, 0, 1])\n",
    "    \n",
    "f_unique_values(df[cat_fields[7: 13]])"
   ]
  },
  {
   "cell_type": "code",
   "execution_count": 181,
   "metadata": {},
   "outputs": [
    {
     "data": {
      "image/png": "[encoded data removed]",
      "text/plain": [
       "<Figure size 1000x500 with 1 Axes>"
      ]
     },
     "metadata": {},
     "output_type": "display_data"
    }
   ],
   "source": [
    "title_font = {\"family\" : \"arial\", \"color\" : \"k\", \"weight\" : \"bold\", \"size\" : 14}\n",
    "axes_font = {\"family\" : \"arial\", \"color\" : \"darkgreen\", \"weight\" : \"bold\", \"size\" : 12}\n",
    "\n",
    "cmap = plt.cm.get_cmap(\"Greens\")\n",
    "\n",
    "service_df = df[cat_fields[7: 13]].copy()\n",
    "\n",
    "service_df[\"Signed Up Services\"] = service_df.sum(axis = 1)\n",
    "\n",
    "signed_up_services_num = list(service_df[\"Signed Up Services\"].value_counts().index)\n",
    "signed_up_services_num = [str(i) for i in signed_up_services_num]\n",
    "\n",
    "frequency = list(service_df[\"Signed Up Services\"].value_counts())\n",
    "    \n",
    "fig = plt.figure(figsize = (10, 5))\n",
    " \n",
    "plt.bar(signed_up_services_num, frequency, color = cmap(frequency/np.max(frequency)), width = 0.4)\n",
    "plt.grid(which = \"major\", axis = \"y\", linestyle = \"--\", color = \"grey\", alpha = 0.5)\n",
    "\n",
    "for i, v in enumerate(frequency):\n",
    "    plt.text(i, v, str(round(((v / len(df)) * 100), 2)) + \"%\",\n",
    "             ha = \"center\", va = \"bottom\", weight = \"bold\")\n",
    "    \n",
    "plt.ylim([0, 1.1 * max(frequency)])\n",
    "\n",
    "plt.title(\"Signed Up Services Number Frquency Chart\", fontdict = title_font)\n",
    "plt.xlabel(\"Signed Up Services Number\", fontdict = axes_font)\n",
    "plt.ylabel(\"Frequency\", fontdict = axes_font)\n",
    "\n",
    "plt.show()"
   ]
  },
  {
   "cell_type": "code",
   "execution_count": 195,
   "metadata": {},
   "outputs": [
    {
     "data": {
      "image/png": "[encoded data removed]",
      "text/plain": [
       "<Figure size 1500x3000 with 12 Axes>"
      ]
     },
     "metadata": {},
     "output_type": "display_data"
    }
   ],
   "source": [
    "main_title_font = {\"family\" : \"arial\", \"color\" : \"k\", \"weight\" : \"bold\", \"size\" : 20}\n",
    "title_font = {\"family\" : \"arial\", \"color\" : \"k\", \"weight\" : \"bold\", \"size\" : 10}\n",
    "axes_font = {\"family\" : \"arial\", \"color\" : \"darkgreen\", \"weight\" : \"bold\", \"size\" : 10}\n",
    "\n",
    "fig, axes = plt.subplots(6, 2, figsize=(15, 30))\n",
    "\n",
    "for field in cat_fields[7: 13]:\n",
    "      \n",
    "    i = cat_fields[7: 13].index(field)\n",
    "        \n",
    "    service_query_df = service_df[service_df[field] == 1]\n",
    "    \n",
    "    signed_up_services_num = list(service_query_df[\"Signed Up Services\"].value_counts().index)\n",
    "    signed_up_services_num = [str(i) for i in signed_up_services_num]\n",
    "\n",
    "    signed_up_services_frequency = list(service_query_df[\"Signed Up Services\"].value_counts())\n",
    "        \n",
    "    service_query_df.drop([field, \"Signed Up Services\"], axis = 1, inplace = True)\n",
    "    \n",
    "    other_signedup_services = [field_ for field_ in cat_fields[7: 13] if field_ != field]\n",
    "    other_signedup_services_frequency = list(service_query_df.sum())\n",
    "\n",
    "    # Pie Chart Settings\n",
    "    axes[i, 0].pie(other_signedup_services_frequency, labels = other_signedup_services)\n",
    "    \n",
    "    axes[i, 0].set_title(f\"Signed Up Services by Users Using {field} Service\", fontdict = title_font)\n",
    "\n",
    "    # Bar Chart Settings\n",
    "    axes[i, 1].bar(signed_up_services_num, signed_up_services_frequency, color = cmap(frequency/np.max(frequency)), width = 0.4)\n",
    "    axes[i, 1].grid(which = \"major\", axis = \"y\", linestyle = \"--\", color = \"grey\", alpha = 0.5)\n",
    "    \n",
    "    axes[i, 1].set_title(f\"Number of Signed Up Services by Users Using {field} Service\", fontdict = title_font)\n",
    "    axes[i, 1].set_xlabel(\"Signed Up Services Number\", fontdict = axes_font)\n",
    "    axes[i, 1].set_ylabel(\"Frequency\", fontdict = axes_font)\n",
    "\n",
    "    for j, v in enumerate(signed_up_services_frequency):\n",
    "        \n",
    "        axes[i, 1].text(j, v, str(round(((v / len(service_query_df)) * 100), 2)) + \"%\",\n",
    "                        ha = \"center\", va = \"bottom\", fontsize = 9, weight = \"bold\")\n",
    "        axes[i, 1].set_ylim([0, 1.15 * max(signed_up_services_frequency)])\n",
    "\n",
    "fig.subplots_adjust(hspace = 0.5)\n",
    "\n",
    "fig.suptitle(\"Internet Services Analysis\", y = 0.91, fontsize = 18, fontweight = \"bold\")\n",
    "\n",
    "plt.show()"
   ]
  },
  {
   "cell_type": "code",
   "execution_count": null,
   "metadata": {},
   "outputs": [],
   "source": []
  },
  {
   "attachments": {},
   "cell_type": "markdown",
   "metadata": {},
   "source": [
    "### Examining The Missing Data\n"
   ]
  },
  {
   "cell_type": "code",
   "execution_count": null,
   "metadata": {},
   "outputs": [],
   "source": []
  },
  {
   "attachments": {},
   "cell_type": "markdown",
   "metadata": {},
   "source": [
    "### Filling The Missing Values\n"
   ]
  },
  {
   "cell_type": "code",
   "execution_count": null,
   "metadata": {},
   "outputs": [],
   "source": []
  },
  {
   "attachments": {},
   "cell_type": "markdown",
   "metadata": {},
   "source": [
    "[Project Content](#0)\n"
   ]
  },
  {
   "attachments": {},
   "cell_type": "markdown",
   "metadata": {},
   "source": [
    "## 5. Numeric Fields Analysis <a id = 5></a>\n"
   ]
  },
  {
   "attachments": {},
   "cell_type": "markdown",
   "metadata": {},
   "source": [
    "### Bi-Variate Analysis between Numeric Fields and Target\n"
   ]
  },
  {
   "cell_type": "code",
   "execution_count": null,
   "metadata": {},
   "outputs": [],
   "source": []
  },
  {
   "attachments": {},
   "cell_type": "markdown",
   "metadata": {},
   "source": [
    "### Analysis between Numeric Fields Among Themselves\n"
   ]
  },
  {
   "cell_type": "code",
   "execution_count": null,
   "metadata": {},
   "outputs": [],
   "source": []
  },
  {
   "attachments": {},
   "cell_type": "markdown",
   "metadata": {},
   "source": [
    "### Correlation Analysis between Numeric Fields and Target\n"
   ]
  },
  {
   "cell_type": "code",
   "execution_count": null,
   "metadata": {},
   "outputs": [],
   "source": []
  },
  {
   "attachments": {},
   "cell_type": "markdown",
   "metadata": {},
   "source": [
    "[Project Content](#0)\n"
   ]
  },
  {
   "attachments": {},
   "cell_type": "markdown",
   "metadata": {},
   "source": [
    "## 6. Categorical Fields Analysis <a id = 6></a>\n"
   ]
  },
  {
   "attachments": {},
   "cell_type": "markdown",
   "metadata": {},
   "source": [
    "### Bi-Variate Analysis between Categorical Fields and Target\n"
   ]
  },
  {
   "cell_type": "code",
   "execution_count": null,
   "metadata": {},
   "outputs": [],
   "source": []
  },
  {
   "attachments": {},
   "cell_type": "markdown",
   "metadata": {},
   "source": [
    "### Correlation Analysis between Categorical Fields and Target\n"
   ]
  },
  {
   "cell_type": "code",
   "execution_count": null,
   "metadata": {},
   "outputs": [],
   "source": []
  },
  {
   "attachments": {},
   "cell_type": "markdown",
   "metadata": {},
   "source": [
    "[Project Content](#0)\n"
   ]
  },
  {
   "attachments": {},
   "cell_type": "markdown",
   "metadata": {},
   "source": [
    "## 7. Feature Scaling <a id = 7></a>\n"
   ]
  },
  {
   "attachments": {},
   "cell_type": "markdown",
   "metadata": {},
   "source": [
    "[Project Content](#0)\n"
   ]
  },
  {
   "attachments": {},
   "cell_type": "markdown",
   "id": "8203207b",
   "metadata": {
    "papermill": {
     "duration": 0.329495,
     "end_time": "2022-04-21T13:58:27.622505",
     "exception": false,
     "start_time": "2022-04-21T13:58:27.293010",
     "status": "completed"
    },
    "tags": []
   },
   "source": [
    "## 8. Correlation Analysis <a id = 8></a>\n"
   ]
  },
  {
   "attachments": {},
   "cell_type": "markdown",
   "id": "8203207b",
   "metadata": {
    "papermill": {
     "duration": 0.329495,
     "end_time": "2022-04-21T13:58:27.622505",
     "exception": false,
     "start_time": "2022-04-21T13:58:27.293010",
     "status": "completed"
    },
    "tags": []
   },
   "source": [
    "### Numeric fields and Target Value Correlation Analysis\n"
   ]
  },
  {
   "cell_type": "code",
   "execution_count": null,
   "metadata": {},
   "outputs": [],
   "source": []
  },
  {
   "attachments": {},
   "cell_type": "markdown",
   "id": "dc4085c2",
   "metadata": {
    "papermill": {
     "duration": 0.330287,
     "end_time": "2022-04-21T13:58:33.896590",
     "exception": false,
     "start_time": "2022-04-21T13:58:33.566303",
     "status": "completed"
    },
    "tags": []
   },
   "source": [
    "### Numeric and Categorical Fields Correlation Analysis\n"
   ]
  },
  {
   "cell_type": "code",
   "execution_count": null,
   "metadata": {},
   "outputs": [],
   "source": []
  },
  {
   "attachments": {},
   "cell_type": "markdown",
   "id": "dc4085c2",
   "metadata": {
    "papermill": {
     "duration": 0.330287,
     "end_time": "2022-04-21T13:58:33.896590",
     "exception": false,
     "start_time": "2022-04-21T13:58:33.566303",
     "status": "completed"
    },
    "tags": []
   },
   "source": [
    "### Dropping Columns with Low Correlation\n"
   ]
  },
  {
   "cell_type": "code",
   "execution_count": null,
   "metadata": {},
   "outputs": [],
   "source": []
  },
  {
   "attachments": {},
   "cell_type": "markdown",
   "metadata": {},
   "source": [
    "[Project Content](#0)\n"
   ]
  },
  {
   "attachments": {},
   "cell_type": "markdown",
   "id": "dc4085c2",
   "metadata": {
    "papermill": {
     "duration": 0.330287,
     "end_time": "2022-04-21T13:58:33.896590",
     "exception": false,
     "start_time": "2022-04-21T13:58:33.566303",
     "status": "completed"
    },
    "tags": []
   },
   "source": [
    "## 9. Dealing with Outliers <a id = 9></a>\n"
   ]
  },
  {
   "attachments": {},
   "cell_type": "markdown",
   "metadata": {},
   "source": [
    "[Project Content](#0)\n"
   ]
  },
  {
   "attachments": {},
   "cell_type": "markdown",
   "id": "dc4085c2",
   "metadata": {
    "papermill": {
     "duration": 0.330287,
     "end_time": "2022-04-21T13:58:33.896590",
     "exception": false,
     "start_time": "2022-04-21T13:58:33.566303",
     "status": "completed"
    },
    "tags": []
   },
   "source": [
    "## 12. Determining Distributions of Numeric Fields <a id = 12></a>\n"
   ]
  },
  {
   "attachments": {},
   "cell_type": "markdown",
   "metadata": {},
   "source": [
    "[Project Content](#0)\n"
   ]
  },
  {
   "attachments": {},
   "cell_type": "markdown",
   "id": "dc4085c2",
   "metadata": {
    "papermill": {
     "duration": 0.330287,
     "end_time": "2022-04-21T13:58:33.896590",
     "exception": false,
     "start_time": "2022-04-21T13:58:33.566303",
     "status": "completed"
    },
    "tags": []
   },
   "source": [
    "## 13. Appllying One Hot Encoding to Categorical Fields <a id = 13></a>\n"
   ]
  },
  {
   "attachments": {},
   "cell_type": "markdown",
   "metadata": {},
   "source": [
    "[Project Content](#0)\n"
   ]
  },
  {
   "attachments": {},
   "cell_type": "markdown",
   "id": "dc4085c2",
   "metadata": {
    "papermill": {
     "duration": 0.330287,
     "end_time": "2022-04-21T13:58:33.896590",
     "exception": false,
     "start_time": "2022-04-21T13:58:33.566303",
     "status": "completed"
    },
    "tags": []
   },
   "source": [
    "## 14. Feature Scaling with The RobustScaler Method <a id = 14></a>\n"
   ]
  },
  {
   "attachments": {},
   "cell_type": "markdown",
   "metadata": {},
   "source": [
    "[Project Content](#0)\n"
   ]
  },
  {
   "attachments": {},
   "cell_type": "markdown",
   "id": "dc4085c2",
   "metadata": {
    "papermill": {
     "duration": 0.330287,
     "end_time": "2022-04-21T13:58:33.896590",
     "exception": false,
     "start_time": "2022-04-21T13:58:33.566303",
     "status": "completed"
    },
    "tags": []
   },
   "source": [
    "## 15. Seperating Data into Two Parts of Train and Test <a id = 15></a>\n"
   ]
  },
  {
   "attachments": {},
   "cell_type": "markdown",
   "metadata": {},
   "source": [
    "[Project Content](#0)\n"
   ]
  },
  {
   "attachments": {},
   "cell_type": "markdown",
   "id": "dc4085c2",
   "metadata": {
    "papermill": {
     "duration": 0.330287,
     "end_time": "2022-04-21T13:58:33.896590",
     "exception": false,
     "start_time": "2022-04-21T13:58:33.566303",
     "status": "completed"
    },
    "tags": []
   },
   "source": [
    "## 16. Modelling (Logistic Regression) <a id = 16></a>\n"
   ]
  },
  {
   "attachments": {},
   "cell_type": "markdown",
   "id": "dc4085c2",
   "metadata": {
    "papermill": {
     "duration": 0.330287,
     "end_time": "2022-04-21T13:58:33.896590",
     "exception": false,
     "start_time": "2022-04-21T13:58:33.566303",
     "status": "completed"
    },
    "tags": []
   },
   "source": [
    "## 17. Cross Validation (Logistic Regression) <a id = 17></a>\n"
   ]
  },
  {
   "attachments": {},
   "cell_type": "markdown",
   "id": "dc4085c2",
   "metadata": {
    "papermill": {
     "duration": 0.330287,
     "end_time": "2022-04-21T13:58:33.896590",
     "exception": false,
     "start_time": "2022-04-21T13:58:33.566303",
     "status": "completed"
    },
    "tags": []
   },
   "source": [
    "## 18. AUC-ROC Curve (Logistic Regression) <a id = 18></a>\n"
   ]
  },
  {
   "attachments": {},
   "cell_type": "markdown",
   "id": "dc4085c2",
   "metadata": {
    "papermill": {
     "duration": 0.330287,
     "end_time": "2022-04-21T13:58:33.896590",
     "exception": false,
     "start_time": "2022-04-21T13:58:33.566303",
     "status": "completed"
    },
    "tags": []
   },
   "source": [
    "## 19. Hyper Parameter Optimization (Logistic Regression) <a id = 19></a>\n"
   ]
  },
  {
   "attachments": {},
   "cell_type": "markdown",
   "id": "dc4085c2",
   "metadata": {
    "papermill": {
     "duration": 0.330287,
     "end_time": "2022-04-21T13:58:33.896590",
     "exception": false,
     "start_time": "2022-04-21T13:58:33.566303",
     "status": "completed"
    },
    "tags": []
   },
   "source": [
    "## 20. Modelling (Desicion Tree) <a id = 20></a>\n"
   ]
  },
  {
   "attachments": {},
   "cell_type": "markdown",
   "id": "dc4085c2",
   "metadata": {
    "papermill": {
     "duration": 0.330287,
     "end_time": "2022-04-21T13:58:33.896590",
     "exception": false,
     "start_time": "2022-04-21T13:58:33.566303",
     "status": "completed"
    },
    "tags": []
   },
   "source": [
    "## 21. Cross Validation (Desicion Tree) <a id = 21></a>\n"
   ]
  },
  {
   "attachments": {},
   "cell_type": "markdown",
   "id": "dc4085c2",
   "metadata": {
    "papermill": {
     "duration": 0.330287,
     "end_time": "2022-04-21T13:58:33.896590",
     "exception": false,
     "start_time": "2022-04-21T13:58:33.566303",
     "status": "completed"
    },
    "tags": []
   },
   "source": [
    "## 22. AUC-ROC Curve (Desicion Tree) <a id = 22></a>\n"
   ]
  },
  {
   "attachments": {},
   "cell_type": "markdown",
   "id": "dc4085c2",
   "metadata": {
    "papermill": {
     "duration": 0.330287,
     "end_time": "2022-04-21T13:58:33.896590",
     "exception": false,
     "start_time": "2022-04-21T13:58:33.566303",
     "status": "completed"
    },
    "tags": []
   },
   "source": [
    "## 23. Hyper Parameter Optimization (Desicion Tree) <a id = 23></a>\n"
   ]
  },
  {
   "attachments": {},
   "cell_type": "markdown",
   "id": "dc4085c2",
   "metadata": {
    "papermill": {
     "duration": 0.330287,
     "end_time": "2022-04-21T13:58:33.896590",
     "exception": false,
     "start_time": "2022-04-21T13:58:33.566303",
     "status": "completed"
    },
    "tags": []
   },
   "source": [
    "## 24. Modelling (Support Vector Classification) <a id = 24></a>\n"
   ]
  },
  {
   "attachments": {},
   "cell_type": "markdown",
   "id": "dc4085c2",
   "metadata": {
    "papermill": {
     "duration": 0.330287,
     "end_time": "2022-04-21T13:58:33.896590",
     "exception": false,
     "start_time": "2022-04-21T13:58:33.566303",
     "status": "completed"
    },
    "tags": []
   },
   "source": [
    "### 25. Cross Validation (Support Vector Classification) <a id = 25></a>\n"
   ]
  },
  {
   "attachments": {},
   "cell_type": "markdown",
   "id": "dc4085c2",
   "metadata": {
    "papermill": {
     "duration": 0.330287,
     "end_time": "2022-04-21T13:58:33.896590",
     "exception": false,
     "start_time": "2022-04-21T13:58:33.566303",
     "status": "completed"
    },
    "tags": []
   },
   "source": [
    "## 26. AUC-ROC Curve (Support Vector Classification) <a id = 26></a>\n"
   ]
  },
  {
   "attachments": {},
   "cell_type": "markdown",
   "id": "dc4085c2",
   "metadata": {
    "papermill": {
     "duration": 0.330287,
     "end_time": "2022-04-21T13:58:33.896590",
     "exception": false,
     "start_time": "2022-04-21T13:58:33.566303",
     "status": "completed"
    },
    "tags": []
   },
   "source": [
    "## 27. Hyper Parameter Optimization (Support Vector Classification) <a id = 27></a>\n"
   ]
  },
  {
   "attachments": {},
   "cell_type": "markdown",
   "id": "dc4085c2",
   "metadata": {
    "papermill": {
     "duration": 0.330287,
     "end_time": "2022-04-21T13:58:33.896590",
     "exception": false,
     "start_time": "2022-04-21T13:58:33.566303",
     "status": "completed"
    },
    "tags": []
   },
   "source": [
    "## 28. Modelling (Random Forest Classification) <a id = 28></a>\n"
   ]
  },
  {
   "attachments": {},
   "cell_type": "markdown",
   "id": "dc4085c2",
   "metadata": {
    "papermill": {
     "duration": 0.330287,
     "end_time": "2022-04-21T13:58:33.896590",
     "exception": false,
     "start_time": "2022-04-21T13:58:33.566303",
     "status": "completed"
    },
    "tags": []
   },
   "source": [
    "## 29. Cross Validation (Random Forest Classification) <a id = 29></a>\n"
   ]
  },
  {
   "attachments": {},
   "cell_type": "markdown",
   "id": "dc4085c2",
   "metadata": {
    "papermill": {
     "duration": 0.330287,
     "end_time": "2022-04-21T13:58:33.896590",
     "exception": false,
     "start_time": "2022-04-21T13:58:33.566303",
     "status": "completed"
    },
    "tags": []
   },
   "source": [
    "## 30. AUC-ROC Curve (Random Forest Classification) <a id = 30></a>\n"
   ]
  },
  {
   "attachments": {},
   "cell_type": "markdown",
   "id": "dc4085c2",
   "metadata": {
    "papermill": {
     "duration": 0.330287,
     "end_time": "2022-04-21T13:58:33.896590",
     "exception": false,
     "start_time": "2022-04-21T13:58:33.566303",
     "status": "completed"
    },
    "tags": []
   },
   "source": [
    "## 31. Hyper Parameter Optimization (Random Forest Classification) <a id = 31></a>\n"
   ]
  }
 ],
 "metadata": {
  "kernelspec": {
   "display_name": "tensorflow",
   "language": "python",
   "name": "python3"
  },
  "language_info": {
   "codemirror_mode": {
    "name": "ipython",
    "version": 3
   },
   "file_extension": ".py",
   "mimetype": "text/x-python",
   "name": "python",
   "nbconvert_exporter": "python",
   "pygments_lexer": "ipython3",
   "version": "3.9.13"
  },
  "vscode": {
   "interpreter": {
    "hash": "4bd624a0593993fe43ac4046b27b898fb2ef75c21c08f81e89e64ea0f51df676"
   }
  }
 },
 "nbformat": 4,
 "nbformat_minor": 2
}
